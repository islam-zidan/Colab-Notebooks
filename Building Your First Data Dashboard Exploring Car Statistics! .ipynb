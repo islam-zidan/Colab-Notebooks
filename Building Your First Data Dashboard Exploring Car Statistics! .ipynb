{
    "nbformat": 4,
    "nbformat_minor": 0,
    "metadata": {
        "colab": {
            "provenance": []
        },
        "kernelspec": {
            "name": "python3",
            "display_name": "Python 3"
        },
        "language_info": {
            "name": "python"
        },
        "kernel_id": "0053fe89-10d0-468a-9878-7fbac45a961b"
    },
    "cells": [
        {
            "id": "5cfht7usoymo6yzvmtbhsm",
            "cell_type": "markdown",
            "source": [
                "![image.png](data:image/png;base64,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)"
            ],
            "metadata": {
                "id": "tU9UeHPJvXPH",
                "vocVersion": "1.1",
                "cellIdentifier": "5cfht7usoymo6yzvmtbhsm"
            },
            "execution_count": 0,
            "outputs": []
        },
        {
            "id": "pyy28w7gzmky668183g33",
            "cell_type": "markdown",
            "source": [
                "# 🚗 Building Your First Data Dashboard: Exploring Car Statistics!\n",
                "\n",
                "Welcome to an exciting lesson where we'll create our very own interactive dashboard to explore car data! Remember how in our last lesson we learned about displaying text, getting user input, and creating simple charts? In this lesson we're going to use all those skills to build something really cool—a dashboard that helps us understand different cars and their features.\n",
                "\n",
                "## 🎯 What We'll Build\n",
                "\n",
                "Imagine you're an analyst for a car dealership trying to help people understand different cars. You need to create a website that shows interesting information about cars, like:\n",
                "- How fuel efficient they are (miles per gallon).\n",
                "- How powerful their engines are (horsepower).\n",
                "- How heavy they are (weight).\n",
                "- What years they were made.\n",
                "\n",
                "By the end of this lesson, you'll have created a professional-looking dashboard that shows all this information in an easy-to-understand way!\n",
                "\n",
                "## 🚀 Getting Started\n",
                "\n",
                "First, let's make sure we have all our tools ready. Just like in our previous lesson, we need Streamlit and ngrok. Run these commands to install them:"
            ],
            "metadata": {
                "id": "NAQXaBL0cMOw",
                "vocVersion": "1.1",
                "cellIdentifier": "pyy28w7gzmky668183g33"
            },
            "execution_count": 0,
            "outputs": []
        },
        {
            "id": "10e8wyay39zmho1hj3xif",
            "cell_type": "markdown",
            "source": [
                "### 📦 Let's Get Our Tools Ready!\n",
                ""
            ],
            "metadata": {
                "id": "wG7ZA7ekxSmR",
                "vocVersion": "1.1",
                "cellIdentifier": "10e8wyay39zmho1hj3xif"
            },
            "execution_count": 0,
            "outputs": []
        },
        {
            "id": "36p348aojc2zhf71yhlwpo",
            "cell_type": "code",
            "source": [
                "import sys\n",
                "\n",
                "!{sys.executable} -m pip install streamlit pyngrok --quiet"
            ],
            "metadata": {
                "id": "p_YU80pDxUlY",
                "executionInfo": {
                    "status": "ok",
                    "timestamp": 1742100226394,
                    "user_tz": -120,
                    "elapsed": 19837,
                    "user": {
                        "displayName": "Islam Zidan",
                        "userId": "17227307713370715205"
                    }
                },
                "colab": {
                    "base_uri": "https://localhost:8080/"
                },
                "outputId": "356160c1-a73c-4f80-a052-e34a5ae0ceaf",
                "vocVersion": "1.1",
                "cellIdentifier": "36p348aojc2zhf71yhlwpo"
            },
            "execution_count": 1,
            "outputs": [
                {
                    "output_type": "stream",
                    "name": "stdout",
                    "text": [
                        "\u001b[2K     \u001b[90m━━━━━━━━━━━━━━━━━━━━━━━━━━━━━━━━━━━━━━━━\u001b[0m \u001b[32m44.3/44.3 kB\u001b[0m \u001b[31m1.2 MB/s\u001b[0m eta \u001b[36m0:00:00\u001b[0m\n",
                        "\u001b[2K   \u001b[90m━━━━━━━━━━━━━━━━━━━━━━━━━━━━━━━━━━━━━━━━\u001b[0m \u001b[32m9.7/9.7 MB\u001b[0m \u001b[31m29.4 MB/s\u001b[0m eta \u001b[36m0:00:00\u001b[0m\n",
                        "\u001b[2K   \u001b[90m━━━━━━━━━━━━━━━━━━━━━━━━━━━━━━━━━━━━━━━━\u001b[0m \u001b[32m6.9/6.9 MB\u001b[0m \u001b[31m47.7 MB/s\u001b[0m eta \u001b[36m0:00:00\u001b[0m\n",
                        "\u001b[2K   \u001b[90m━━━━━━━━━━━━━━━━━━━━━━━━━━━━━━━━━━━━━━━━\u001b[0m \u001b[32m79.1/79.1 kB\u001b[0m \u001b[31m1.4 MB/s\u001b[0m eta \u001b[36m0:00:00\u001b[0m\n",
                        "\u001b[?25h"
                    ]
                }
            ]
        },
        {
            "id": "eeexmbwtlh98lfl6uboqc",
            "cell_type": "markdown",
            "source": [
                "Now let's tell Python about your ngrok key:"
            ],
            "metadata": {
                "id": "YNBpFOpnyS3g",
                "vocVersion": "1.1",
                "cellIdentifier": "eeexmbwtlh98lfl6uboqc"
            },
            "execution_count": 0,
            "outputs": []
        },
        {
            "id": "1onda051646oht701d792i",
            "cell_type": "markdown",
            "source": [
                "**Save Your Key Using the Secrets Icon**  \n",
                "   - In the left-hand sidebar of your environment, look for the **secrets icon** (key icon).  \n",
                "   - Click on it and add a new secret with the key name `NGROK_AUTH_TOKEN`.  \n",
                "   - Paste your authtoken as the value and save it securely.\n",
                "\n",
                ""
            ],
            "metadata": {
                "id": "z1uGaYwUUVxn",
                "vocVersion": "1.1",
                "cellIdentifier": "1onda051646oht701d792i"
            },
            "execution_count": 0,
            "outputs": []
        },
        {
            "id": "fgv78z5g1i2dhw0l83tko",
            "cell_type": "code",
            "source": [
                "from pyngrok import ngrok\n",
                "from google.colab import userdata\n",
                "\n",
                "# Update the Secrets section in the left sidebar with the token you copied\n",
                "ngrok.set_auth_token(userdata.get('NGROK_AUTH_TOKEN'))"
            ],
            "metadata": {
                "id": "eqnhp-FIUanv",
                "executionInfo": {
                    "status": "ok",
                    "timestamp": 1742100592669,
                    "user_tz": -120,
                    "elapsed": 1086,
                    "user": {
                        "displayName": "Islam Zidan",
                        "userId": "17227307713370715205"
                    }
                },
                "vocVersion": "1.1",
                "cellIdentifier": "fgv78z5g1i2dhw0l83tko"
            },
            "execution_count": 7,
            "outputs": []
        },
        {
            "id": "eb2amy650hlcpr2kgnvjyq",
            "cell_type": "markdown",
            "source": [
                "Run the following code below to initialize the run_streamlit function:"
            ],
            "metadata": {
                "id": "kn1-yAUVcPSS",
                "vocVersion": "1.1",
                "cellIdentifier": "eb2amy650hlcpr2kgnvjyq"
            },
            "execution_count": 0,
            "outputs": []
        },
        {
            "id": "p1msi1jbv2q05l3bjq1am",
            "cell_type": "code",
            "source": [
                "import os\n",
                "def run_streamlit():\n",
                "    # Kill any running Streamlit instances\n",
                "    !killall ngrok\n",
                "    os.system(\"fuser -k 8501/tcp\")\n",
                "\n",
                "    # Run the Streamlit app\n",
                "    os.system(\"streamlit run app.py &>/dev/null&\")\n",
                "\n",
                "    # Create a new ngrok tunnel\n",
                "    public_url = ngrok.connect(8501)\n",
                "    print(f\"🌟 Your Streamlit app is running at: {public_url.public_url}\")\n",
                "    return public_url.public_url"
            ],
            "metadata": {
                "id": "b1OnkVlV88vP",
                "executionInfo": {
                    "status": "ok",
                    "timestamp": 1742100236990,
                    "user_tz": -120,
                    "elapsed": 32,
                    "user": {
                        "displayName": "Islam Zidan",
                        "userId": "17227307713370715205"
                    }
                },
                "vocVersion": "1.1",
                "cellIdentifier": "p1msi1jbv2q05l3bjq1am"
            },
            "execution_count": 3,
            "outputs": []
        },
        {
            "id": "nfft9cjvnyarc6av08lmq",
            "cell_type": "markdown",
            "source": [
                "## 📊 Understanding Our Data\n",
                "\n",
                "We'll be working with a dataset about cars that includes information like:\n",
                "- Miles per gallon (MPG): How far the car can drive using one gallon of fuel.\n",
                "- Horsepower: How powerful the engine is.\n",
                "- Weight: How heavy the car is.\n",
                "- Model year: When the car was made.\n",
                "- Origin: Where the car was made."
            ],
            "metadata": {
                "id": "-YyAAYMJciR-",
                "vocVersion": "1.1",
                "cellIdentifier": "nfft9cjvnyarc6av08lmq"
            },
            "execution_count": 0,
            "outputs": []
        },
        {
            "id": "ynlm62v4lhao500rs0a32m",
            "cell_type": "markdown",
            "source": [
                "## 📝 Task 1: Creating a Starting Page\n",
                "We'll begin by creating a simple home page.\n",
                "\n",
                "### Instructions\n",
                "\n",
                "1. Start by importing the necessary library:\n",
                "   ```python\n",
                "   import streamlit as st\n",
                "   ```\n",
                "\n",
                "2. Configure your page layout:\n",
                "   - Use `st.set_page_config()` to set up the basic page structure.\n",
                "   - The `layout=\"wide\"` parameter ensures your dashboard uses the full screen width.\n",
                "   - The `page_title` parameter sets what appears in the browser tab.\n",
                "\n",
                "3. Add a main title to your dashboard:\n",
                "   - Use `st.title()` to create a prominent heading.\n",
                "   - Include an emoji (🚗) to make it visually engaging.\n",
                "   - Remember that this will be the first thing users see.\n",
                "\n",
                "4. Add a welcome message:\n",
                "   - Use `st.write()` to add descriptive text below your title.\n",
                "   - Make the message clear and informative.\n",
                "\n",
                "### Starter Code"
            ],
            "metadata": {
                "id": "m6cXJeGOcUEQ",
                "vocVersion": "1.1",
                "cellIdentifier": "ynlm62v4lhao500rs0a32m"
            },
            "execution_count": 0,
            "outputs": []
        },
        {
            "id": "4qi2fjp6c7nnfzbbegk6u",
            "cell_type": "code",
            "source": [
                "%%writefile app.py\n",
                "import streamlit as st\n",
                "\n",
                "# TODO: Add page configuration here\n",
                "# Hint: Use st.set_page_config() with appropriate parameters\n",
                "### BEGIN SOLUTION\n",
                "st.set_page_config(\n",
                "    page_title=\"My Car Dashboard\",\n",
                "    layout=\"wide\"\n",
                ")\n",
                "### END SOLUTION\n",
                "\n",
                "# TODO: Add your dashboard title here\n",
                "# Hint: Use st.title() with a car emoji\n",
                "### BEGIN SOLUTION\n",
                "st.title(\"🚗 Welcome to My Car Dashboard!\")\n",
                "### END SOLUTION\n",
                "\n",
                "# TODO: Add your welcome message here\n",
                "# Hint: Use st.write() to introduce your dashboard\n",
                "### BEGIN SOLUTION\n",
                "st.write(\"Hello! This dashboard will help you learn about different cars.\")\n",
                "### END SOLUTION"
            ],
            "metadata": {
                "id": "E2slEp0gvcf7",
                "colab": {
                    "base_uri": "https://localhost:8080/"
                },
                "executionInfo": {
                    "status": "ok",
                    "timestamp": 1742100242870,
                    "user_tz": -120,
                    "elapsed": 8,
                    "user": {
                        "displayName": "Islam Zidan",
                        "userId": "17227307713370715205"
                    }
                },
                "outputId": "616b8eb6-40f6-4d23-a463-8b24f5bd55a0",
                "vocVersion": "1.1",
                "cellIdentifier": "4qi2fjp6c7nnfzbbegk6u",
                "nbgrader": {
                    "grade": true,
                    "locked": false,
                    "solution": true,
                    "grade_id": "Task 1",
                    "points": "5"
                }
            },
            "execution_count": 4,
            "outputs": [
                {
                    "output_type": "stream",
                    "name": "stdout",
                    "text": [
                        "Writing app.py\n"
                    ]
                }
            ]
        },
        {
            "id": "fl91nrcokrimgmyiekl09",
            "cell_type": "code",
            "source": [
                "import os\n",
                "# Un-comment this line and execute the cell to run the app\n",
                "# run_streamlit()"
            ],
            "metadata": {
                "id": "S7peoagKbQ97",
                "executionInfo": {
                    "status": "ok",
                    "timestamp": 1742100623616,
                    "user_tz": -120,
                    "elapsed": 5,
                    "user": {
                        "displayName": "Islam Zidan",
                        "userId": "17227307713370715205"
                    }
                },
                "vocVersion": "1.1",
                "cellIdentifier": "fl91nrcokrimgmyiekl09"
            },
            "execution_count": 14,
            "outputs": []
        },
        {
            "id": "7ji5manh9kyv88ceu7bexe",
            "cell_type": "markdown",
            "source": [
                "## 📊 Task 2: Loading and Displaying Car Data\n",
                "\n",
                "On our page, we'll now load car data from the CSV file and display it in a table format.\n",
                "\n",
                "### Instructions\n",
                "\n",
                "1. Add pandas to your imports.\n",
                "2. Create a function called `get_car_data()` that loads the car dataset.\n",
                "3. Display the total number of cars and show a preview of the data."
            ],
            "metadata": {
                "id": "eGr4j5ZMgA5m",
                "vocVersion": "1.1",
                "cellIdentifier": "7ji5manh9kyv88ceu7bexe"
            },
            "execution_count": 0,
            "outputs": []
        },
        {
            "id": "4bsibf4eniuiwlgauti6g",
            "cell_type": "code",
            "source": [
                "%%writefile app.py\n",
                "import streamlit as st\n",
                "import pandas as pd\n",
                "\n",
                "# Copy over your previous page configuration and title from Task 1\n",
                "### BEGIN SOLUTION\n",
                "st.set_page_config(\n",
                "    page_title=\"My Car Dashboard\",\n",
                "    layout=\"wide\"\n",
                ")\n",
                "\n",
                "# Add a big title\n",
                "st.title(\"🚗 Welcome to My Car Dashboard!\")\n",
                "\n",
                "# Write a friendly message\n",
                "st.write(\"Hello! This dashboard will help you learn about different cars.\")\n",
                "### END SOLUTION\n",
                "\n",
                "# TODO: Create a function to load the car data\n",
                "# Hint: Use @st.cache_data and pandas read_csv()\n",
                "@st.cache_data\n",
                "def get_car_data():\n",
                "    url = \"https://raw.githubusercontent.com/plotly/datasets/master/auto-mpg.csv\"\n",
                "    ### BEGIN SOLUTION\n",
                "    cars = pd.read_csv(url)\n",
                "    return cars\n",
                "    ### END SOLUTION\n",
                "\n",
                "# TODO: Load the data using your function\n",
                "### BEGIN SOLUTION\n",
                "cars = get_car_data()\n",
                "### END SOLUTION\n",
                "\n",
                "# TODO: Display the number of cars\n",
                "# Hint: Use len(cars) with st.write()\n",
                "### BEGIN SOLUTION\n",
                "st.write(f\"We have information about {len(cars)} different cars!\")\n",
                "### END SOLUTION\n",
                "\n",
                "# TODO: Show a preview of the data\n",
                "# Hint: Use st.dataframe() with cars.head()\n",
                "### BEGIN SOLUTION\n",
                "st.write(\"Here are some of the cars in our list:\")\n",
                "st.dataframe(cars.head())\n",
                "### END SOLUTION"
            ],
            "metadata": {
                "id": "RShwHg65wd7E",
                "colab": {
                    "base_uri": "https://localhost:8080/"
                },
                "executionInfo": {
                    "status": "ok",
                    "timestamp": 1742100600783,
                    "user_tz": -120,
                    "elapsed": 15,
                    "user": {
                        "displayName": "Islam Zidan",
                        "userId": "17227307713370715205"
                    }
                },
                "outputId": "323153f8-c8e9-4b69-c593-c452a3d3e0aa",
                "vocVersion": "1.1",
                "cellIdentifier": "4bsibf4eniuiwlgauti6g",
                "nbgrader": {
                    "grade": true,
                    "locked": false,
                    "solution": true,
                    "grade_id": "Task 2",
                    "points": "5"
                }
            },
            "execution_count": 9,
            "outputs": [
                {
                    "output_type": "stream",
                    "name": "stdout",
                    "text": [
                        "Overwriting app.py\n"
                    ]
                }
            ]
        },
        {
            "id": "3vy4o2aie7w8hj64qrfyew",
            "cell_type": "code",
            "source": [
                "# Un-comment this line and execute the cell to run the app\n",
                "# run_streamlit()"
            ],
            "metadata": {
                "id": "iNsAqv1NgV_U",
                "executionInfo": {
                    "status": "ok",
                    "timestamp": 1742100618048,
                    "user_tz": -120,
                    "elapsed": 11,
                    "user": {
                        "displayName": "Islam Zidan",
                        "userId": "17227307713370715205"
                    }
                },
                "vocVersion": "1.1",
                "cellIdentifier": "3vy4o2aie7w8hj64qrfyew"
            },
            "execution_count": 13,
            "outputs": []
        },
        {
            "id": "hrlteeto7w255s8xr7rn9",
            "cell_type": "markdown",
            "source": [
                "## 📊 Task 3: Adding Car Statistics Using Metrics\n",
                "\n",
                "### What We're Building\n",
                "We'll display three important car statistics in a clean, organized layout:\n",
                "- Average miles per gallon (MPG)\n",
                "- Average horsepower\n",
                "- Average weight\n",
                "\n",
                "### Instructions\n",
                "\n",
                "1. First, we'll create three equal columns using `st.columns(3)`.\n",
                "2. Calculate the average values using Pandas.\n",
                "3. Display each metric in its own column using `st.metric()`."
            ],
            "metadata": {
                "id": "ZLzl9J-Vhvi3",
                "vocVersion": "1.1",
                "cellIdentifier": "hrlteeto7w255s8xr7rn9"
            },
            "execution_count": 0,
            "outputs": []
        },
        {
            "id": "tw9x5ha4t6f5is8ysyxre6",
            "cell_type": "code",
            "source": [
                "%%writefile app.py\n",
                "import streamlit as st\n",
                "import pandas as pd\n",
                "\n",
                "# Copy over the Previous code. It remains the same...\n",
                "### BEGIN SOLUTION\n",
                "# Make our page look nice and wide\n",
                "st.set_page_config(\n",
                "    page_title=\"My Car Dashboard\",\n",
                "    layout=\"wide\"\n",
                ")\n",
                "\n",
                "# Add a big title\n",
                "st.title(\"🚗 Welcome to My Car Dashboard!\")\n",
                "\n",
                "# Write a friendly message\n",
                "st.write(\"Hello! This dashboard will help you learn about different cars.\")\n",
                "\n",
                "# Get our car data\n",
                "@st.cache_data\n",
                "def get_car_data():\n",
                "    url = \"https://raw.githubusercontent.com/plotly/datasets/master/auto-mpg.csv\"\n",
                "    cars = pd.read_csv(url)\n",
                "    return cars\n",
                "\n",
                "# Load the data\n",
                "cars = get_car_data()\n",
                "\n",
                "# Show how many cars we have\n",
                "st.write(f\"We have information about {len(cars)} different cars!\")\n",
                "\n",
                "# Show the first 5 cars in our list\n",
                "st.write(\"Here are some of the cars in our list:\")\n",
                "st.dataframe(cars.head())\n",
                "### END SOLUTION\n",
                "\n",
                "# TODO: Create three columns\n",
                "# Hint: Use st.columns(3) to split the page\n",
                "### BEGIN SOLUTION\n",
                "col1, col2, col3 = st.columns(3)\n",
                "### END SOLUTION\n",
                "\n",
                "# TODO: Calculate averages\n",
                "# TODO: Display metrics in columns\n",
                "# Hint: Use cars['column_name'].mean() and round()\n",
                "# Hint: Use st.metric() inside 'with' statements\n",
                "### BEGIN SOLUTION\n",
                "# Calculate some simple facts about our cars\n",
                "with col1:\n",
                "    average_mpg = round(cars['mpg'].mean(), 1)\n",
                "    st.metric(\"Average Miles per Gallon\", f\"{average_mpg} MPG\")\n",
                "\n",
                "with col2:\n",
                "    average_hp = round(cars['horsepower'].mean(), 1)\n",
                "    st.metric(\"Average Horsepower\", f\"{average_hp} HP\")\n",
                "\n",
                "with col3:\n",
                "    average_weight = round(cars['weight'].mean(), 1)\n",
                "    st.metric(\"Average Weight\", f\"{average_weight} lbs\")\n",
                "### END SOLUTION"
            ],
            "metadata": {
                "id": "1w5MTnEvxu-L",
                "colab": {
                    "base_uri": "https://localhost:8080/"
                },
                "executionInfo": {
                    "status": "ok",
                    "timestamp": 1742100627369,
                    "user_tz": -120,
                    "elapsed": 71,
                    "user": {
                        "displayName": "Islam Zidan",
                        "userId": "17227307713370715205"
                    }
                },
                "outputId": "945420ed-fb07-489c-f771-eebf0408db0f",
                "vocVersion": "1.1",
                "cellIdentifier": "tw9x5ha4t6f5is8ysyxre6",
                "nbgrader": {
                    "grade": true,
                    "locked": false,
                    "solution": true,
                    "grade_id": "Task 3",
                    "points": "5"
                }
            },
            "execution_count": 15,
            "outputs": [
                {
                    "output_type": "stream",
                    "name": "stdout",
                    "text": [
                        "Overwriting app.py\n"
                    ]
                }
            ]
        },
        {
            "id": "3ympvig5gcw4xwcuwwllee",
            "cell_type": "code",
            "source": [
                "# Un-comment this line and execute the cell to run the app\n",
                "# run_streamlit()"
            ],
            "metadata": {
                "id": "xsHch9GcuahD",
                "executionInfo": {
                    "status": "ok",
                    "timestamp": 1742100634568,
                    "user_tz": -120,
                    "elapsed": 6,
                    "user": {
                        "displayName": "Islam Zidan",
                        "userId": "17227307713370715205"
                    }
                },
                "vocVersion": "1.1",
                "cellIdentifier": "3ympvig5gcw4xwcuwwllee"
            },
            "execution_count": 17,
            "outputs": []
        },
        {
            "id": "3r6lfi2f1a5wmoittvggi",
            "cell_type": "markdown",
            "source": [
                "## 📈 Task 4: Creating Your First Data Visualization\n",
                "\n",
                "### What We're Building\n",
                "We'll create a bar chart to visualize the fuel efficiency (MPG) of different cars in our dataset.\n",
                "\n",
                "### Instructions\n",
                "\n",
                "1. Add a subheader for our visualization section.\n",
                "2. Create a bar chart showing miles per gallon (MPG) data.\n",
                "3. The chart should display all cars' MPG values for comparison."
            ],
            "metadata": {
                "id": "Ez3L2lO8ugUy",
                "vocVersion": "1.1",
                "cellIdentifier": "3r6lfi2f1a5wmoittvggi"
            },
            "execution_count": 0,
            "outputs": []
        },
        {
            "id": "bpnc9fer1pk0cm7zk4i8n8s",
            "cell_type": "code",
            "source": [
                "%%writefile app.py\n",
                "import streamlit as st\n",
                "import pandas as pd\n",
                "import plotly.express as px\n",
                "\n",
                "# Previous code remains the same...\n",
                "### BEGIN SOLUTION\n",
                "# Make our page look nice and wide\n",
                "st.set_page_config(\n",
                "    page_title=\"My Car Dashboard\",\n",
                "    layout=\"wide\"\n",
                ")\n",
                "\n",
                "# Add a big title\n",
                "st.title(\"🚗 Welcome to My Car Dashboard!\")\n",
                "\n",
                "# Write a friendly message\n",
                "st.write(\"Hello! This dashboard will help you learn about different cars.\")\n",
                "\n",
                "# Get our car data\n",
                "@st.cache_data\n",
                "def get_car_data():\n",
                "    url = \"https://raw.githubusercontent.com/plotly/datasets/master/auto-mpg.csv\"\n",
                "    cars = pd.read_csv(url)\n",
                "    return cars\n",
                "\n",
                "# Load the data\n",
                "cars = get_car_data()\n",
                "\n",
                "# Show how many cars we have\n",
                "st.write(f\"We have information about {len(cars)} different cars!\")\n",
                "\n",
                "# Show the first 5 cars in our list\n",
                "st.write(\"Here are some of the cars in our list:\")\n",
                "st.dataframe(cars.head())\n",
                "\n",
                "col1, col2, col3 = st.columns(3)\n",
                "\n",
                "# Calculate some simple facts about our cars\n",
                "with col1:\n",
                "    average_mpg = round(cars['mpg'].mean(), 1)\n",
                "    st.metric(\"Average Miles per Gallon\", f\"{average_mpg} MPG\")\n",
                "\n",
                "with col2:\n",
                "    average_hp = round(cars['horsepower'].mean(), 1)\n",
                "    st.metric(\"Average Horsepower\", f\"{average_hp} HP\")\n",
                "\n",
                "with col3:\n",
                "    average_weight = round(cars['weight'].mean(), 1)\n",
                "    st.metric(\"Average Weight\", f\"{average_weight} lbs\")\n",
                "### END SOLUTION\n",
                "\n",
                "# TODO: Add a subheader for the visualization\n",
                "# Hint: Use st.subheader()\n",
                "### BEGIN SOLUTION\n",
                "st.subheader(\"Car Fuel Efficiency Distribution\")\n",
                "### END SOLUTION\n",
                "\n",
                "# TODO: Sort the cars by MPG\n",
                "### BEGIN SOLUTION\n",
                "sorted_cars = cars.sort_values('mpg', ascending=True).reset_index()\n",
                "### END SOLUTION\n",
                "\n",
                "# TODO: Create a bar chart showing MPG data\n",
                "### BEGIN SOLUTION\n",
                "fig = px.bar(sorted_cars, y='mpg',\n",
                "             labels={'mpg': 'Miles per Gallon', 'index': 'Car Rank'},\n",
                "             title='Distribution of Fuel Efficiency Across All Cars')\n",
                "\n",
                "# Update layout to better show the distribution\n",
                "fig.update_layout(\n",
                "    showlegend=False,\n",
                "    xaxis_title=\"Cars (Ranked by MPG)\",\n",
                "    yaxis_title=\"Miles per Gallon (MPG)\",\n",
                ")\n",
                "### END SOLUTION\n",
                "\n",
                "# Display the Plotly chart in Streamlit\n",
                "### BEGIN SOLUTION\n",
                "st.plotly_chart(fig, use_container_width=True)\n",
                "### END SOLUTION"
            ],
            "metadata": {
                "id": "UDoyUO8Yy3KS",
                "colab": {
                    "base_uri": "https://localhost:8080/"
                },
                "executionInfo": {
                    "status": "ok",
                    "timestamp": 1742100637069,
                    "user_tz": -120,
                    "elapsed": 65,
                    "user": {
                        "displayName": "Islam Zidan",
                        "userId": "17227307713370715205"
                    }
                },
                "outputId": "b00a7b96-f1d2-4292-fc59-bb973d008ad9",
                "vocVersion": "1.1",
                "cellIdentifier": "bpnc9fer1pk0cm7zk4i8n8s",
                "nbgrader": {
                    "grade": true,
                    "locked": false,
                    "solution": true,
                    "grade_id": "Task 4",
                    "points": "5"
                }
            },
            "execution_count": 18,
            "outputs": [
                {
                    "output_type": "stream",
                    "name": "stdout",
                    "text": [
                        "Overwriting app.py\n"
                    ]
                }
            ]
        },
        {
            "id": "ul9hnl2b02nfv759qxnfj",
            "cell_type": "code",
            "source": [
                "# Un-comment this line and execute the cell to run the app\n",
                "# run_streamlit()"
            ],
            "metadata": {
                "id": "Vaczx5oDujuC",
                "executionInfo": {
                    "status": "ok",
                    "timestamp": 1742100646649,
                    "user_tz": -120,
                    "elapsed": 6,
                    "user": {
                        "displayName": "Islam Zidan",
                        "userId": "17227307713370715205"
                    }
                },
                "vocVersion": "1.1",
                "cellIdentifier": "ul9hnl2b02nfv759qxnfj"
            },
            "execution_count": 21,
            "outputs": []
        },
        {
            "id": "6iy0qbx27x377f9oydoc4h",
            "cell_type": "markdown",
            "source": [
                "##🎮 Task 5: Adding Interactive Controls\n",
                "\n",
                "### What You'll Add\n",
                "We'll place interactive controls at the top of the dashboard:\n",
                "\n",
                "\n",
                "\n",
                "> A year slider to filter cars\n",
                "\n",
                "\n",
                "### Instructions\n",
                "\n",
                "1. Add a new section **right after your title**.\n",
                "2. Add a year slider that filters cars based on the selected year.\n",
                "3. Display the filtered results below the slider.\n",
                "4. All the information should change depending on the year selected."
            ],
            "metadata": {
                "id": "RI7PminBuohq",
                "vocVersion": "1.1",
                "cellIdentifier": "6iy0qbx27x377f9oydoc4h"
            },
            "execution_count": 0,
            "outputs": []
        },
        {
            "id": "euodue846urd1967bi46",
            "cell_type": "code",
            "source": [
                "%%writefile app.py\n",
                "import streamlit as st\n",
                "import pandas as pd\n",
                "import plotly.express as px\n",
                "\n",
                "# Previous code remains the same...\n",
                "### BEGIN SOLUTION\n",
                "# Make our page look nice and wide\n",
                "st.set_page_config(\n",
                "    page_title=\"My Car Dashboard\",\n",
                "    layout=\"wide\"\n",
                ")\n",
                "\n",
                "# Add a big title\n",
                "st.title(\"🚗 Welcome to My Car Dashboard!\")\n",
                "\n",
                "# Write a friendly message\n",
                "st.write(\"Hello! This dashboard will help you learn about different cars.\")\n",
                "\n",
                "# Get our car data\n",
                "@st.cache_data\n",
                "def get_car_data():\n",
                "    url = \"https://raw.githubusercontent.com/plotly/datasets/master/auto-mpg.csv\"\n",
                "    cars = pd.read_csv(url)\n",
                "    return cars\n",
                "\n",
                "# Load the data\n",
                "cars = get_car_data()\n",
                "\n",
                "# Show how many total cars we have in the dataset\n",
                "st.write(f\"Our database contains information about {len(cars)} different cars!\")\n",
                "\n",
                "# Add a slider to filter cars by year\n",
                "year = st.slider(\"Select a Year\",\n",
                "                 min_value=int(cars['model-year'].min()),\n",
                "                 max_value=int(cars['model-year'].max()))\n",
                "\n",
                "# Filter cars for the selected year\n",
                "year_cars = cars[cars['model-year'] == year]\n",
                "\n",
                "# Show how many cars we have for the selected year\n",
                "st.write(f\"Showing data for {len(year_cars)} cars from {year}:\")\n",
                "\n",
                "# Show the first 5 cars from the selected year\n",
                "st.write(\"Here are some of the cars from this year:\")\n",
                "st.dataframe(year_cars.head())\n",
                "\n",
                "col1, col2, col3 = st.columns(3)\n",
                "\n",
                "# Calculate metrics for the selected year\n",
                "with col1:\n",
                "    average_mpg = round(year_cars['mpg'].mean(), 1)\n",
                "    st.metric(\"Average Miles per Gallon\", f\"{average_mpg} MPG\")\n",
                "\n",
                "with col2:\n",
                "    average_hp = round(year_cars['horsepower'].mean(), 1)\n",
                "    st.metric(\"Average Horsepower\", f\"{average_hp} HP\")\n",
                "\n",
                "with col3:\n",
                "    average_weight = round(year_cars['weight'].mean(), 1)\n",
                "    st.metric(\"Average Weight\", f\"{average_weight} lbs\")\n",
                "\n",
                "st.subheader(f\"Car Fuel Efficiency Distribution ({year})\")\n",
                "\n",
                "# Create a sorted version of the MPG data for the selected year\n",
                "sorted_year_cars = year_cars.sort_values('mpg', ascending=True).reset_index()\n",
                "\n",
                "# Create a bar chart with sorted MPG values\n",
                "fig = px.bar(sorted_year_cars, y='mpg',\n",
                "             labels={'mpg': 'Miles per Gallon', 'index': 'Car Rank'},\n",
                "             title=f'Distribution of Fuel Efficiency Across {year} Cars')\n",
                "\n",
                "# Update layout to better show the distribution\n",
                "fig.update_layout(\n",
                "    showlegend=False,\n",
                "    xaxis_title=\"Cars (Ranked by MPG)\",\n",
                "    yaxis_title=\"Miles per Gallon (MPG)\",\n",
                ")\n",
                "\n",
                "# Display the Plotly chart in Streamlit\n",
                "st.plotly_chart(fig, use_container_width=True)\n",
                "### END SOLUTION\n",
                "# TODO: Create a year slider\n",
                "# Hint: Use st.slider() with model-year min and max values\n",
                "### BEGIN SOLUTION\n",
                "year = st.slider(\"Select a Year\",\n",
                "                 min_value=int(cars['model-year'].min()),\n",
                "                 max_value=int(cars['model-year'].max()))\n",
                "### END SOLUTION\n",
                "# TODO: Filter and display cars based on selected year\n",
                "# Hint: Use cars[cars['model-year'] == selected_year]\n",
                "### BEGIN SOLUTION\n",
                "year_cars = cars[cars['model-year'] == year]\n",
                "### END SOLUTION"
            ],
            "metadata": {
                "id": "G7UcovvwzCt6",
                "colab": {
                    "base_uri": "https://localhost:8080/"
                },
                "executionInfo": {
                    "status": "ok",
                    "timestamp": 1742100648987,
                    "user_tz": -120,
                    "elapsed": 20,
                    "user": {
                        "displayName": "Islam Zidan",
                        "userId": "17227307713370715205"
                    }
                },
                "outputId": "8f2e9f69-1b80-4a7d-a41a-53e43d1b2a1c",
                "vocVersion": "1.1",
                "cellIdentifier": "euodue846urd1967bi46",
                "nbgrader": {
                    "grade": true,
                    "locked": false,
                    "solution": true,
                    "grade_id": "Task 5",
                    "points": "5"
                }
            },
            "execution_count": 22,
            "outputs": [
                {
                    "output_type": "stream",
                    "name": "stdout",
                    "text": [
                        "Overwriting app.py\n"
                    ]
                }
            ]
        },
        {
            "id": "vz06b9nx2z505tjrwj9lu",
            "cell_type": "code",
            "source": [
                "# Un-comment this line and execute the cell to run the app\n",
                "# run_streamlit()"
            ],
            "metadata": {
                "id": "oObxWGRCurSS",
                "executionInfo": {
                    "status": "ok",
                    "timestamp": 1742100658800,
                    "user_tz": -120,
                    "elapsed": 17,
                    "user": {
                        "displayName": "Islam Zidan",
                        "userId": "17227307713370715205"
                    }
                },
                "vocVersion": "1.1",
                "cellIdentifier": "vz06b9nx2z505tjrwj9lu"
            },
            "execution_count": 25,
            "outputs": []
        }
    ]
}