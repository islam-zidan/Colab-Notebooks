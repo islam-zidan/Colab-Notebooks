{
    "nbformat": 4,
    "nbformat_minor": 0,
    "metadata": {
        "colab": {
            "provenance": [],
            "toc_visible": true
        },
        "kernelspec": {
            "name": "python3",
            "display_name": "Python 3"
        },
        "language_info": {
            "name": "python"
        },
        "kernel_id": "42c821eb-3b7f-478d-a52f-e0ce0018a314"
    },
    "cells": [
        {
            "id": "mw1x55nvm1yd4i11esssq",
            "cell_type": "markdown",
            "source": [
                "# 🌍 Air Quality Analysis Project\n",
                "\n",
                "## 📝 Scenario\n",
                "You are a junior data analyst working for your city's Environmental Protection Department. The department has been collecting air quality data from various monitoring stations across the city. They want to understand how different factors affect air quality and identify patterns that could help improve air quality in different areas of the city.\n",
                "\n",
                "## 📊 Dataset Description\n",
                "The dataset \"air_quality_dataset.csv\" contains measurements of various environmental factors and air quality indicators. Here are the columns:\n",
                "\n",
                "1. Temperature (°C): Air temperature at time of measurement.\n",
                "2. Humidity (%): Relative humidity in the air.\n",
                "3. PM2.5 (μg/m³): Fine particulate matter concentration.\n",
                "4. PM10 (μg/m³): Coarse particulate matter concentration.\n",
                "5. NO2 (ppb): Nitrogen dioxide concentration.\n",
                "6. SO2 (ppb): Sulfur dioxide concentration.\n",
                "7. CO (ppm): Carbon monoxide concentration.\n",
                "8. Proximity_to_Industrial_Areas (km): Distance to nearest industrial zone.\n",
                "9. Population_Density (people/km²): Population density in the area.\n",
                "10. Air Quality: Categorical rating (Good, Moderate, Poor, and Hazardous).\n",
                "\n",
                "## 🎯 Learning Objectives\n",
                "By completing this project, you will learn to:\n",
                "1. Load and explore real-world environmental data using Python.\n",
                "2. Perform basic data analysis using Pandas.\n",
                "3. Create meaningful visualizations to understand air quality patterns.\n",
                "4. Draw insights from environmental data that could help your community.\n",
                "5. Practice presenting scientific findings in a clear, understandable way."
            ],
            "metadata": {
                "id": "FpyPn8PhzGRw",
                "vocVersion": "1.1",
                "cellIdentifier": "mw1x55nvm1yd4i11esssq"
            },
            "execution_count": 0,
            "outputs": []
        },
        {
            "id": "zvagdx7l0sbz8hat57n3om",
            "cell_type": "markdown",
            "source": [
                "\n",
                "## 🚀 Task 1: Data Loading and Initial Exploration\n",
                "\n",
                "### 📌 Detailed Instructions\n",
                "\n",
                "1. **Import Required Libraries (5 minutes)**\n",
                "   - Import Pandas for data manipulation.\n",
                "   - Import matplotlib.pyplot for creating basic plots.\n",
                "   - Import Seaborn for enhanced visualizations.\n",
                "   - Make sure to use the standard alias names (pd, plt, sns).\n",
                "\n",
                "2. **Load the Dataset (10 minutes)**\n",
                "   - Use Pandas to read the CSV file from the provided URL.\n",
                "   - Store the data in a variable called 'air_data'.\n",
                "   - Check that the data loaded correctly by displaying the first few rows.\n",
                "\n",
                "3. **Initial Data Exploration (15 minutes)**\n",
                "   - Find out how many rows and columns are in your dataset.\n",
                "   - Display basic information about the dataset:\n",
                "     * Data types of each column.\n",
                "     * Check for any missing values.\n",
                "     * Get basic statistics of numerical columns.\n",
                "   - Display the unique values in the 'Air Quality' column.\n",
                "   - Calculate the percentage of each air quality category.\n",
                "\n",
                "4. **Document Your Findings (10 minutes)**\n",
                "   - Add markdown cells explaining what you discovered.\n",
                "   - Comment on any interesting patterns or potential issues.\n",
                "   - Note down questions that came up during your exploration.\n",
                "\n",
                "### 💻 Template Code Cell\n",
                "\n",
                ""
            ],
            "metadata": {
                "id": "V5k-_P-9uto1",
                "vocVersion": "1.1",
                "cellIdentifier": "zvagdx7l0sbz8hat57n3om"
            },
            "execution_count": 0,
            "outputs": []
        },
        {
            "id": "5tvk66c0soetr6y788hvs",
            "cell_type": "code",
            "source": [
                "# Import necessary libraries\n",
                "# Import pandas, matplotlib.pyplot, and seaborn\n",
                "### BEGIN SOLUTION\n",
                "import pandas as pd\n",
                "import matplotlib.pyplot as plt\n",
                "import seaborn as sns\n",
                "### END SOLUTION\n",
                "\n",
                "# Load the dataset\n",
                "url = \"https://raw.githubusercontent.com/Curriculum-Development/datasets/refs/heads/main/air_quality_dataset.csv\"\n",
                "# Load the data into air_data\n",
                "### BEGIN SOLUTION\n",
                "air_data = pd.read_csv(url)\n",
                "### END SOLUTION\n",
                "\n",
                "# Display the first few rows\n",
                "# Use head() function\n",
                "### BEGIN SOLUTION\n",
                "print(\"First 5 rows of the dataset:\")\n",
                "print(air_data.head())\n",
                "### END SOLUTION\n",
                "\n",
                "# Get basic information about the dataset\n",
                "# Use info() function\n",
                "### BEGIN SOLUTION\n",
                "print(\"\\nDataset Information:\")\n",
                "print(air_data.info())\n",
                "### END SOLUTION\n",
                "\n",
                "# Check dataset dimensions\n",
                "# Use shape attribute\n",
                "### BEGIN SOLUTION\n",
                "print(\"\\nDataset dimensions (rows, columns):\")\n",
                "print(air_data.shape)\n",
                "### END SOLUTION\n",
                "\n",
                "# Get summary statistics\n",
                "# Use describe() function\n",
                "### BEGIN SOLUTION\n",
                "print(\"\\nSummary statistics:\")\n",
                "print(air_data.describe())\n",
                "### END SOLUTION\n",
                "\n",
                "# Analyze air quality categories\n",
                "# Find unique values and calculate percentages\n",
                "### BEGIN SOLUTION\n",
                "print(\"\\nUnique Air Quality categories:\")\n",
                "print(air_data['Air Quality'].unique())\n",
                "### END SOLUTION\n",
                "\n",
                "# Document your findings in markdown cells below\n",
                ""
            ],
            "metadata": {
                "id": "s8RoVEb9u20g",
                "vocVersion": "1.1",
                "cellIdentifier": "5tvk66c0soetr6y788hvs",
                "nbgrader": {
                    "grade": true,
                    "locked": false,
                    "solution": true,
                    "grade_id": "Task 1",
                    "points": "5"
                }
            },
            "execution_count": 0,
            "outputs": []
        },
        {
            "id": "x78caogqcvt0dxa8z3r5k",
            "cell_type": "markdown",
            "source": [
                "### Document Your Findings:\n",
                "Feel free to add more Markdown cells as needed."
            ],
            "metadata": {
                "id": "HZGo4FVZwnnu",
                "vocVersion": "1.1",
                "cellIdentifier": "x78caogqcvt0dxa8z3r5k"
            },
            "execution_count": 0,
            "outputs": []
        },
        {
            "id": "qgsexwj2o7vl5ejy4ayvm",
            "cell_type": "markdown",
            "source": [
                "### 📝 Expected Output Documentation\n",
                "After running Task 1, you should be able to answer these questions:\n",
                "1. How many total measurements are in the dataset?\n",
                "2. What is the most common air quality category?\n",
                "3. Are there any missing values that need to be handled?\n",
                "4. What are the ranges of values for key pollutants (PM2.5, PM10, NO2, SO2, CO)?\n",
                "5. Are there any unusual or unexpected values in the dataset?\n",
                "\n",
                "### 🎯 Success Criteria\n",
                "You have successfully completed Task 1 when you can:\n",
                "- ✓ Load the dataset without errors.\n",
                "- ✓ Display basic information about the dataset.\n",
                "- ✓ Generate summary statistics.\n",
                "- ✓ Calculate air quality category distributions.\n",
                "- ✓ Document your findings clearly in markdown cells."
            ],
            "metadata": {
                "id": "zT5wP8v0u-dO",
                "vocVersion": "1.1",
                "cellIdentifier": "qgsexwj2o7vl5ejy4ayvm"
            },
            "execution_count": 0,
            "outputs": []
        },
        {
            "id": "cdu9dj6zclupb73b16bu7n",
            "cell_type": "markdown",
            "source": [
                "## 🚀 Task 2: Creating Your First Visualization\n",
                "\n",
                "### 📌 Instructions\n",
                "In this task, we will create a simple bar chart to show how many measurements we have for each air quality category (Good, Moderate, Poor, or Hazardous). This will help us understand the distribution of air quality in our dataset.\n",
                "\n",
                "Steps:\n",
                "1. Use the air_data DataFrame we created in Task 1.\n",
                "2. Create a figure using plt.figure().\n",
                "3. Use plt.bar() to make a bar chart of air quality categories.\n",
                "4. Add a title to your plot.\n",
                "5. Label your X-axis and Y-axis.\n",
                "6. Display your plot.\n",
                "\n",
                "### 💻 Template Code Cell"
            ],
            "metadata": {
                "id": "9RxH6labvIWH",
                "vocVersion": "1.1",
                "cellIdentifier": "cdu9dj6zclupb73b16bu7n"
            },
            "execution_count": 0,
            "outputs": []
        },
        {
            "id": "wu8t4yi0wxtat0xiwftkr",
            "cell_type": "code",
            "source": [
                "# Create a bar chart of air quality categories\n",
                "\n",
                "# First, count how many measurements we have for each category\n",
                "quality_counts = air_data['Air Quality'].value_counts()\n",
                "\n",
                "# Create the plot\n",
                "plt.figure(figsize=(8, 6))\n",
                "\n",
                "# Make your bar chart here\n",
                "# Hint: use plt.bar(quality_counts.index, quality_counts.values)\n",
                "### BEGIN SOLUTION\n",
                "plt.bar(quality_counts.index, quality_counts.values, color='skyblue')\n",
                "### END SOLUTION\n",
                "\n",
                "# Add title and labels here\n",
                "# Hint: use plt.title(), plt.xlabel(), plt.ylabel()\n",
                "### BEGIN SOLUTION\n",
                "plt.title('Number of Measurements by Air Quality Category')\n",
                "plt.xlabel('Air Quality Category')\n",
                "plt.ylabel('Number of Measurements')\n",
                "### END SOLUTION\n",
                "\n",
                "# Show the plot\n",
                "plt.show()"
            ],
            "metadata": {
                "id": "HQKCle5Y05ar",
                "vocVersion": "1.1",
                "cellIdentifier": "wu8t4yi0wxtat0xiwftkr",
                "nbgrader": {
                    "grade": true,
                    "locked": false,
                    "solution": true,
                    "grade_id": "Task 2",
                    "points": "5"
                }
            },
            "execution_count": 0,
            "outputs": []
        },
        {
            "id": "kq4y6kkj35i2y3q9x2mo0u",
            "cell_type": "markdown",
            "source": [
                "## 🚀 Task 3: Exploring Relationships in Our Data\n",
                "\n",
                "### 📌 Instructions\n",
                "In this task, we will create a scatter plot to see how temperature relates to humidity in our dataset. A scatter plot helps us see if there's any relationship between two variables. We'll keep it simple and clear.\n",
                "\n",
                "Steps:\n",
                "1. Use the air_data DataFrame from Task 1.\n",
                "2. Create a figure using plt.figure().\n",
                "3. Use plt.scatter() to plot temperature vs. humidity.\n",
                "4. Add a title to your plot.\n",
                "5. Label your X-axis and Y-axis.\n",
                "6. Display your plot.\n",
                "\n",
                "### 💻 Template Code Cell"
            ],
            "metadata": {
                "id": "knGlzAIo2GY4",
                "vocVersion": "1.1",
                "cellIdentifier": "kq4y6kkj35i2y3q9x2mo0u"
            },
            "execution_count": 0,
            "outputs": []
        },
        {
            "id": "1mrdyfm3mtupi5azzky059",
            "cell_type": "code",
            "source": [
                "# Create a scatter plot of temperature vs humidity\n",
                "\n",
                "# Create the plot\n",
                "plt.figure(figsize=(8, 6))\n",
                "\n",
                "# Make your scatter plot here\n",
                "# Hint: use plt.scatter(air_data['Temperature'], air_data['Humidity'])\n",
                "### BEGIN SOLUTION\n",
                "plt.scatter(air_data['Temperature'], air_data['Humidity'],\n",
                "           color='lightblue', alpha=0.5)\n",
                "### END SOLUTION\n",
                "\n",
                "# Add title and labels here\n",
                "# Hint: use plt.title(), plt.xlabel(), plt.ylabel()\n",
                "### BEGIN SOLUTION\n",
                "plt.title('Temperature vs Humidity')\n",
                "plt.xlabel('Temperature (°C)')\n",
                "plt.ylabel('Humidity (%)')\n",
                "### END SOLUTION\n",
                "\n",
                "# Show the plot\n",
                "plt.show()"
            ],
            "metadata": {
                "id": "3U7_u25Q1rYo",
                "vocVersion": "1.1",
                "cellIdentifier": "1mrdyfm3mtupi5azzky059",
                "nbgrader": {
                    "grade": true,
                    "locked": false,
                    "solution": true,
                    "grade_id": "Task 3",
                    "points": "5"
                }
            },
            "execution_count": 0,
            "outputs": []
        },
        {
            "id": "ngr7dtppnbp67mtlfxfckg",
            "cell_type": "markdown",
            "source": [
                "## 🚀 Task 4: Visualizing Pollution Levels\n",
                "\n",
                "### 📌 Instructions\n",
                "In this task, we will create a simple line plot to see how PM2.5 levels vary across our measurements. Line plots are excellent for showing trends in our data. We'll plot each measurement point to see how PM2.5 levels change throughout our dataset.\n",
                "\n",
                "Steps:\n",
                "1. Use the air_data DataFrame from Task 1.\n",
                "2. Create a figure using plt.figure().\n",
                "3. Use plt.plot() to create a line plot of PM2.5 values.\n",
                "4. Add a title to your plot.\n",
                "5. Label your X-axis and Y-axis.\n",
                "6. Display your plot.\n",
                "\n",
                "### 💻 Template Code Cell\n",
                "\n",
                "\n",
                "\n",
                ""
            ],
            "metadata": {
                "id": "3RO7LM6e2exf",
                "vocVersion": "1.1",
                "cellIdentifier": "ngr7dtppnbp67mtlfxfckg"
            },
            "execution_count": 0,
            "outputs": []
        },
        {
            "id": "mvz721awtm8ut42glabzl",
            "cell_type": "code",
            "source": [
                "# Create a line plot of PM2.5 levels\n",
                "\n",
                "# Create the plot\n",
                "plt.figure(figsize=(10, 6))\n",
                "\n",
                "# Make your line plot here\n",
                "# Hint: use plt.plot(air_data['PM2.5'])\n",
                "### BEGIN SOLUTION\n",
                "plt.plot(air_data['PM2.5'], color='green', linewidth=2)\n",
                "### END SOLUTION\n",
                "\n",
                "# Add title and labels here\n",
                "# Hint: use plt.title(), plt.xlabel(), plt.ylabel()\n",
                "### BEGIN SOLUTION\n",
                "plt.title('PM2.5 Levels Across Measurements')\n",
                "plt.xlabel('Measurement Number')\n",
                "plt.ylabel('PM2.5 (μg/m³)')\n",
                "### END SOLUTION\n",
                "\n",
                "# Show the plot\n",
                "plt.show()"
            ],
            "metadata": {
                "id": "_C4QE9Dk2RuM",
                "vocVersion": "1.1",
                "cellIdentifier": "mvz721awtm8ut42glabzl",
                "nbgrader": {
                    "grade": true,
                    "locked": false,
                    "solution": true,
                    "grade_id": "Task 4",
                    "points": "5"
                }
            },
            "execution_count": 0,
            "outputs": []
        },
        {
            "id": "61eescgpztku61uqrxsvo",
            "cell_type": "markdown",
            "source": [
                "## 🚀 Task 5: Understanding Air Quality Impact on Temperature\n",
                "\n",
                "### 📌 Instructions\n",
                "In our final task, we will create a box plot to understand how temperature varies across different air quality categories. A box plot helps us see the distribution of temperature values within each air quality group, showing us the median, spread, and any unusual values.\n",
                "\n",
                "Steps:\n",
                "1. Use the air_data DataFrame from Task 1.\n",
                "2. Create a figure using plt.figure().\n",
                "3. Use Seaborn's boxplot function to create the visualization.\n",
                "4. Add a title to your plot.\n",
                "5. Label your X-axis and Y-axis.\n",
                "6. Display your plot.\n",
                "   \n",
                "### 💻 Template Code Cell\n",
                "\n",
                "\n",
                ""
            ],
            "metadata": {
                "id": "EKsJq6xS23zA",
                "vocVersion": "1.1",
                "cellIdentifier": "61eescgpztku61uqrxsvo"
            },
            "execution_count": 0,
            "outputs": []
        },
        {
            "id": "g06opjh0qk81jfq2itgtd",
            "cell_type": "code",
            "source": [
                "# Create a box plot of temperature across air quality categories\n",
                "\n",
                "# Create the plot\n",
                "plt.figure(figsize=(10, 6))\n",
                "\n",
                "# Make your box plot here\n",
                "# Hint: use sns.boxplot(data=air_data, x='Air Quality', y='Temperature')\n",
                "### BEGIN SOLUTION\n",
                "sns.boxplot(data=air_data, x='Air Quality', y='Temperature',\n",
                "           palette='coolwarm')\n",
                "### END SOLUTION\n",
                "\n",
                "# Add title and labels here\n",
                "# Hint: use plt.title(), plt.xlabel(), plt.ylabel()\n",
                "### BEGIN SOLUTION\n",
                "plt.title('Temperature Distribution by Air Quality Category')\n",
                "plt.xlabel('Air Quality Category')\n",
                "plt.ylabel('Temperature (°C)')\n",
                "### END SOLUTION\n",
                "\n",
                "# Show the plot\n",
                "plt.show()"
            ],
            "metadata": {
                "id": "-OmCpmaC2yTS",
                "vocVersion": "1.1",
                "cellIdentifier": "g06opjh0qk81jfq2itgtd",
                "nbgrader": {
                    "grade": true,
                    "locked": false,
                    "solution": true,
                    "grade_id": "Task 5",
                    "points": "5"
                }
            },
            "execution_count": 0,
            "outputs": []
        },
        {
            "id": "vv01jcf1rlhjxk1kz35zw",
            "cell_type": "markdown",
            "source": [
                "Congratulations! You have now completed all five tasks in this air quality analysis project. You've learned how to:\n",
                "- Load and explore environmental data.\n",
                "- Create different types of visualizations including bar charts, scatter plots, line plots, and box plots.\n",
                "- Use both Matplotlib and Seaborn for creating visualizations.\n",
                "- Analyze relationships between different variables in your dataset.\n",
                "\n",
                "These fundamental data visualization skills will serve as a strong foundation for your future data analysis projects. Remember that practice is key to becoming comfortable with these techniques. Try creating these same plots with different variables from the dataset to deepen your understanding.\n",
                ""
            ],
            "metadata": {
                "id": "-LTMb9nQ3ddY",
                "vocVersion": "1.1",
                "cellIdentifier": "vv01jcf1rlhjxk1kz35zw"
            },
            "execution_count": 0,
            "outputs": []
        }
    ]
}