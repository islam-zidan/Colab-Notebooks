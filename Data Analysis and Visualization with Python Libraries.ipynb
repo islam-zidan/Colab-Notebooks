{
    "cells": [
        {
            "id": "5j67iesqinwaitufnlrqa",
            "cell_type": "markdown",
            "source": [],
            "metadata": {
                "vocVersion": "1.1",
                "cellIdentifier": "5j67iesqinwaitufnlrqa"
            },
            "execution_count": 0,
            "outputs": [],
            "attachments": {}
        },
        {
            "id": "5c9osg4lqvnhzb7iu9k11b",
            "cell_type": "markdown",
            "source": [
                "# Module 4: Data Analysis and Visualization with Python Libraries\n",
                "\n",
                "## Session Objectives:\n",
                "By the end of this lesson, students will understand:\n",
                "1. What Pandas is and why it's essential for data analysis.\n",
                "2. How to create and manipulate data using Pandas.\n",
                "3. Basic data operations and analysis techniques.\n",
                "4. How to handle real-world datasets effectively.\n",
                "\n",
                "## 📊 What is Pandas in Python?\n",
                "Pandas is like a super-powered spreadsheet program built into Python. Think of it as Excel with programming capabilities! It helps you:\n",
                "- Organize data in tables (called DataFrames).\n",
                "- Clean messy data.\n",
                "- Analyze large amounts of information.\n",
                "- Calculate statistics.\n",
                "- Filter and sort data easily.\n",
                "\n",
                "## Why Use Pandas?\n",
                "Pandas:\n",
                "- Makes working with structured data intuitive.\n",
                "- Handles large datasets efficiently.\n",
                "- Provides powerful data manipulation tools.\n",
                "- Integrates well with other analysis and visualization libraries.\n",
                "- Is the industry standard for data analysis in Python.\n",
                "\n",
                "## Getting Started with Pandas\n",
                "\n",
                "First, let's import the library. The community standard is to import pandas with the alias 'pd':\n",
                ""
            ],
            "metadata": {
                "vocVersion": "1.1",
                "cellIdentifier": "5c9osg4lqvnhzb7iu9k11b"
            },
            "execution_count": 0,
            "outputs": [],
            "attachments": {}
        },
        {
            "id": "j40tee3vj0cwhr4crd23u7",
            "cell_type": "code",
            "source": [
                "import pandas as pd"
            ],
            "metadata": {
                "vocVersion": "1.1",
                "cellIdentifier": "j40tee3vj0cwhr4crd23u7"
            },
            "execution_count": 5,
            "outputs": [],
            "attachments": {}
        },
        {
            "id": "7qgbnkn7yg237g2l2dlsr3",
            "cell_type": "markdown",
            "source": [
                "Don't forget: The `pd` part is just a nickname we give to Pandas to make it easier to type. It's like calling Alexander \"Alex\" for short!"
            ],
            "metadata": {
                "vocVersion": "1.1",
                "cellIdentifier": "7qgbnkn7yg237g2l2dlsr3"
            },
            "execution_count": 0,
            "outputs": [],
            "attachments": {}
        },
        {
            "id": "xhyu4t9rp5rmgdcuevt2",
            "cell_type": "markdown",
            "source": [
                "**📋 Creating Our First Data Table**\n",
                "\n",
                "Let's start with something from everyday life—keeping track of the weather for a week:"
            ],
            "metadata": {
                "vocVersion": "1.1",
                "cellIdentifier": "xhyu4t9rp5rmgdcuevt2"
            },
            "execution_count": 0,
            "outputs": [],
            "attachments": {}
        },
        {
            "id": "w0eubftw5luji8kc6zkvi",
            "cell_type": "code",
            "source": [
                "# First, let's organize our weather information\n",
                "weather_info = {\n",
                "    'Day': ['Monday', 'Tuesday', 'Wednesday', 'Thursday'],  # Days of the week\n",
                "    'Temperature': [75, 80, 72, 68],                        # Temperature in Fahrenheit\n",
                "    'Weather': ['Sunny', 'Sunny', 'Rainy', 'Cloudy']       # Type of weather\n",
                "}"
            ],
            "metadata": {
                "vocVersion": "1.1",
                "cellIdentifier": "w0eubftw5luji8kc6zkvi"
            },
            "execution_count": 0,
            "outputs": [],
            "attachments": {}
        },
        {
            "id": "2tdbi920km8iqgk2q1jn0g",
            "cell_type": "code",
            "source": [
                "# Now, let's create our table\n",
                "weather = pd.DataFrame(weather_info)\n",
                "\n",
                "# Let's look at our table\n",
                "print(\"This Week's Weather:\")\n",
                "weather"
            ],
            "metadata": {
                "vocVersion": "1.1",
                "cellIdentifier": "2tdbi920km8iqgk2q1jn0g"
            },
            "execution_count": 7,
            "outputs": [],
            "attachments": {}
        },
        {
            "id": "x8a374tcs9r69bt4tr2bsq",
            "cell_type": "markdown",
            "source": [
                "**🤔 Understanding What We Just Did**\n",
                "\n",
                "Let's break this down piece by piece:\n",
                "1. We created a dictionary (weather_info) with three pieces of information:\n",
                "   - The days of the week.\n",
                "   - The temperature for each day.\n",
                "   - The weather condition for each day.\n",
                "\n",
                "2. We turned this information into a special Pandas table (called a DataFrame):\n",
                "   - Each row is one day.\n",
                "   - Each column is a different type of information."
            ],
            "metadata": {
                "vocVersion": "1.1",
                "cellIdentifier": "x8a374tcs9r69bt4tr2bsq"
            },
            "execution_count": 0,
            "outputs": [],
            "attachments": {}
        },
        {
            "id": "pnfzi8rf5inpr5j304aws",
            "cell_type": "markdown",
            "source": [
                "**👀 Looking at Our Data**\n",
                "\n",
                "Now that we have our data in a table, let's learn how to look at it."
            ],
            "metadata": {
                "vocVersion": "1.1",
                "cellIdentifier": "pnfzi8rf5inpr5j304aws"
            },
            "execution_count": 0,
            "outputs": [],
            "attachments": {}
        },
        {
            "id": "yhapx8n4m8k5655hfontug",
            "cell_type": "code",
            "source": [
                "# Show just the first 2 days\n",
                "print(\"First 2 days of weather:\")\n",
                "weather.head(2)"
            ],
            "metadata": {
                "vocVersion": "1.1",
                "cellIdentifier": "yhapx8n4m8k5655hfontug"
            },
            "execution_count": 8,
            "outputs": [],
            "attachments": {}
        },
        {
            "id": "19iu1mnjwtsz3lx5yxg2x",
            "cell_type": "markdown",
            "source": [
                "The .head() method in pandas displays the first few rows of a DataFrame or Series, making it useful for a quick overview of the data. By default, it shows the first 5 rows, but you can specify a number inside the parentheses, like .head(2), to display that specific number of rows. In this example, .head(2) shows only the first 2 rows of the weather DataFrame."
            ],
            "metadata": {
                "vocVersion": "1.1",
                "cellIdentifier": "19iu1mnjwtsz3lx5yxg2x"
            },
            "execution_count": 0,
            "outputs": [],
            "attachments": {}
        },
        {
            "id": "0qv1q38f1wsqqat633y5x",
            "cell_type": "markdown",
            "source": [
                "✏️ **Task 1: Creating Your First Movie Data Table**\n",
                "\n",
                "1. Create a dictionary containing information about at least 4 movies with:\n",
                "   - Movie names\n",
                "   - Their ratings out of 5\n",
                "   - Genre (like Action, Comedy, Drama)\n",
                "   - Release year\n",
                "\n",
                "2. Convert your dictionary into a pandas DataFrame.\n",
                "\n",
                "3. Display your table.\n",
                "\n",
                "\n",
                "**Hints:**\n",
                "- Remember to use the correct format for creating a dictionary.\n",
                "- Make sure all your lists are the same length.\n",
                "- Double-check your spelling and punctuation.\n",
                "- Movie names and genres should be text (in quotes).\n",
                "- Ratings and years should be numbers (no quotes)."
            ],
            "metadata": {
                "vocVersion": "1.1",
                "cellIdentifier": "0qv1q38f1wsqqat633y5x"
            },
            "execution_count": 0,
            "outputs": [],
            "attachments": {}
        },
        {
            "id": "vkb3n7q2q1bmw0wdqxtwb",
            "cell_type": "code",
            "source": [
                "### BEGIN SOLUTION\n",
                "# Step 1: Create dictionary with movie information\n",
                "movie_data = {\n",
                "    'Movie': ['Frozen', 'Spider-Man', 'Toy Story', 'The Lion King'],\n",
                "    'Rating': [5, 4, 5, 5],\n",
                "    'Genre': ['Family', 'Action', 'Family', 'Family'],\n",
                "    'Year': [2013, 2021, 1995, 1994]\n",
                "}\n",
                "\n",
                "# Step 2: Convert dictionary to DataFrame\n",
                "movies_df = pd.DataFrame(movie_data)\n",
                "\n",
                "# Step 3: Display the complete table\n",
                "print(\"Complete Movie Table:\")\n",
                "print(movies_df)\n",
                "### END SOLUTION"
            ],
            "metadata": {
                "vocVersion": "1.1",
                "cellIdentifier": "vkb3n7q2q1bmw0wdqxtwb",
                "nbgrader": {
                    "grade": true,
                    "locked": false,
                    "solution": true,
                    "grade_id": "Task 1",
                    "points": "5"
                }
            },
            "execution_count": 10,
            "outputs": [],
            "attachments": {}
        },
        {
            "id": "2ozrhgce0bvv7wux1k7kb",
            "cell_type": "markdown",
            "source": [
                "# Understanding Your Data: First Steps with Pandas\n",
                "\n",
                "**📊 Understanding Your Table's Structure**\n",
                "\n",
                "Let's start with our weather table."
            ],
            "metadata": {
                "vocVersion": "1.1",
                "cellIdentifier": "2ozrhgce0bvv7wux1k7kb"
            },
            "execution_count": 0,
            "outputs": [],
            "attachments": {}
        },
        {
            "id": "dvirmbdprirpcjggeqew38",
            "cell_type": "code",
            "source": [
                "weather"
            ],
            "metadata": {
                "vocVersion": "1.1",
                "cellIdentifier": "dvirmbdprirpcjggeqew38"
            },
            "execution_count": 11,
            "outputs": [],
            "attachments": {}
        },
        {
            "id": "e9fwsiun5t5e5rtkk05f1l",
            "cell_type": "markdown",
            "source": [
                "See those numbers on the left (0, 1, 2, 3)? These are called \"index\" numbers. Think of them like the numbers on houses in a street—they help us find specific rows quickly. Every row gets a number, starting from 0 (in Python, we always start counting from 0!)."
            ],
            "metadata": {
                "vocVersion": "1.1",
                "cellIdentifier": "e9fwsiun5t5e5rtkk05f1l"
            },
            "execution_count": 0,
            "outputs": [],
            "attachments": {}
        },
        {
            "id": "a4b8jap4ft02kampaaaxht",
            "cell_type": "markdown",
            "source": [
                "**📋 Getting Basic Information About Your Table**\n",
                "\n",
                "Just like checking a book's table of contents before reading, we can get a quick overview of our data:"
            ],
            "metadata": {
                "vocVersion": "1.1",
                "cellIdentifier": "a4b8jap4ft02kampaaaxht"
            },
            "execution_count": 0,
            "outputs": [],
            "attachments": {}
        },
        {
            "id": "rykdiu4dxmanftrmnk0se",
            "cell_type": "code",
            "source": [
                "# Let's see how big our table is\n",
                "print(weather.shape)"
            ],
            "metadata": {
                "vocVersion": "1.1",
                "cellIdentifier": "rykdiu4dxmanftrmnk0se"
            },
            "execution_count": 12,
            "outputs": [],
            "attachments": {}
        },
        {
            "id": "vgppdl49zdr3kukfamzv4p",
            "cell_type": "markdown",
            "source": [
                "This shows us (4, 3). Think of this like describing a rectangle:\n",
                "- The first number (4) tells us how many rows (days) we have.\n",
                "- The second number (3) tells us how many columns (Day, Temperature, Weather) we have."
            ],
            "metadata": {
                "vocVersion": "1.1",
                "cellIdentifier": "vgppdl49zdr3kukfamzv4p"
            },
            "execution_count": 0,
            "outputs": [],
            "attachments": {}
        },
        {
            "id": "uccs23dc0izuxugj52f7",
            "cell_type": "markdown",
            "source": [
                "**🔍 Looking at Specific Information**\n",
                "\n",
                "Now, this is where things get really interesting! There are several ways to look at specific parts of our data. Let's learn each one:\n",
                "\n",
                "1. **Looking at One Column (Series)**"
            ],
            "metadata": {
                "vocVersion": "1.1",
                "cellIdentifier": "uccs23dc0izuxugj52f7"
            },
            "execution_count": 0,
            "outputs": [],
            "attachments": {}
        },
        {
            "id": "l2bpcplvlhljgg1obxvvph",
            "cell_type": "code",
            "source": [
                "print(weather['Temperature'])"
            ],
            "metadata": {
                "vocVersion": "1.1",
                "cellIdentifier": "l2bpcplvlhljgg1obxvvph"
            },
            "execution_count": 13,
            "outputs": [],
            "attachments": {}
        },
        {
            "id": "xb3ofipe5d5ywjfk6qd9u",
            "cell_type": "markdown",
            "source": [
                "What just happened?\n",
                "- The square brackets [ ] tell Python, \"I want to look inside the table\".\n",
                "- 'Temperature' (in quotes) says, \"Find the column called Temperature\".\n",
                "- The numbers on the left (0-3) are those index numbers again.\n",
                "- dtype: int64 means these are whole numbers (integers).\n",
                ""
            ],
            "metadata": {
                "vocVersion": "1.1",
                "cellIdentifier": "xb3ofipe5d5ywjfk6qd9u"
            },
            "execution_count": 0,
            "outputs": [],
            "attachments": {}
        },
        {
            "id": "n4i4n9iliej1hveq4iekyy",
            "cell_type": "markdown",
            "source": [
                "2. **Looking at Multiple Columns**"
            ],
            "metadata": {
                "vocVersion": "1.1",
                "cellIdentifier": "n4i4n9iliej1hveq4iekyy"
            },
            "execution_count": 0,
            "outputs": [],
            "attachments": {}
        },
        {
            "id": "6kprj0g3xcm0ukii1leatk",
            "cell_type": "code",
            "source": [
                "# Let's see the days and their temperatures\n",
                "print(weather[['Day', 'Temperature']])"
            ],
            "metadata": {
                "vocVersion": "1.1",
                "cellIdentifier": "6kprj0g3xcm0ukii1leatk"
            },
            "execution_count": 14,
            "outputs": [],
            "attachments": {}
        },
        {
            "id": "5d5nn8e8hhehmlmyykxurc",
            "cell_type": "markdown",
            "source": [
                "Notice the double square brackets [[ ]]? This is important!\n",
                "- Single brackets [ ] = one column\n",
                "- Double brackets [[ ]] = multiple columns"
            ],
            "metadata": {
                "vocVersion": "1.1",
                "cellIdentifier": "5d5nn8e8hhehmlmyykxurc"
            },
            "execution_count": 0,
            "outputs": [],
            "attachments": {}
        },
        {
            "id": "d5ckcwwczwe4cndxuqawnu",
            "cell_type": "markdown",
            "source": [
                "3. **Looking at Specific Rows**"
            ],
            "metadata": {
                "vocVersion": "1.1",
                "cellIdentifier": "d5ckcwwczwe4cndxuqawnu"
            },
            "execution_count": 0,
            "outputs": [],
            "attachments": {}
        },
        {
            "id": "8xa96th7d67uh1pkxybgr",
            "cell_type": "code",
            "source": [
                "# Let's see the first two days\n",
                "print(weather.head(2))"
            ],
            "metadata": {
                "vocVersion": "1.1",
                "cellIdentifier": "8xa96th7d67uh1pkxybgr"
            },
            "execution_count": 15,
            "outputs": [],
            "attachments": {}
        },
        {
            "id": "n8889qrkx179qzbcjojtd",
            "cell_type": "code",
            "source": [
                "# Or look at specific row by its index\n",
                "print(weather.loc[0])  # Shows just Monday's information"
            ],
            "metadata": {
                "vocVersion": "1.1",
                "cellIdentifier": "n8889qrkx179qzbcjojtd"
            },
            "execution_count": 16,
            "outputs": [],
            "attachments": {}
        },
        {
            "id": "u7879ym2zh9pnloq5ac0l",
            "cell_type": "markdown",
            "source": [
                "The **.loc[ ]** method in pandas is used to access rows and columns of a DataFrame by their labels or index. In the example, weather.loc[0] retrieves the row at index 0, which represents Monday's information. This is helpful for viewing or manipulating specific rows based on their position or label."
            ],
            "metadata": {
                "vocVersion": "1.1",
                "cellIdentifier": "u7879ym2zh9pnloq5ac0l"
            },
            "execution_count": 0,
            "outputs": [],
            "attachments": {}
        },
        {
            "id": "39uzzqz4k7fshvqgcq9r8o",
            "cell_type": "markdown",
            "source": [
                "# 🔍 Finding What You're Looking For in Your Data Table\n",
                "\n",
                "**Let's Talk About Finding Things**\n",
                "\n",
                "Imagine you have a big photo album. Sometimes you want to find specific photos—maybe all the sunny day photos or all the photos from summer. In our data tables, we can do the same thing! We can find specific information we're interested in.\n",
                "\n",
                "\n",
                "**Understanding How to Compare Things in Python**\n",
                "\n",
                "\n",
                "Before we can find specific information, we need to learn how Python compares things. Let's think about temperature:\n",
                "\n",
                "If I ask you, \"Is 80 degrees warmer than 75 degrees?\", you would say, \"Yes!\"\n",
                "In Python, we write this using special symbols:"
            ],
            "metadata": {
                "vocVersion": "1.1",
                "cellIdentifier": "39uzzqz4k7fshvqgcq9r8o"
            },
            "execution_count": 0,
            "outputs": [],
            "attachments": {}
        },
        {
            "id": "dx18u4yjmxp42e41b8ivml",
            "cell_type": "code",
            "source": [
                "# Is 80 greater than 75?\n",
                "print(80 > 75)  # This prints: True"
            ],
            "metadata": {
                "vocVersion": "1.1",
                "cellIdentifier": "dx18u4yjmxp42e41b8ivml"
            },
            "execution_count": 17,
            "outputs": [],
            "attachments": {}
        },
        {
            "id": "ock937zytucc4l2x3lllmm",
            "cell_type": "markdown",
            "source": [
                "Here are all the ways we can compare things:\n",
                "- When we want to say \"greater than\", we use >.\n",
                "  Example: 80 > 75 (Is 80 greater than 75?)\n",
                "- When we want to say \"less than\", we use <.\n",
                "  Example: 75 < 80 (Is 75 less than 80?)\n",
                "- When we want to say \"exactly equal to\", we use ==.\n",
                "  Example: 75 == 75 (Is 75 equal to 75?)"
            ],
            "metadata": {
                "vocVersion": "1.1",
                "cellIdentifier": "ock937zytucc4l2x3lllmm"
            },
            "execution_count": 0,
            "outputs": [],
            "attachments": {}
        },
        {
            "id": "189kw1tdg7qechkq4fkj18",
            "cell_type": "markdown",
            "source": [
                "**Finding Things in Our Weather Table**\n",
                "\n",
                "Now, let's say we want to find all the warm days—days when the temperature was above 75 degrees.\n",
                "\n",
                "First, let's look at just the temperatures:"
            ],
            "metadata": {
                "vocVersion": "1.1",
                "cellIdentifier": "189kw1tdg7qechkq4fkj18"
            },
            "execution_count": 0,
            "outputs": [],
            "attachments": {}
        },
        {
            "id": "0sqboqw10v56ll1d4mynfk",
            "cell_type": "code",
            "source": [
                "# Look at all our temperatures\n",
                "print(\"All our temperatures:\")\n",
                "print(weather['Temperature'])"
            ],
            "metadata": {
                "vocVersion": "1.1",
                "cellIdentifier": "0sqboqw10v56ll1d4mynfk"
            },
            "execution_count": 18,
            "outputs": [],
            "attachments": {}
        },
        {
            "id": "k6okcxnzd2f0bc9lknley0q",
            "cell_type": "markdown",
            "source": [
                "Now, let's find the warm days. We'll do this step by step:\n",
                "\n",
                "1. First, we'll ask Python to check each temperature if it's above 75:"
            ],
            "metadata": {
                "vocVersion": "1.1",
                "cellIdentifier": "k6okcxnzd2f0bc9lknley0q"
            },
            "execution_count": 0,
            "outputs": [],
            "attachments": {}
        },
        {
            "id": "h6sznn520l8hy8py17kj8r",
            "cell_type": "code",
            "source": [
                "temperature_check = weather['Temperature'] > 75\n",
                "print(\"\\nIs each day warmer than 75 degrees?\")\n",
                "print(temperature_check)"
            ],
            "metadata": {
                "vocVersion": "1.1",
                "cellIdentifier": "h6sznn520l8hy8py17kj8r"
            },
            "execution_count": 19,
            "outputs": [],
            "attachments": {}
        },
        {
            "id": "inti95bh1fihodmhqrfsxu",
            "cell_type": "markdown",
            "source": [
                "You'll see True or False for each day:\n",
                "```\n",
                "0    False  # Monday is 75, not greater than 75\n",
                "1     True  # Tuesday is 80, yes greater than 75\n",
                "2    False  # Wednesday is 72, not greater than 75\n",
                "3    False  # Thursday is 68, not greater than 75\n",
                "4     True  # Friday is 82, yes greater than 75\n",
                "```\n",
                "\n",
                "This is like going through each day and asking, \"Is this temperature greater than 75?\""
            ],
            "metadata": {
                "vocVersion": "1.1",
                "cellIdentifier": "inti95bh1fihodmhqrfsxu"
            },
            "execution_count": 0,
            "outputs": [],
            "attachments": {}
        },
        {
            "id": "05bcg5lgi5y97v899fhc",
            "cell_type": "markdown",
            "source": [
                "2. Now, we can use this to show only the warm days:"
            ],
            "metadata": {
                "vocVersion": "1.1",
                "cellIdentifier": "05bcg5lgi5y97v899fhc"
            },
            "execution_count": 0,
            "outputs": [],
            "attachments": {}
        },
        {
            "id": "ko54ovm0p89t27xsm5w2a",
            "cell_type": "code",
            "source": [
                "# Show the warm days\n",
                "warm_days = weather[temperature_check]\n",
                "print(\"\\nHere are the warm days:\")\n",
                "print(warm_days)"
            ],
            "metadata": {
                "vocVersion": "1.1",
                "cellIdentifier": "ko54ovm0p89t27xsm5w2a"
            },
            "execution_count": 20,
            "outputs": [],
            "attachments": {}
        },
        {
            "id": "fwrly8gmdj4p2ecdl928k",
            "cell_type": "markdown",
            "source": [
                "You'll see only the days where the temperature was above 75 degrees!\n",
                ""
            ],
            "metadata": {
                "vocVersion": "1.1",
                "cellIdentifier": "fwrly8gmdj4p2ecdl928k"
            },
            "execution_count": 0,
            "outputs": [],
            "attachments": {}
        },
        {
            "id": "5d90vk9ulhj9robe0co6ou",
            "cell_type": "markdown",
            "source": [
                "**Finding Specific Weather Conditions**\n",
                "\n",
                "What if we want to find all the sunny days? This is a little different because 'Sunny' is text, not a number.\n",
                "\n",
                "When we're looking for exact text matches:\n",
                "- We must use == (two equal signs).\n",
                "- We must put the text in quotes.\n",
                "- The spelling must be exactly the same.\n",
                "\n",
                "Let's try it:"
            ],
            "metadata": {
                "vocVersion": "1.1",
                "cellIdentifier": "5d90vk9ulhj9robe0co6ou"
            },
            "execution_count": 0,
            "outputs": [],
            "attachments": {}
        },
        {
            "id": "ehnskky5rvgb3gqk7rywjl",
            "cell_type": "code",
            "source": [
                "# Find sunny days\n",
                "sunny_check = weather['Weather'] == 'Sunny'\n",
                "print(\"Is each day sunny?\")\n",
                "print(sunny_check)"
            ],
            "metadata": {
                "vocVersion": "1.1",
                "cellIdentifier": "ehnskky5rvgb3gqk7rywjl"
            },
            "execution_count": 21,
            "outputs": [],
            "attachments": {}
        },
        {
            "id": "i7cbhnagn20ebyu574mm86",
            "cell_type": "code",
            "source": [
                "# Show only the sunny days\n",
                "sunny_days = weather[sunny_check]\n",
                "print(\"\\nHere are the sunny days:\")\n",
                "print(sunny_days)"
            ],
            "metadata": {
                "vocVersion": "1.1",
                "cellIdentifier": "i7cbhnagn20ebyu574mm86"
            },
            "execution_count": 22,
            "outputs": [],
            "attachments": {}
        },
        {
            "id": "uyoymw1zy0hi38vwdbx2ch",
            "cell_type": "markdown",
            "source": [
                "✏️ **Task 2: Movie Collection Analysis**\n",
                "\n",
                "Now that you understand these concepts, let's apply them to your movie DataFrame from Task 1:\n",
                "\n",
                "Display the following:\n",
                "   - Just the movie names.\n",
                "   - Movies and their ratings together.\n",
                "   - Your first two movies.\n",
                "   - All movies with a rating of 5.\n",
                "   - All movies released after 2010."
            ],
            "metadata": {
                "vocVersion": "1.1",
                "cellIdentifier": "uyoymw1zy0hi38vwdbx2ch"
            },
            "execution_count": 0,
            "outputs": [],
            "attachments": {}
        },
        {
            "id": "a5igj0sfyluy8bhyrbu2d",
            "cell_type": "code",
            "source": [
                "### BEGIN SOLUTION\n",
                "# 1. Display just the movie names\n",
                "print(\"Just the movie names:\")\n",
                "print(movies_df['Movie'])\n",
                "print(\"\\n\")\n",
                "\n",
                "# 2. Display movies and their ratings together\n",
                "print(\"Movies and their ratings:\")\n",
                "print(movies_df[['Movie', 'Rating']])\n",
                "print(\"\\n\")\n",
                "\n",
                "# 3. Display first two movies\n",
                "print(\"First two movies in our collection:\")\n",
                "print(movies_df.head(2))\n",
                "print(\"\\n\")\n",
                "\n",
                "# 4. Find all movies with a rating of 5\n",
                "print(\"All movies with a perfect rating (5 stars):\")\n",
                "print(movies_df[movies_df['Rating'] == 5])\n",
                "print(\"\\n\")\n",
                "\n",
                "# 5. Find all movies released after 2010\n",
                "print(\"Movies released after 2010:\")\n",
                "print(movies_df[movies_df['Year'] > 2010])\n",
                "### END SOLUTION"
            ],
            "metadata": {
                "vocVersion": "1.1",
                "cellIdentifier": "a5igj0sfyluy8bhyrbu2d",
                "nbgrader": {
                    "grade": true,
                    "locked": false,
                    "solution": true,
                    "grade_id": "Task 2",
                    "points": "5"
                }
            },
            "execution_count": 24,
            "outputs": [],
            "attachments": {}
        },
        {
            "id": "pefavh6350px2acwai8e1h",
            "cell_type": "markdown",
            "source": [
                "# Working with Real Data: Your First Dataset\n",
                "\n",
                "**Introduction to Real Data**\n",
                "\n",
                "Until now, we've been creating our own small datasets. But in the real world, data usually comes from files, often in a format called CSV (Comma-Separated Values). Think of a CSV file like a spreadsheet saved in a simple format—it's just text with commas separating each piece of information.\n",
                ""
            ],
            "metadata": {
                "vocVersion": "1.1",
                "cellIdentifier": "pefavh6350px2acwai8e1h"
            },
            "execution_count": 0,
            "outputs": [],
            "attachments": {}
        },
        {
            "id": "ta1e4ceg8egf0xqnw0cs8",
            "cell_type": "markdown",
            "source": [
                "**Loading Our First Dataset**\n",
                "\n",
                "We'll use a famous dataset called the Palmer Penguins dataset. Let's load it from the internet:"
            ],
            "metadata": {
                "vocVersion": "1.1",
                "cellIdentifier": "ta1e4ceg8egf0xqnw0cs8"
            },
            "execution_count": 0,
            "outputs": [],
            "attachments": {}
        },
        {
            "id": "2dindrv6xf5oyh3umxpjfk",
            "cell_type": "code",
            "source": [
                "# Loading the dataset directly from the internet\n",
                "penguins_url = \"https://raw.githubusercontent.com/mwaskom/seaborn-data/master/penguins.csv\"\n",
                "penguins = pd.read_csv(penguins_url)"
            ],
            "metadata": {
                "vocVersion": "1.1",
                "cellIdentifier": "2dindrv6xf5oyh3umxpjfk"
            },
            "execution_count": 25,
            "outputs": [],
            "attachments": {}
        },
        {
            "id": "fl3q4uy9ontl1gay9kzaq",
            "cell_type": "markdown",
            "source": [
                "Let's understand what just happened:\n",
                "- pd.read_csv() is a special Pandas function that reads CSV files.\n",
                "- The URL points to where our data is stored on the internet.\n",
                "- We're storing the data in a variable called 'penguins'."
            ],
            "metadata": {
                "vocVersion": "1.1",
                "cellIdentifier": "fl3q4uy9ontl1gay9kzaq"
            },
            "execution_count": 0,
            "outputs": [],
            "attachments": {}
        },
        {
            "id": "anm048pvqor1rtbt5xbpd",
            "cell_type": "markdown",
            "source": [
                "**First Look at Our Data**\n",
                "\n",
                "When working with a new dataset, the first thing we should do is look at it:"
            ],
            "metadata": {
                "vocVersion": "1.1",
                "cellIdentifier": "anm048pvqor1rtbt5xbpd"
            },
            "execution_count": 0,
            "outputs": [],
            "attachments": {}
        },
        {
            "id": "wl6sztnzuvcv3v4b2h1n17",
            "cell_type": "code",
            "source": [
                "# Let's see what our data looks like\n",
                "print(\"First look at our penguin data:\")\n",
                "penguins"
            ],
            "metadata": {
                "vocVersion": "1.1",
                "cellIdentifier": "wl6sztnzuvcv3v4b2h1n17"
            },
            "execution_count": 26,
            "outputs": [],
            "attachments": {}
        },
        {
            "id": "os2qmwrtzn50aiqll00qg",
            "cell_type": "markdown",
            "source": [
                "**Understanding Our Dataset**\n",
                "\n",
                "Let's learn about what information we have:"
            ],
            "metadata": {
                "vocVersion": "1.1",
                "cellIdentifier": "os2qmwrtzn50aiqll00qg"
            },
            "execution_count": 0,
            "outputs": [],
            "attachments": {}
        },
        {
            "id": "iver7hgatvymsucrljgnf",
            "cell_type": "code",
            "source": [
                "# Get information about our dataset\n",
                "print(\"\\nInformation about our dataset:\")\n",
                "print(penguins.info())"
            ],
            "metadata": {
                "vocVersion": "1.1",
                "cellIdentifier": "iver7hgatvymsucrljgnf"
            },
            "execution_count": 27,
            "outputs": [],
            "attachments": {}
        },
        {
            "id": "0a6fpf9mo29h6ayjdqf56g",
            "cell_type": "markdown",
            "source": [
                "This shows us:\n",
                "- How many rows (penguins) we have.\n",
                "- What columns (characteristics) we have.\n",
                "- What type of data is in each column.\n",
                "- If there's any missing information.\n",
                "\n",
                "Let's break down what we're seeing:\n",
                "- Species: The type of penguin.\n",
                "- Island: Where the penguin was found.\n",
                "- bill_length_mm: Length of the penguin's bill in millimeters.\n",
                "- bill_depth_mm: Depth of the penguin's bill in millimeters.\n",
                "- And more..."
            ],
            "metadata": {
                "vocVersion": "1.1",
                "cellIdentifier": "0a6fpf9mo29h6ayjdqf56g"
            },
            "execution_count": 0,
            "outputs": [],
            "attachments": {}
        },
        {
            "id": "5hkr5tqrayp0llbcpif6jf",
            "cell_type": "markdown",
            "source": [
                "**Basic Dataset Operations**\n",
                "\n",
                "1. **Looking at Column Names**"
            ],
            "metadata": {
                "vocVersion": "1.1",
                "cellIdentifier": "5hkr5tqrayp0llbcpif6jf"
            },
            "execution_count": 0,
            "outputs": [],
            "attachments": {}
        },
        {
            "id": "g7qjticrm3h90p3luolg",
            "cell_type": "code",
            "source": [
                "# See what columns we have\n",
                "print(\"Our column names:\")\n",
                "print(penguins.columns)"
            ],
            "metadata": {
                "vocVersion": "1.1",
                "cellIdentifier": "g7qjticrm3h90p3luolg"
            },
            "execution_count": 28,
            "outputs": [],
            "attachments": {}
        },
        {
            "id": "1s4duwarxbjzofegpbrp5",
            "cell_type": "markdown",
            "source": [
                "2. **Basic Statistics**"
            ],
            "metadata": {
                "vocVersion": "1.1",
                "cellIdentifier": "1s4duwarxbjzofegpbrp5"
            },
            "execution_count": 29,
            "outputs": [],
            "attachments": {}
        },
        {
            "id": "uma0ua4lgha5spjis9zuo",
            "cell_type": "code",
            "source": [
                "# Get basic statistics about our numerical columns\n",
                "print(\"\\nBasic statistics about our penguins:\")\n",
                "print(penguins.describe())"
            ],
            "metadata": {
                "vocVersion": "1.1",
                "cellIdentifier": "uma0ua4lgha5spjis9zuo"
            },
            "execution_count": 30,
            "outputs": [],
            "attachments": {}
        },
        {
            "id": "swf7kf9br0j9d1irymh6k5",
            "cell_type": "markdown",
            "source": [
                "This shows us for each numerical column:\n",
                "- count: How many measurements we have.\n",
                "- mean: The average.\n",
                "- std: Standard deviation (how spread out the numbers are).\n",
                "- min: Smallest value.\n",
                "- max: Largest value.\n",
                "- And some other statistical measures."
            ],
            "metadata": {
                "vocVersion": "1.1",
                "cellIdentifier": "swf7kf9br0j9d1irymh6k5"
            },
            "execution_count": 0,
            "outputs": [],
            "attachments": {}
        },
        {
            "id": "mc85szcaipmj4uoc0fios",
            "cell_type": "markdown",
            "source": [
                "3. **Looking at Specific Columns**"
            ],
            "metadata": {
                "vocVersion": "1.1",
                "cellIdentifier": "mc85szcaipmj4uoc0fios"
            },
            "execution_count": 0,
            "outputs": [],
            "attachments": {}
        },
        {
            "id": "5z4odfnh8you1jfe4tlo8e",
            "cell_type": "code",
            "source": [
                "# Look at just the species\n",
                "print(\"Types of penguins in our dataset:\")\n",
                "print(penguins['species'].unique())"
            ],
            "metadata": {
                "vocVersion": "1.1",
                "cellIdentifier": "5z4odfnh8you1jfe4tlo8e"
            },
            "execution_count": 31,
            "outputs": [],
            "attachments": {}
        },
        {
            "id": "103fld4piuv2a04cuy9x9",
            "cell_type": "markdown",
            "source": [
                "The ['column_name'] syntax in pandas accesses a specific column in a DataFrame, focusing on its data. In the example, penguins['species'] selects the species column, and .unique() lists all distinct values in that column. This helps identify the unique types of penguins in the dataset."
            ],
            "metadata": {
                "vocVersion": "1.1",
                "cellIdentifier": "103fld4piuv2a04cuy9x9"
            },
            "execution_count": 0,
            "outputs": [],
            "attachments": {}
        },
        {
            "id": "8kfxz5qmesyxswk8645ccj",
            "cell_type": "code",
            "source": [
                "# Look at bill lengths\n",
                "print(\"Penguin bill lengths:\")\n",
                "print(penguins['bill_length_mm'])"
            ],
            "metadata": {
                "vocVersion": "1.1",
                "cellIdentifier": "8kfxz5qmesyxswk8645ccj"
            },
            "execution_count": 32,
            "outputs": [],
            "attachments": {}
        },
        {
            "id": "mi0h9pfsf3ky60zcau7al",
            "cell_type": "code",
            "source": [
                "# Look at the value counts for each species\n",
                "print(\"Type and Number of penguins in our dataset:\")\n",
                "print(penguins['species'].value_counts())"
            ],
            "metadata": {
                "vocVersion": "1.1",
                "cellIdentifier": "mi0h9pfsf3ky60zcau7al"
            },
            "execution_count": 33,
            "outputs": [],
            "attachments": {}
        },
        {
            "id": "27ntdeneysi47pe0nb9tv1",
            "cell_type": "markdown",
            "source": [
                "# Downloading and Uploading Your First Dataset to Google Colab\n",
                "\n",
                "In this section, instead of pulling a dataset from GitHub, we'll download a dataset to our computer first and upload it to Google Colab.\n",
                "\n",
                "**Part 1: Downloading the Dataset to Your Computer**\n",
                "\n",
                "First, let's get the dataset onto your computer:\n",
                "\n",
                "1. Open your web browser.\n",
                "2. Visit this URL: https://raw.githubusercontent.com/datasciencedojo/datasets/master/titanic.csv.\n",
                "3. When the page opens, you'll see text that looks like a spreadsheet.\n",
                "4. Right-click anywhere on the page (except the text).\n",
                "5. Select \"Save As\".\n",
                "6. Choose where to save it on your computer:\n",
                "   - Click 'Desktop' on the left panel (this makes it easy to find).\n",
                "   - In the \"File name\" box, type: titanic.csv.\n",
                "   - Make sure \"Save as type\" shows \"Text Document\" or \"All Files\".\n",
                "   - Click the \"Save\" button.\n",
                "\n",
                "Now check your Desktop—you should see a new file called \"titanic.csv\"."
            ],
            "metadata": {
                "vocVersion": "1.1",
                "cellIdentifier": "27ntdeneysi47pe0nb9tv1"
            },
            "execution_count": 0,
            "outputs": [],
            "attachments": {}
        },
        {
            "id": "8xtrmcp72cj85im2cinik5",
            "cell_type": "markdown",
            "source": [
                "**Part 2: Uploading Your Dataset to Colab**\n",
                "\n",
                "Now comes the important part—getting your data into Colab:\n",
                "\n",
                "1. Look at the left side of your Colab window:\n",
                "   - Find the folder icon (it looks like 📁).\n",
                "   - Click it to open the \"Files\" panel.\n",
                "\n",
                "2. In the Files panel:\n",
                "   - Look for an icon that looks like a file with an arrow that says \"Upload to session storage\".\n",
                "   - Click this upload icon.\n",
                "   - A file picker window will open.\n",
                "\n",
                "3. Finding your file:\n",
                "   - Click \"Desktop\" on the left.\n",
                "   - Find \"titanic.csv\".\n",
                "   - Click on it once to select it.\n",
                "   - Click \"Open\".\n",
                "\n",
                "4. Wait for upload:\n",
                "   - You'll see a progress bar.\n",
                "   - When it's done, you'll see titanic.csv in your Files panel."
            ],
            "metadata": {
                "vocVersion": "1.1",
                "cellIdentifier": "8xtrmcp72cj85im2cinik5"
            },
            "execution_count": 0,
            "outputs": [],
            "attachments": {}
        },
        {
            "id": "f3aqel12ih9e97sgi6c5up",
            "cell_type": "markdown",
            "source": [
                "**Part 3: Checking Your Upload**\n",
                "\n",
                "Let's make sure everything worked:"
            ],
            "metadata": {
                "vocVersion": "1.1",
                "cellIdentifier": "f3aqel12ih9e97sgi6c5up"
            },
            "execution_count": 0,
            "outputs": [],
            "attachments": {}
        },
        {
            "id": "eg334yyf92hwai60aj7elq",
            "cell_type": "code",
            "source": [
                "# Now read the uploaded file\n",
                "titanic_df = pd.read_csv('titanic.csv')"
            ],
            "metadata": {
                "vocVersion": "1.1",
                "cellIdentifier": "eg334yyf92hwai60aj7elq"
            },
            "execution_count": 36,
            "outputs": [],
            "attachments": {}
        },
        {
            "id": "4v21rnhf75ryve50059psl",
            "cell_type": "code",
            "source": [
                "# Let's look at the first few rows\n",
                "print(\"First few rows of our data:\")\n",
                "titanic_df.head()"
            ],
            "metadata": {
                "vocVersion": "1.1",
                "cellIdentifier": "4v21rnhf75ryve50059psl"
            },
            "execution_count": 0,
            "outputs": [],
            "attachments": {}
        },
        {
            "id": "7e7k09cfcp2ashy1zhjicw",
            "cell_type": "markdown",
            "source": [
                "# Data Visualization\n",
                "Imagine you have a big spreadsheet full of numbers about Titanic passengers. Reading through all those numbers can be overwhelming and boring. But what if we could turn those numbers into pictures that tell stories? That's exactly what data visualization helps us do!\n",
                "\n",
                "**Setting Up Our Tools**\n",
                "\n",
                "First, we need to get our digital art supplies ready. Just like you need different brushes and colors for painting, we need specific tools for creating data visualizations. You've already imported pandas and loaded your Titanic dataset. Now, let's add Matplotlib to our toolkit:"
            ],
            "metadata": {
                "vocVersion": "1.1",
                "cellIdentifier": "7e7k09cfcp2ashy1zhjicw"
            },
            "execution_count": 0,
            "outputs": [],
            "attachments": {}
        },
        {
            "id": "su3fcegj2dn1pbvxvnt5ed",
            "cell_type": "code",
            "source": [
                "import matplotlib.pyplot as plt"
            ],
            "metadata": {
                "vocVersion": "1.1",
                "cellIdentifier": "su3fcegj2dn1pbvxvnt5ed"
            },
            "execution_count": 37,
            "outputs": [],
            "attachments": {}
        },
        {
            "id": "i36ee6iddqc94190yu2j5",
            "cell_type": "markdown",
            "source": [
                "The 'plt' part is like creating a nickname—it's shorter and easier to write than 'matplotlib.pyplot' every time.\n",
                "**Understanding the Matplotlib Canvas**\n",
                "\n",
                "Before we start creating visualizations, let's understand how Matplotlib works. Think of it like digital painting:"
            ],
            "metadata": {
                "vocVersion": "1.1",
                "cellIdentifier": "i36ee6iddqc94190yu2j5"
            },
            "execution_count": 0,
            "outputs": [],
            "attachments": {}
        },
        {
            "id": "ldfx5htu12hljc1rr02h",
            "cell_type": "code",
            "source": [
                "# This creates our blank canvas\n",
                "plt.figure(figsize=(8, 6))\n",
                "\n",
                "# This is where we'll draw our visualization\n",
                "# We'll add this part soon!\n",
                "\n",
                "# This displays our finished work\n",
                "plt.show()"
            ],
            "metadata": {
                "vocVersion": "1.1",
                "cellIdentifier": "ldfx5htu12hljc1rr02h"
            },
            "execution_count": 38,
            "outputs": [],
            "attachments": {}
        },
        {
            "id": "qet7yve04dshgl3hx7fd2t",
            "cell_type": "markdown",
            "source": [
                "The `figsize=(8, 6)` means we're creating a canvas that's 8 inches wide and 6 inches tall. Always start with `plt.figure()` and end with `plt.show()` - think of these as opening and closing your sketchbook."
            ],
            "metadata": {
                "vocVersion": "1.1",
                "cellIdentifier": "qet7yve04dshgl3hx7fd2t"
            },
            "execution_count": 0,
            "outputs": [],
            "attachments": {}
        },
        {
            "id": "envhxacfxvwm3trizrch",
            "cell_type": "markdown",
            "source": [
                "**Creating Our First Visualization: Bar Charts**\n",
                "\n",
                "Let's start with something simple but powerful—a bar chart showing how many passengers survived versus didn't survive:"
            ],
            "metadata": {
                "vocVersion": "1.1",
                "cellIdentifier": "envhxacfxvwm3trizrch"
            },
            "execution_count": 0,
            "outputs": [],
            "attachments": {}
        },
        {
            "id": "3uhzygs2hkmdifv2vo0oeo",
            "cell_type": "code",
            "source": [
                "# First, let's prepare our data\n",
                "survival_counts = titanic_df['Survived'].value_counts()\n",
                "survival_counts"
            ],
            "metadata": {
                "vocVersion": "1.1",
                "cellIdentifier": "3uhzygs2hkmdifv2vo0oeo"
            },
            "execution_count": 0,
            "outputs": [],
            "attachments": {}
        },
        {
            "id": "ln7w5ntzmsiev0xggasy",
            "cell_type": "code",
            "source": [
                "# Creating a simple bar chart\n",
                "plt.bar(['Did Not Survive', 'Survived'], survival_counts)"
            ],
            "metadata": {
                "vocVersion": "1.1",
                "cellIdentifier": "ln7w5ntzmsiev0xggasy"
            },
            "execution_count": 0,
            "outputs": [],
            "attachments": {}
        },
        {
            "id": "dm8tlvw9w76cj1peet7z9m",
            "cell_type": "markdown",
            "source": [
                "We can create a simple visualization using plt.bar\n",
                "\n",
                "If we wanted to improve this plot by adding in a title, making the plot bigger, and labeling our axes, we can do so like this:"
            ],
            "metadata": {
                "vocVersion": "1.1",
                "cellIdentifier": "dm8tlvw9w76cj1peet7z9m"
            },
            "execution_count": 0,
            "outputs": [],
            "attachments": {}
        },
        {
            "id": "exajq7mbw5bx85gya3t3e",
            "cell_type": "code",
            "source": [
                "# Step 1: Create the canvas\n",
                "plt.figure(figsize=(8, 6))\n",
                "\n",
                "# Step 2: Create the bars\n",
                "plt.bar(['Did Not Survive', 'Survived'], survival_counts)\n",
                "\n",
                "# Step 3: Add a title\n",
                "plt.title('Titanic: Survival Numbers', fontsize=14, pad=15)\n",
                "\n",
                "# Step 4: Label our axes\n",
                "plt.xlabel('Survival Status', fontsize=12)\n",
                "plt.ylabel('Number of Passengers', fontsize=12)\n",
                "\n",
                "# Step 5: Display the plot\n",
                "plt.show()"
            ],
            "metadata": {
                "vocVersion": "1.1",
                "cellIdentifier": "exajq7mbw5bx85gya3t3e"
            },
            "execution_count": 0,
            "outputs": [],
            "attachments": {}
        },
        {
            "id": "al2iwp6fc5ts2csiae67co",
            "cell_type": "markdown",
            "source": [
                "Try removing Step 3, Step 4, and Step 5 and re-run the cell above to see the impact it would make on the plot."
            ],
            "metadata": {
                "vocVersion": "1.1",
                "cellIdentifier": "al2iwp6fc5ts2csiae67co"
            },
            "execution_count": 0,
            "outputs": [],
            "attachments": {}
        },
        {
            "id": "gdkcpexf26mp7m59djgrm",
            "cell_type": "markdown",
            "source": [
                "Let's make the plot even better by adding colors and customizing our bars:"
            ],
            "metadata": {
                "vocVersion": "1.1",
                "cellIdentifier": "gdkcpexf26mp7m59djgrm"
            },
            "execution_count": 0,
            "outputs": [],
            "attachments": {}
        },
        {
            "id": "zqmaegwrf4wrpdqaysgn",
            "cell_type": "code",
            "source": [
                "plt.figure(figsize=(8, 6))\n",
                "plt.bar(['Did Not Survive', 'Survived'],\n",
                "        survival_counts,\n",
                "        color=['#FF9999', '#66B2FF'],  # Using pretty colors\n",
                "        width=0.7,  # Making our bars slightly thinner\n",
                "        edgecolor='black',  # Adding black edges\n",
                "        linewidth=1)  # Making the edges slightly thicker\n",
                "\n",
                "# Adding exact numbers on top of each bar\n",
                "for i, count in enumerate(survival_counts):\n",
                "    plt.text(i, count, str(count),\n",
                "             ha='center', va='bottom')\n",
                "\n",
                "plt.title('Titanic: Survival Numbers', fontsize=14, pad=15)\n",
                "plt.xlabel('Survival Status', fontsize=12)\n",
                "plt.ylabel('Number of Passengers', fontsize=12)\n",
                "\n",
                "# Adding grid lines to make it easier to read\n",
                "plt.grid(axis='y', linestyle='--', alpha=0.7)\n",
                "\n",
                "plt.show()"
            ],
            "metadata": {
                "vocVersion": "1.1",
                "cellIdentifier": "zqmaegwrf4wrpdqaysgn"
            },
            "execution_count": 0,
            "outputs": [],
            "attachments": {}
        },
        {
            "id": "4jvdpjxqespiosmyqu76k",
            "cell_type": "markdown",
            "source": [
                "**Creating Beautiful Pie Charts**\n",
                "\n",
                "Now, let's learn how to make pie charts. These are perfect for showing parts of a whole:"
            ],
            "metadata": {
                "vocVersion": "1.1",
                "cellIdentifier": "4jvdpjxqespiosmyqu76k"
            },
            "execution_count": 0,
            "outputs": [],
            "attachments": {}
        },
        {
            "id": "j1ao4b2skg8lurmcvpwt4",
            "cell_type": "code",
            "source": [
                "# Preparing our data\n",
                "class_counts = titanic_df['Pclass'].value_counts()\n",
                "class_counts"
            ],
            "metadata": {
                "vocVersion": "1.1",
                "cellIdentifier": "j1ao4b2skg8lurmcvpwt4"
            },
            "execution_count": 0,
            "outputs": [],
            "attachments": {}
        },
        {
            "id": "22l0fc83o5xad7gny76o5",
            "cell_type": "code",
            "source": [
                "# Start by creating a simple pie chart\n",
                "plt.pie(class_counts, labels=class_counts.index)"
            ],
            "metadata": {
                "vocVersion": "1.1",
                "cellIdentifier": "22l0fc83o5xad7gny76o5"
            },
            "execution_count": 0,
            "outputs": [],
            "attachments": {}
        },
        {
            "id": "fbkkxpu24h45il8l04wow",
            "cell_type": "markdown",
            "source": [
                "We can always start by creating a simple pie chart and then improve the chart incrementally."
            ],
            "metadata": {
                "vocVersion": "1.1",
                "cellIdentifier": "fbkkxpu24h45il8l04wow"
            },
            "execution_count": 0,
            "outputs": [],
            "attachments": {}
        },
        {
            "id": "9zh60knaduir7sxs9m4md9",
            "cell_type": "code",
            "source": [
                "# Creating a more sophisticated pie chart\n",
                "plt.figure(figsize=(10, 8))\n",
                "plt.pie(class_counts,\n",
                "        labels=['Third Class', 'First Class', 'Second Class'],\n",
                "        colors=['#FF9999', '#66B2FF', '#99FF99'],\n",
                "        autopct='%1.1f%%',  # Show percentages with 1 decimal point\n",
                "        pctdistance=0.85,  # Move percentage numbers outward\n",
                "        explode=(0.05, 0, 0),  # Slightly separate the first slice\n",
                "        shadow=True)  # Add a shadow effect\n",
                "\n",
                "plt.title('Distribution of Passenger Classes on Titanic',\n",
                "          fontsize=14, pad=20)\n",
                "\n",
                "# Adding a nice legend\n",
                "plt.legend(bbox_to_anchor=(1.2, 0.5), loc='center')\n",
                "\n",
                "plt.show()"
            ],
            "metadata": {
                "vocVersion": "1.1",
                "cellIdentifier": "9zh60knaduir7sxs9m4md9"
            },
            "execution_count": 0,
            "outputs": [],
            "attachments": {}
        },
        {
            "id": "wcm6k4328bmziuly1t8wdm",
            "cell_type": "markdown",
            "source": [
                "**Exploring Age Distributions with Histograms**\n",
                "\n",
                "Histograms help us understand how values are distributed. Let's look at passenger ages:"
            ],
            "metadata": {
                "vocVersion": "1.1",
                "cellIdentifier": "wcm6k4328bmziuly1t8wdm"
            },
            "execution_count": 0,
            "outputs": [],
            "attachments": {}
        },
        {
            "id": "v7x95wscvn6fkprmlz4zh",
            "cell_type": "code",
            "source": [
                "# Simple histogram plot to view the age of all passengers\n",
                "plt.hist(titanic_df['Age'])"
            ],
            "metadata": {
                "vocVersion": "1.1",
                "cellIdentifier": "v7x95wscvn6fkprmlz4zh"
            },
            "execution_count": 0,
            "outputs": [],
            "attachments": {}
        },
        {
            "id": "8kvil9076dfn5a175ad5yq",
            "cell_type": "markdown",
            "source": [
                "We can ask a LLM to help us create and improve our plot."
            ],
            "metadata": {
                "vocVersion": "1.1",
                "cellIdentifier": "8kvil9076dfn5a175ad5yq"
            },
            "execution_count": 0,
            "outputs": [],
            "attachments": {}
        },
        {
            "id": "shghkcn7wpfvo0s627pqt",
            "cell_type": "markdown",
            "source": [
                "![image.png](data:image/png;base64,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)"
            ],
            "metadata": {
                "vocVersion": "1.1",
                "cellIdentifier": "shghkcn7wpfvo0s627pqt"
            },
            "execution_count": 0,
            "outputs": [],
            "attachments": {}
        },
        {
            "id": "renykdznub7xc8ixx8b3d",
            "cell_type": "markdown",
            "source": [
                "![image.png](data:image/png;base64,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)"
            ],
            "metadata": {
                "vocVersion": "1.1",
                "cellIdentifier": "renykdznub7xc8ixx8b3d"
            },
            "execution_count": 0,
            "outputs": [],
            "attachments": {}
        },
        {
            "id": "ykq0jaucf4klczn5qenil",
            "cell_type": "code",
            "source": [
                "# Improved histogram plot\n",
                "plt.figure(figsize=(10, 6))  # Set figure size\n",
                "plt.hist(titanic_df['Age'], color='skyblue', edgecolor='black', alpha=0.7)\n",
                "plt.title('Distribution of Passenger Ages', fontsize=16)\n",
                "plt.xlabel('Age', fontsize=14)\n",
                "plt.ylabel('Frequency', fontsize=14)\n",
                "plt.grid(axis='y', alpha=0.75)\n",
                "plt.xticks(fontsize=12)\n",
                "plt.yticks(fontsize=12)\n",
                "\n",
                "# Show the plot\n",
                "plt.tight_layout()\n",
                "plt.show()\n",
                ""
            ],
            "metadata": {
                "vocVersion": "1.1",
                "cellIdentifier": "ykq0jaucf4klczn5qenil"
            },
            "execution_count": 0,
            "outputs": [],
            "attachments": {}
        },
        {
            "id": "g62czro08vrfa0ndx9aoc9",
            "cell_type": "markdown",
            "source": [
                "✏️ **Task 3: Create Your Data Story**\n",
                "\n",
                "Create a series of visualizations that tell a story about the Titanic passengers:\n",
                "\n",
                "1. Create a bar chart showing:\n",
                "   - Number of male and female passengers.\n",
                "   - Use colors '#FF9999' for females and '#66B2FF' for males.\n",
                "   - Add a descriptive title and proper axis labels.\n",
                ""
            ],
            "metadata": {
                "vocVersion": "1.1",
                "cellIdentifier": "g62czro08vrfa0ndx9aoc9"
            },
            "execution_count": 0,
            "outputs": [],
            "attachments": {}
        },
        {
            "id": "ashol0gfoqll7qshfdbn1r",
            "cell_type": "code",
            "source": [
                "### BEGIN SOLUTION\n",
                "# Get the gender counts\n",
                "gender_counts = titanic_df['Sex'].value_counts()\n",
                "\n",
                "# Create the bar chart\n",
                "plt.figure(figsize=(10, 6))\n",
                "bars = plt.bar(['Female', 'Male'],\n",
                "               gender_counts,\n",
                "               color=['#FF9999', '#66B2FF'],\n",
                "               width=0.7,\n",
                "               edgecolor='black',\n",
                "               linewidth=1)\n",
                "\n",
                "plt.title('Gender Distribution of Titanic Passengers',\n",
                "          fontsize=14, pad=15)\n",
                "plt.xlabel('Gender', fontsize=12)\n",
                "plt.ylabel('Number of Passengers', fontsize=12)\n",
                "\n",
                "plt.grid(axis='y', linestyle='--', alpha=0.3)\n",
                "plt.show()\n",
                "### END SOLUTION\n",
                "\n",
                ""
            ],
            "metadata": {
                "vocVersion": "1.1",
                "cellIdentifier": "ashol0gfoqll7qshfdbn1r",
                "nbgrader": {
                    "grade": false,
                    "locked": false,
                    "solution": true
                }
            },
            "execution_count": 1,
            "outputs": [],
            "attachments": {}
        },
        {
            "id": "gug10m4y3hcs2u43ocgjc",
            "cell_type": "code",
            "source": [
                "### BEGIN HIDDEN TESTS\n",
                "import pandas as pd\n",
                "import matplotlib.pyplot as plt\n",
                "from IPython import get_ipython\n",
                "\n",
                "# Step 1: Mock the Titanic dataset\n",
                "titanic_df = pd.DataFrame({'Sex': ['male'] * 577 + ['female'] * 314})\n",
                "\n",
                "# Step 2: Get the student's most recent bar chart cell\n",
                "shell = get_ipython()\n",
                "history = list(shell.history_manager.get_tail(10))  # look further back\n",
                "student_code = None\n",
                "for _, _, code in reversed(history):\n",
                "    if \"plt.bar\" in code and \"assert\" not in code:\n",
                "        student_code = code\n",
                "        break\n",
                "\n",
                "assert student_code, \"❌ Could not find student's bar chart code.\"\n",
                "\n",
                "# Step 3: Monkey-patch plt.show to prevent figure clearing\n",
                "original_show = plt.show\n",
                "plt.show = lambda *args, **kwargs: None\n",
                "\n",
                "# Step 4: Execute the student's code safely\n",
                "exec(student_code, globals())\n",
                "\n",
                "# Step 5: Restore original plt.show\n",
                "plt.show = original_show\n",
                "\n",
                "# Step 6: Grade the resulting plot\n",
                "ax = plt.gca()\n",
                "bars = [b for b in ax.patches if b.get_height() > 0]\n",
                "labels = [tick.get_text() for tick in ax.get_xticklabels() if tick.get_text()]\n",
                "heights = [b.get_height() for b in bars]\n",
                "\n",
                "assert len(bars) == 2, f\"❌ Expected 2 bars (Male & Female), but found {len(bars)}.\"\n",
                "assert labels, \"❌ X-axis labels are missing.\"\n",
                "assert ax.get_title(), \"❌ Chart is missing a title.\"\n",
                "assert ax.get_xlabel(), \"❌ Chart is missing an x-axis label.\"\n",
                "assert ax.get_ylabel(), \"❌ Chart is missing a y-axis label.\"\n",
                "\n",
                "print(\"✅ Chart created successfully and includes 2 bars with all required labels.\")\n",
                "### END HIDDEN TESTS\n",
                ""
            ],
            "metadata": {
                "vocVersion": "1.1",
                "cellIdentifier": "gug10m4y3hcs2u43ocgjc",
                "nbgrader": {
                    "grade": true,
                    "locked": true,
                    "solution": false,
                    "grade_id": "Task 3",
                    "points": "5"
                }
            },
            "execution_count": 0,
            "outputs": [],
            "attachments": {}
        },
        {
            "id": "ilegbp2ove5jrml9c3877",
            "cell_type": "markdown",
            "source": [
                "2. Create a pie chart showing:\n",
                "\n",
                "- The proportion of survival outcomes (Survived vs Did Not Survive).\n",
                "- Use colors '#98FB98' (light green) for survivors and '#FFB6C1' (light red) for non-survivors.\n",
                "- Add a clear title that describes what the visualization shows.\n",
                ""
            ],
            "metadata": {
                "vocVersion": "1.1",
                "cellIdentifier": "ilegbp2ove5jrml9c3877"
            },
            "execution_count": 0,
            "outputs": [],
            "attachments": {}
        },
        {
            "id": "ddepc8ir0wchlyz9bs6fa",
            "cell_type": "code",
            "source": [
                "### BEGIN SOLUTION\n",
                "# Count male and female passengers\n",
                "gender_counts = titanic_df['Sex'].value_counts()\n",
                "\n",
                "# Create the pie chart\n",
                "plt.figure(figsize=(10, 8))\n",
                "plt.pie(gender_counts,\n",
                "       labels=['Male', 'Female'],\n",
                "       colors=['#66B2FF', '#FF9999'])\n",
                "\n",
                "plt.title('Gender Distribution of Titanic Passengers',\n",
                "         fontsize=14, pad=20)\n",
                "plt.show()\n",
                "### END SOLUTION"
            ],
            "metadata": {
                "vocVersion": "1.1",
                "cellIdentifier": "ddepc8ir0wchlyz9bs6fa",
                "nbgrader": {
                    "grade": false,
                    "locked": false,
                    "solution": true
                }
            },
            "execution_count": 0,
            "outputs": [],
            "attachments": {}
        },
        {
            "id": "2nsrn7t4o943undfwejtba",
            "cell_type": "code",
            "source": [
                "### BEGIN HIDDEN TESTS\n",
                "import pandas as pd\n",
                "import matplotlib.pyplot as plt\n",
                "from IPython import get_ipython\n",
                "\n",
                "# Step 1: Mock the Titanic dataset\n",
                "titanic_df = pd.DataFrame({'Sex': ['male'] * 577 + ['female'] * 314})\n",
                "\n",
                "# Step 2: Get the student's most recent pie chart cell\n",
                "shell = get_ipython()\n",
                "history = list(shell.history_manager.get_tail(10))\n",
                "student_code = None\n",
                "for _, _, code in reversed(history):\n",
                "    if \"plt.pie\" in code and \"assert\" not in code:\n",
                "        student_code = code\n",
                "        break\n",
                "\n",
                "assert student_code, \"❌ Could not find student's pie chart code.\"\n",
                "\n",
                "# Step 3: Monkey-patch plt.show to prevent figure clearing\n",
                "original_show = plt.show\n",
                "plt.show = lambda *args, **kwargs: None\n",
                "\n",
                "# Step 4: Execute the student's code with the mock titanic_df\n",
                "exec(student_code, globals())\n",
                "\n",
                "# Step 5: Restore plt.show\n",
                "plt.show = original_show\n",
                "\n",
                "# Step 6: Grade the resulting\n",
                ""
            ],
            "metadata": {
                "vocVersion": "1.1",
                "cellIdentifier": "2nsrn7t4o943undfwejtba",
                "nbgrader": {
                    "grade": true,
                    "locked": true,
                    "solution": false,
                    "grade_id": "Task 4",
                    "points": "5"
                }
            },
            "execution_count": 0,
            "outputs": [],
            "attachments": {}
        },
        {
            "id": "qx1t1a6thojwfnxu3665n",
            "cell_type": "markdown",
            "source": [
                "3. Create a detailed histogram showing:\n",
                "   - The distribution of ticket prices (fare column).\n",
                "   - Add proper title and axis labels."
            ],
            "metadata": {
                "vocVersion": "1.1",
                "cellIdentifier": "qx1t1a6thojwfnxu3665n"
            },
            "execution_count": 0,
            "outputs": [],
            "attachments": {}
        },
        {
            "id": "rhgwgbeta5a64jidhw1ocb",
            "cell_type": "code",
            "source": [
                "### BEGIN SOLUTION\n",
                "plt.figure(figsize=(10, 6))\n",
                "\n",
                "plt.hist(titanic_df['Fare'].dropna(),\n",
                "         bins=30,\n",
                "         color='#66B2FF',\n",
                "         edgecolor='black',\n",
                "         linewidth=1,\n",
                "         alpha=0.7)\n",
                "\n",
                "plt.title('Distribution of Ticket Fares on Titanic',\n",
                "          fontsize=14, pad=15)\n",
                "plt.xlabel('Fare (in Pounds Sterling)', fontsize=12)\n",
                "plt.ylabel('Number of Passengers', fontsize=12)\n",
                "\n",
                "plt.grid(axis='y', linestyle='--', alpha=0.3)\n",
                "plt.show()\n",
                "### END SOLUTION\n",
                ""
            ],
            "metadata": {
                "vocVersion": "1.1",
                "cellIdentifier": "rhgwgbeta5a64jidhw1ocb",
                "nbgrader": {
                    "grade": false,
                    "locked": false,
                    "solution": true
                }
            },
            "execution_count": 0,
            "outputs": [],
            "attachments": {}
        },
        {
            "id": "7clltf9t9y9pz7u475k4i",
            "cell_type": "code",
            "source": [
                "### BEGIN HIDDEN TESTS\n",
                "import pandas as pd\n",
                "import matplotlib.pyplot as plt\n",
                "from IPython import get_ipython\n",
                "\n",
                "# Step 1: Mock the Titanic dataset with realistic 'Fare' values\n",
                "titanic_df = pd.DataFrame({\n",
                "    'Fare': [7.25, 71.83, 8.05, 53.10, 8.46, 51.86, 21.08, 11.13, 30.07] * 100  # 900 values\n",
                "})\n",
                "\n",
                "# Step 2: Get the student's most recent histogram cell\n",
                "shell = get_ipython()\n",
                "history = list(shell.history_manager.get_tail(10))\n",
                "student_code = None\n",
                "for _, _, code in reversed(history):\n",
                "    if \"plt.hist\" in code and \"assert\" not in code:\n",
                "        student_code = code\n",
                "        break\n",
                "\n",
                "assert student_code, \"❌ Could not find student's histogram code.\"\n",
                "\n",
                "# Step 3: Monkey-patch plt.show to prevent figure clearing\n",
                "original_show = plt.show\n",
                "plt.show = lambda *args, **kwargs: None\n",
                "\n",
                "# Step 4: Execute the student's code with the mock titanic_df\n",
                "exec(student_code, globals())\n",
                "\n",
                "# Step 5: Restore plt.show\n",
                "plt.show = original_show\n",
                "\n",
                "# Step 6: Grade the resulting histogram\n",
                "ax = plt.gca()\n",
                "bars = [b for b in ax.patches if b.get_height() > 0 and b.get_width() > 0]\n",
                "has_title = bool(ax.get_title())\n",
                "has_xlabel = bool(ax.get_xlabel())\n",
                "has_ylabel = bool(ax.get_ylabel())\n",
                "\n",
                "assert bars, \"❌ No histogram bars found. Did you use plt.hist()?\"\n",
                "assert has_title, \"❌ Missing chart title.\"\n",
                "assert has_xlabel, \"❌ Missing x-axis label.\"\n",
                "assert has_ylabel, \"❌ Missing y-axis label.\"\n",
                "\n",
                "print(\"✅ Histogram created successfully with bars, labels, and title.\")\n",
                "### END HIDDEN TESTS\n",
                ""
            ],
            "metadata": {
                "vocVersion": "1.1",
                "cellIdentifier": "7clltf9t9y9pz7u475k4i",
                "nbgrader": {
                    "grade": true,
                    "locked": true,
                    "solution": false,
                    "grade_id": "Task 5",
                    "points": "5"
                }
            },
            "execution_count": 0,
            "outputs": [],
            "attachments": {}
        },
        {
            "id": "2g2gvh88l6s48028o8x0xs",
            "cell_type": "markdown",
            "source": [
                "**Introduction to Seaborn**\n",
                "\n",
                "Now that we understand basic data visualization with Matplotlib, let's explore a more powerful library called Seaborn. Seaborn is built on top of Matplotlib but makes it easier to create beautiful and informative statistical visualizations.\n",
                "\n",
                "**Setting Up Seaborn**\n",
                "\n",
                "First, let's import Seaborn alongside our other libraries. We'll give it the nickname 'sns' (this is a traditional shorthand used by data scientists):"
            ],
            "metadata": {
                "vocVersion": "1.1",
                "cellIdentifier": "2g2gvh88l6s48028o8x0xs"
            },
            "execution_count": 0,
            "outputs": [],
            "attachments": {}
        },
        {
            "id": "wi6q1lcg0lju8ffjr3774",
            "cell_type": "code",
            "source": [
                "import seaborn as sns\n",
                "\n",
                "# Set the style for all our visualizations\n",
                "sns.set_style(\"whitegrid\")"
            ],
            "metadata": {
                "vocVersion": "1.1",
                "cellIdentifier": "wi6q1lcg0lju8ffjr3774"
            },
            "execution_count": 39,
            "outputs": [],
            "attachments": {}
        },
        {
            "id": "aj6i1vcb6akvcm2zeejydo",
            "cell_type": "code",
            "source": [
                "plt.figure(figsize=(10, 6))\n",
                "sns.countplot(data=titanic_df, x='Sex')\n",
                "plt.title('Gender Distribution on Titanic')\n",
                "plt.xlabel('Gender')\n",
                "plt.ylabel('Number of Passengers')\n",
                "plt.show()"
            ],
            "metadata": {
                "vocVersion": "1.1",
                "cellIdentifier": "aj6i1vcb6akvcm2zeejydo"
            },
            "execution_count": 0,
            "outputs": [],
            "attachments": {}
        },
        {
            "id": "jd7sigv3fseadnr3e5xy",
            "cell_type": "markdown",
            "source": [
                "Notice how Seaborn automatically adds colors and grid lines. This is one of the advantages of Seaborn – it makes plots look good by default."
            ],
            "metadata": {
                "vocVersion": "1.1",
                "cellIdentifier": "jd7sigv3fseadnr3e5xy"
            },
            "execution_count": 0,
            "outputs": [],
            "attachments": {}
        },
        {
            "id": "5r7m9txyup67hn3qelrlc",
            "cell_type": "markdown",
            "source": [
                "**Creating More Advanced Visualizations**\n",
                "\n",
                "Let's explore survival rates across different categories using a more sophisticated plot:"
            ],
            "metadata": {
                "vocVersion": "1.1",
                "cellIdentifier": "5r7m9txyup67hn3qelrlc"
            },
            "execution_count": 0,
            "outputs": [],
            "attachments": {}
        },
        {
            "id": "jl237aw2orgmhowm8zbm1e",
            "cell_type": "code",
            "source": [
                "plt.figure(figsize=(10, 6))\n",
                "sns.countplot(data=titanic_df, x='Sex', hue='Survived')\n",
                "plt.title('Survival by Gender')\n",
                "plt.xlabel('Gender')\n",
                "plt.ylabel('Number of Passengers')\n",
                "plt.legend(title='Survival', labels=['Did Not Survive', 'Survived'])\n",
                "plt.show()"
            ],
            "metadata": {
                "vocVersion": "1.1",
                "cellIdentifier": "jl237aw2orgmhowm8zbm1e"
            },
            "execution_count": 0,
            "outputs": [],
            "attachments": {}
        },
        {
            "id": "df5u0f54o5jbm96426tbp",
            "cell_type": "markdown",
            "source": [
                "The 'hue' parameter adds another dimension to our visualization by splitting each bar by survival status."
            ],
            "metadata": {
                "vocVersion": "1.1",
                "cellIdentifier": "df5u0f54o5jbm96426tbp"
            },
            "execution_count": 0,
            "outputs": [],
            "attachments": {}
        },
        {
            "id": "4stdf693szloepehtb05i",
            "cell_type": "markdown",
            "source": [
                "**Box Plots for Understanding Distribution**\n",
                "\n",
                "Box plots help us understand how values are distributed. Let's look at age distribution across passenger classes:"
            ],
            "metadata": {
                "vocVersion": "1.1",
                "cellIdentifier": "4stdf693szloepehtb05i"
            },
            "execution_count": 0,
            "outputs": [],
            "attachments": {}
        },
        {
            "id": "dakychj5kt74s4csn0adpa",
            "cell_type": "code",
            "source": [
                "plt.figure(figsize=(12, 6))\n",
                "sns.boxplot(data=titanic_df, x='Pclass', y='Age')\n",
                "plt.title('Age Distribution by Passenger Class')\n",
                "plt.xlabel('Passenger Class')\n",
                "plt.ylabel('Age')\n",
                "plt.show()"
            ],
            "metadata": {
                "vocVersion": "1.1",
                "cellIdentifier": "dakychj5kt74s4csn0adpa"
            },
            "execution_count": 0,
            "outputs": [],
            "attachments": {}
        },
        {
            "id": "ucxnwwyrgbszolzhpy8v5",
            "cell_type": "markdown",
            "source": [
                "Let's understand what this plot shows us:\n",
                "- The box shows where 50% of the ages fall.\n",
                "- The line inside the box is the median age.\n",
                "- The whiskers show the range of ages.\n",
                "- The dots are outliers (unusual values)."
            ],
            "metadata": {
                "vocVersion": "1.1",
                "cellIdentifier": "ucxnwwyrgbszolzhpy8v5"
            },
            "execution_count": 0,
            "outputs": [],
            "attachments": {}
        },
        {
            "id": "tq1ywt3cqyrlr7p8c3zmv",
            "cell_type": "markdown",
            "source": [
                "**Creating Violin Plots**\n",
                "\n",
                "Violin plots combine box plots with density plots to show the full distribution:"
            ],
            "metadata": {
                "vocVersion": "1.1",
                "cellIdentifier": "tq1ywt3cqyrlr7p8c3zmv"
            },
            "execution_count": 0,
            "outputs": [],
            "attachments": {}
        },
        {
            "id": "kptuul30crkfeloqqjncwn",
            "cell_type": "code",
            "source": [
                "plt.figure(figsize=(12, 6))\n",
                "sns.violinplot(data=titanic_df, x='Pclass', y='Fare')\n",
                "plt.title('Fare Distribution by Passenger Class')\n",
                "plt.xlabel('Passenger Class')\n",
                "plt.ylabel('Fare')\n",
                "plt.show()"
            ],
            "metadata": {
                "vocVersion": "1.1",
                "cellIdentifier": "kptuul30crkfeloqqjncwn"
            },
            "execution_count": 0,
            "outputs": [],
            "attachments": {}
        },
        {
            "id": "wdi3mo474adf7a3ts2xjq",
            "cell_type": "markdown",
            "source": [
                "The wider parts of the \"violin\" show where more passengers paid that fare amount."
            ],
            "metadata": {
                "vocVersion": "1.1",
                "cellIdentifier": "wdi3mo474adf7a3ts2xjq"
            },
            "execution_count": 0,
            "outputs": [],
            "attachments": {}
        },
        {
            "id": "xpr1kbpqis88vy3zqivcn9",
            "cell_type": "markdown",
            "source": [
                "**Advanced Visualization: Combining Multiple Elements**\n",
                "\n",
                "One of Seaborn's strengths is the ability to show relationships between multiple variables:"
            ],
            "metadata": {
                "vocVersion": "1.1",
                "cellIdentifier": "xpr1kbpqis88vy3zqivcn9"
            },
            "execution_count": 0,
            "outputs": [],
            "attachments": {}
        },
        {
            "id": "2hh3g0hfrwhj02q6y1199",
            "cell_type": "code",
            "source": [
                "plt.figure(figsize=(12, 6))\n",
                "sns.boxplot(data=titanic_df, x='Pclass', y='Age', hue='Survived')\n",
                "plt.title('Age Distribution by Class and Survival')\n",
                "plt.xlabel('Passenger Class')\n",
                "plt.ylabel('Age')\n",
                "plt.legend(title='Survival', labels=['Did Not Survive', 'Survived'])\n",
                "plt.show()"
            ],
            "metadata": {
                "vocVersion": "1.1",
                "cellIdentifier": "2hh3g0hfrwhj02q6y1199"
            },
            "execution_count": 0,
            "outputs": [],
            "attachments": {}
        },
        {
            "id": "0y9hwl5sron0rmzpv67ddoe",
            "cell_type": "markdown",
            "source": [
                "**Creating Beautiful Scatter Plots**\n",
                "\n",
                "Let's create a scatter plot to see the relationship between fare and age:"
            ],
            "metadata": {
                "vocVersion": "1.1",
                "cellIdentifier": "0y9hwl5sron0rmzpv67ddoe"
            },
            "execution_count": 0,
            "outputs": [],
            "attachments": {}
        },
        {
            "id": "376xj0gzj83b5wvnevoj3m",
            "cell_type": "code",
            "source": [
                "plt.figure(figsize=(10, 6))\n",
                "sns.scatterplot(data=titanic_df, x='Age', y='Fare', hue='Survived',\n",
                "                size='Fare', sizes=(20, 200))\n",
                "plt.title('Age vs. Fare with Survival Information')\n",
                "plt.xlabel('Age')\n",
                "plt.ylabel('Fare')\n",
                "plt.legend(title='Survival', labels=['Did Not Survive', 'Survived'])\n",
                "plt.show()"
            ],
            "metadata": {
                "vocVersion": "1.1",
                "cellIdentifier": "376xj0gzj83b5wvnevoj3m"
            },
            "execution_count": 0,
            "outputs": [],
            "attachments": {}
        },
        {
            "id": "mfpmdr4bken8vb19hwp54g",
            "cell_type": "markdown",
            "source": [
                "**Creating Correlation Heatmaps**\n",
                "\n",
                "Let's visualize the relationships between numerical variables:"
            ],
            "metadata": {
                "vocVersion": "1.1",
                "cellIdentifier": "mfpmdr4bken8vb19hwp54g"
            },
            "execution_count": 0,
            "outputs": [],
            "attachments": {}
        },
        {
            "id": "z5hwow04mjekr9kjm8kvt",
            "cell_type": "code",
            "source": [
                "# Select only numeric columns\n",
                "numeric_cols = titanic_df.select_dtypes(include=['float64', 'int64']).columns\n",
                "correlation = titanic_df[numeric_cols].corr()\n",
                "\n",
                "plt.figure(figsize=(10, 8))\n",
                "sns.heatmap(correlation, annot=True, cmap='coolwarm', center=0)\n",
                "plt.title('Correlation Between Numeric Variables')\n",
                "plt.show()"
            ],
            "metadata": {
                "vocVersion": "1.1",
                "cellIdentifier": "z5hwow04mjekr9kjm8kvt"
            },
            "execution_count": 0,
            "outputs": [],
            "attachments": {}
        },
        {
            "id": "ckony4vfkqt3a1dcdq6ag5",
            "cell_type": "markdown",
            "source": [
                "Explanation:\n",
                "\n",
                "**Selecting numeric columns:**\n",
                "\n",
                "titanic_df.select_dtypes(include=['float64', 'int64']) filters only numeric columns (e.g., float or integer types) in the Titanic dataset, which are then used for correlation analysis.\n",
                "\n",
                "**Calculating correlations:**\n",
                "\n",
                "The .corr() method computes pairwise correlation coefficients between the numeric columns, resulting in a matrix showing how strongly these variables are related (values range from -1 to 1).\n",
                "\n",
                "**Visualizing the heatmap:**\n",
                "\n",
                "Using sns.heatmap, the correlation matrix is displayed as a color-coded chart, where annot=True shows the correlation values, cmap='coolwarm' applies a blue-to-red gradient, and center=0 emphasizes neutral correlations. This helps to quickly identify strong positive or negative relationships among variables."
            ],
            "metadata": {
                "vocVersion": "1.1",
                "cellIdentifier": "ckony4vfkqt3a1dcdq6ag5"
            },
            "execution_count": 0,
            "outputs": [],
            "attachments": {}
        },
        {
            "id": "e6k278o4yjfyrw4xu4xhxd",
            "cell_type": "markdown",
            "source": [
                "✏️ **Task 6: Exploring Seaborn**\n",
                "\n",
                "1. Create a count plot showing:\n",
                "   - Number of passengers in each class.\n",
                "   - Split by survival status using 'hue'.\n",
                "   - Add appropriate title and labels.\n",
                "   - Use Seaborn's 'deep' color palette.\n",
                "\n",
                "2. Create a box plot showing:\n",
                "   - Fare distribution for each passenger class.\n",
                "   - Split by gender using 'hue'.\n",
                "   - Add a title explaining what the plot shows.\n",
                "   - Make the figure size 12x6 inches.\n",
                "\n",
                "3. Create a violin plot showing:\n",
                "   - Age distribution for males and females.\n",
                "   - Add survival information using 'hue'.\n",
                "   - Use a different color palette (try 'Set2').\n",
                "   - Add appropriate title and labels.\n",
                "\n",
                "4. Create a scatter plot showing:\n",
                "   - Age vs. Fare.\n",
                "   - Color points by passenger class.\n",
                "   - Size points by survival status.\n",
                "   - Add a title and proper axis labels.\n",
                "\n",
                "For each visualization:\n",
                "- Use appropriate Seaborn styles.\n",
                "- Add clear titles and labels.\n",
                "- Save each plot with a descriptive filename.\n",
                "- Try to interpret what each visualization tells us about the passengers.\n",
                "\n",
                "\n",
                "Tips:\n",
                "- Remember to start each visualization with plt.figure().\n",
                "- End each with plt.show().\n",
                "- Use sns.set_style() to try different styles.\n",
                "- Experiment with different color palettes using the 'palette' parameter.\n",
                "-**Feel free to use a LLM to help create your plots.**"
            ],
            "metadata": {
                "vocVersion": "1.1",
                "cellIdentifier": "e6k278o4yjfyrw4xu4xhxd"
            },
            "execution_count": 0,
            "outputs": [],
            "attachments": {}
        },
        {
            "id": "45hy4wb9g087mufkrm276e",
            "cell_type": "code",
            "source": [
                "# Count plot\n",
                "### BEGIN SOLUTION\n",
                "plt.figure(figsize=(12, 6))\n",
                "sns.countplot(data=titanic_df, x='Pclass', hue='Survived', palette='deep')\n",
                "plt.title('Survival Distribution Across Passenger Classes', fontsize=14, pad=15)\n",
                "plt.xlabel('Passenger Class', fontsize=12)\n",
                "plt.ylabel('Number of Passengers', fontsize=12)\n",
                "plt.legend(title='Survival', labels=['Did Not Survive', 'Survived'])\n",
                "plt.show()\n",
                "### END SOLUTION"
            ],
            "metadata": {
                "vocVersion": "1.1",
                "cellIdentifier": "45hy4wb9g087mufkrm276e"
            },
            "execution_count": 0,
            "outputs": [],
            "attachments": {}
        },
        {
            "id": "bpmy6fl79ofuz6z8xos08b",
            "cell_type": "code",
            "source": [
                "# Box plot\n",
                "### BEGIN SOLUTION\n",
                "plt.figure(figsize=(12, 6))\n",
                "sns.boxplot(data=titanic_df, x='Pclass', y='Fare', hue='Sex')\n",
                "plt.title('Fare Distribution by Passenger Class and Gender', fontsize=14, pad=15)\n",
                "plt.xlabel('Passenger Class', fontsize=12)\n",
                "plt.ylabel('Fare (in Pounds Sterling)', fontsize=12)\n",
                "plt.legend(title='Gender')\n",
                "plt.show()\n",
                "### END SOLUTION"
            ],
            "metadata": {
                "vocVersion": "1.1",
                "cellIdentifier": "bpmy6fl79ofuz6z8xos08b"
            },
            "execution_count": 0,
            "outputs": [],
            "attachments": {}
        },
        {
            "id": "6rhpmywztf9ld08t10g9kr",
            "cell_type": "code",
            "source": [
                "# Violin plot\n",
                "### BEGIN SOLUTION\n",
                "plt.figure(figsize=(12, 6))\n",
                "sns.violinplot(data=titanic_df, x='Sex', y='Age', hue='Survived', palette='Set2')\n",
                "plt.title('Age Distribution by Gender and Survival', fontsize=14, pad=15)\n",
                "plt.xlabel('Gender', fontsize=12)\n",
                "plt.ylabel('Age', fontsize=12)\n",
                "plt.legend(title='Survival', labels=['Did Not Survive', 'Survived'])\n",
                "plt.show()\n",
                "### END SOLUTION"
            ],
            "metadata": {
                "vocVersion": "1.1",
                "cellIdentifier": "6rhpmywztf9ld08t10g9kr"
            },
            "execution_count": 0,
            "outputs": [],
            "attachments": {}
        },
        {
            "id": "7m95shm5te8olvd34hf6tl",
            "cell_type": "code",
            "source": [
                "# Scatter plot\n",
                "### BEGIN SOLUTION\n",
                "plt.figure(figsize=(12, 8))\n",
                "sns.scatterplot(data=titanic_df,\n",
                "                x='Age',\n",
                "                y='Fare',\n",
                "                hue='Pclass',\n",
                "                size='Survived',\n",
                "                sizes=(100, 200),\n",
                "                palette='deep')\n",
                "plt.title('Relationship Between Age, Fare, Class, and Survival', fontsize=14, pad=15)\n",
                "plt.xlabel('Age', fontsize=12)\n",
                "plt.ylabel('Fare (in Pounds Sterling)', fontsize=12)\n",
                "plt.legend(title='Passenger Class')\n",
                "plt.show()\n",
                "### END SOLUTION"
            ],
            "metadata": {
                "vocVersion": "1.1",
                "cellIdentifier": "7m95shm5te8olvd34hf6tl",
                "nbgrader": {
                    "grade": true,
                    "locked": false,
                    "solution": true,
                    "grade_id": "Task 6",
                    "points": "5"
                }
            },
            "execution_count": 0,
            "outputs": [],
            "attachments": {}
        }
    ],
    "metadata": {
        "kernelspec": {
            "display_name": "Python 3 [3.10]",
            "language": "python",
            "name": "python3"
        },
        "language_info": {
            "codemirror_mode": {
                "name": "ipython",
                "version": 3
            },
            "file_extension": ".py",
            "mimetype": "text/x-python",
            "name": "python",
            "nbconvert_exporter": "python",
            "pygments_lexer": "ipython3",
            "version": "3.10.2"
        },
        "kernel_id": "5be6ac2d-392a-4c98-a7c0-53af8fed3d26"
    },
    "nbformat": 4,
    "nbformat_minor": 5
}