{
    "nbformat": 4,
    "nbformat_minor": 0,
    "metadata": {
        "colab": {
            "provenance": []
        },
        "kernelspec": {
            "name": "python3",
            "display_name": "Python 3"
        },
        "language_info": {
            "name": "python"
        },
        "kernel_id": "1914f062-e4ad-4f4f-8f36-0aedab13def9"
    },
    "cells": [
        {
            "id": "am4jyxhuylp00mcgbpgcg2z",
            "cell_type": "markdown",
            "source": [
                "![image.png](data:image/png;base64,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)"
            ],
            "metadata": {
                "id": "ZGITdpO9XMpf",
                "vocVersion": "1.1",
                "cellIdentifier": "am4jyxhuylp00mcgbpgcg2z"
            },
            "execution_count": 0,
            "outputs": []
        },
        {
            "id": "mfg6ekxjvbqom8bhk9qina",
            "cell_type": "markdown",
            "source": [
                "# Introduction to Importing Libraries in Python\n",
                "\n",
                "## Session Objectives:\n",
                "By the end of this lesson, students will understand:\n",
                "1. What libraries are in Python.\n",
                "2. Why libraries are useful.\n",
                "3. How to import libraries.\n",
                "4. Basic usage of a few popular libraries.\n",
                "\n",
                "\n",
                "## **What Are Libraries in Python?**\n",
                "A library in Python is like a collection of pre-written code. Think of it as a toolbox with many tools inside. Each tool can help you do specific tasks without needing to write the code from scratch.\n",
                "\n",
                "For example:\n",
                "- Need to work with dates and times? Use the `datetime` library.\n",
                "- Want to perform complex math? Use the `math` library.\n",
                "- Want to generate random numbers? Use the `random` library.\n",
                "\n",
                "Python libraries save time and make your code more powerful!\n",
                "\n",
                "\n",
                "## **Why Use Libraries?**\n",
                "Libraries:\n",
                "- Contain code written by experts.\n",
                "- Save you time (no need to reinvent the wheel).\n",
                "- Help you write clean and efficient code.\n",
                "- Make advanced tasks (like AI or data analysis) much easier.\n",
                "\n",
                "\n",
                "## **How to Import a Library**\n",
                "To use a library, you first need to **import** it. Importing tells Python to load the library so you can use its tools."
            ],
            "metadata": {
                "id": "uNVwiTs6X7pj",
                "vocVersion": "1.1",
                "cellIdentifier": "mfg6ekxjvbqom8bhk9qina"
            },
            "execution_count": 0,
            "outputs": []
        },
        {
            "id": "kfqefa2zn91qt4qeyvgc",
            "cell_type": "code",
            "source": [
                "# Importing the math library\n",
                "import math\n",
                "\n",
                "# Now you can use math functions like square root (sqrt)\n",
                "print(math.sqrt(16))  # Outputs: 4.0"
            ],
            "metadata": {
                "id": "1bDO2rbRXM8x",
                "vocVersion": "1.1",
                "cellIdentifier": "kfqefa2zn91qt4qeyvgc"
            },
            "execution_count": 1,
            "outputs": [
                {
                    "output_type": "stream",
                    "name": "stdout",
                    "text": [
                        "4.0\n"
                    ]
                }
            ]
        },
        {
            "id": "c4elcl12g0udcfo21fkbdv",
            "cell_type": "markdown",
            "source": [
                "🔍 Let's break this down\n",
                "1. `import math`: This line tells Python to load the `math` library.\n",
                "2. `math.sqrt(16)`: The `sqrt` function calculates the square root of 16."
            ],
            "metadata": {
                "id": "qD_NVTFDZbg4",
                "vocVersion": "1.1",
                "cellIdentifier": "c4elcl12g0udcfo21fkbdv"
            },
            "execution_count": 0,
            "outputs": []
        },
        {
            "id": "bsryk5hlltk1lgi7ykyr3n",
            "cell_type": "markdown",
            "source": [
                "## **Aliasing Libraries**\n",
                "Sometimes, the name of a library can be long or inconvenient to type repeatedly. Python allows you to create a **shortcut name** (called an alias) for a library when you import it. This is especially useful when using large libraries like `pandas`, `matplotlib`, or `numpy`.\n",
                "\n",
                "To create an alias, use the keyword `as` during the import.\n",
                "\n",
                "### Syntax:\n",
                "```python\n",
                "import library_name as alias_name\n",
                "```"
            ],
            "metadata": {
                "id": "-KwuRBD7Z7Ib",
                "vocVersion": "1.1",
                "cellIdentifier": "bsryk5hlltk1lgi7ykyr3n"
            },
            "execution_count": 0,
            "outputs": []
        },
        {
            "id": "59cxeibk7ufk3flj0zjgj",
            "cell_type": "code",
            "source": [
                "# Example\n",
                "import math as m  # Aliasing the math library as 'm'\n",
                "\n",
                "# Use the alias 'm' instead of 'math'\n",
                "print(m.sqrt(16))  # Outputs: 4.0\n",
                "print(m.pi)        # Outputs: 3.141592653589793"
            ],
            "metadata": {
                "id": "7Zhzr_zBaOkB",
                "vocVersion": "1.1",
                "cellIdentifier": "59cxeibk7ufk3flj0zjgj"
            },
            "execution_count": 2,
            "outputs": [
                {
                    "output_type": "stream",
                    "name": "stdout",
                    "text": [
                        "4.0\n3.141592653589793\n"
                    ]
                }
            ]
        },
        {
            "id": "o1kr25nqr7ik2jdinsd31a",
            "cell_type": "markdown",
            "source": [
                " Why Use Aliases?\n",
                "1. **Saves Typing:** Instead of typing `matplotlib.pyplot` every time, you can just use a short alias like `plt`.\n",
                "2. **Improves Code Readability:** Short aliases make your code cleaner and easier to read, especially when using commonly known aliases.\n",
                "\n",
                "\n",
                "\n",
                "**Commonly Used Aliases in Python**\n",
                "\n",
                "| Library        | Common Alias   |\n",
                "|----------------|----------------|\n",
                "| `numpy`        | `np`           |\n",
                "| `pandas`       | `pd`           |\n",
                "| `matplotlib.pyplot` | `plt`      |\n",
                "| `seaborn`      | `sns`          |\n",
                ""
            ],
            "metadata": {
                "id": "y79teNpnZ7K7",
                "vocVersion": "1.1",
                "cellIdentifier": "o1kr25nqr7ik2jdinsd31a"
            },
            "execution_count": 0,
            "outputs": []
        },
        {
            "id": "t0vovlksaqp8cj01xbecbp",
            "cell_type": "markdown",
            "source": [
                "## **Installing Libraries in Google Colab**\n",
                "\n",
                "### **Built-in Libraries in Google Colab**\n",
                "Google Colab already comes with many libraries pre-installed. These include:\n",
                "- Popular libraries like `numpy`, `pandas`, `matplotlib`, and `scikit-learn`.\n",
                "- System libraries like `os` and `sys`.\n",
                "- Basic Python libraries like `math`, `random`, and `datetime`.\n",
                "\n",
                "You can use these libraries immediately without any extra setup. For example:"
            ],
            "metadata": {
                "id": "f1YUl_FFZ7Ms",
                "vocVersion": "1.1",
                "cellIdentifier": "t0vovlksaqp8cj01xbecbp"
            },
            "execution_count": 0,
            "outputs": []
        },
        {
            "id": "p1bjzl5whqr1hgtk7rloau",
            "cell_type": "code",
            "source": [
                "import numpy as np\n",
                "\n",
                "# Create an array and perform some basic operations\n",
                "numbers = np.array([1, 2, 3, 4, 5])\n",
                "print(\"Original array:\", numbers)\n",
                "print(\"Doubled:\", numbers * 2)\n",
                "print(\"Squared:\", numbers ** 2)"
            ],
            "metadata": {
                "id": "NFuRydz5ZZDo",
                "vocVersion": "1.1",
                "cellIdentifier": "p1bjzl5whqr1hgtk7rloau"
            },
            "execution_count": 3,
            "outputs": [
                {
                    "output_type": "stream",
                    "name": "stdout",
                    "text": [
                        "Original array: [1 2 3 4 5]\nDoubled: [ 2  4  6  8 10]\nSquared: [ 1  4  9 16 25]\n"
                    ]
                }
            ]
        },
        {
            "id": "0fbiiffkqw98gyfuo5sm22",
            "cell_type": "markdown",
            "source": [
                "**Installing Additional Libraries**\n",
                "\n",
                "Sometimes, you’ll want to use a library that is not pre-installed in Google Colab. In such cases, you can install it using the `pip` command.\n",
                "\n",
                "The general syntax to install a library is:\n",
                "```python\n",
                "!pip install library_name\n",
                "```\n",
                "> **Note:** The `!` is used because `pip` is a terminal command, and Colab requires the `!` to execute terminal commands in code cells."
            ],
            "metadata": {
                "id": "Flc27u35a2Cv",
                "vocVersion": "1.1",
                "cellIdentifier": "0fbiiffkqw98gyfuo5sm22"
            },
            "execution_count": 0,
            "outputs": []
        },
        {
            "id": "vgg8j63khqo0x5b35v0y5l",
            "cell_type": "markdown",
            "source": [
                "**Example: Installing a Library**\n",
                "\n",
                "Let’s say you want to use the `emoji` library to print fun emojis in your code. Since it’s not pre-installed, you need to install it."
            ],
            "metadata": {
                "id": "c6VdYfn8a2Jo",
                "vocVersion": "1.1",
                "cellIdentifier": "vgg8j63khqo0x5b35v0y5l"
            },
            "execution_count": 0,
            "outputs": []
        },
        {
            "id": "3uananu4kurqftvim8cv4",
            "cell_type": "code",
            "source": [
                "# Step 1: Install the library.\n",
                "import sys\n",
                "!{sys.executable} -m pip install emoji"
            ],
            "metadata": {
                "id": "hoWWE4uvbhUE",
                "vocVersion": "1.1",
                "cellIdentifier": "3uananu4kurqftvim8cv4"
            },
            "execution_count": 11,
            "outputs": [
                {
                    "output_type": "stream",
                    "name": "stdout",
                    "text": [
                        "Collecting emoji\n  Downloading emoji-2.14.1-py3-none-any.whl.metadata (5.7 kB)\nDownloading emoji-2.14.1-py3-none-any.whl (590 kB)\n\u001b[?25l   \u001b[90m━━━━━━━━━━━━━━━━━━━━━━━━━━━━━━━━━━━━━━━━\u001b[0m \u001b[32m0.0/590.6 kB\u001b[0m \u001b[31m?\u001b[0m eta \u001b[36m-:--:--\u001b[0m\r\u001b[2K   \u001b[91m━━━━━━━━━━━━━━━━━━━━━━━━━━━━━━━━━━━\u001b[0m\u001b[90m╺\u001b[0m\u001b[90m━━━━\u001b[0m \u001b[32m522.2/590.6 kB\u001b[0m \u001b[31m17.1 MB/s\u001b[0m eta \u001b[36m0:00:01\u001b[0m\r\u001b[2K   \u001b[90m━━━━━━━━━━━━━━━━━━━━━━━━━━━━━━━━━━━━━━━━\u001b[0m \u001b[32m590.6/590.6 kB\u001b[0m \u001b[31m13.0 MB/s\u001b[0m eta \u001b[36m0:00:00\u001b[0m\n\u001b[?25h",
                        "Installing collected packages: emoji\nSuccessfully installed emoji-2.14.1\n"
                    ]
                }
            ]
        },
        {
            "id": "9xlw7jtd3vjp6cnnbq3m2",
            "cell_type": "code",
            "source": [
                "# Step 2: Import the library.\n",
                "import emoji"
            ],
            "metadata": {
                "id": "EEKkcVKabqrS",
                "vocVersion": "1.1",
                "cellIdentifier": "9xlw7jtd3vjp6cnnbq3m2"
            },
            "execution_count": 12,
            "outputs": []
        },
        {
            "id": "11rhznej16voxn8oz6nw98",
            "cell_type": "code",
            "source": [
                "# Print a simple emoji message\n",
                "print(emoji.emojize(\"Python is fun! :snake: :thumbs_up:\"))"
            ],
            "metadata": {
                "id": "GsMGbbHpbnPE",
                "vocVersion": "1.1",
                "cellIdentifier": "11rhznej16voxn8oz6nw98"
            },
            "execution_count": 13,
            "outputs": [
                {
                    "output_type": "stream",
                    "name": "stdout",
                    "text": [
                        "Python is fun! 🐍 👍\n"
                    ]
                }
            ]
        },
        {
            "id": "cisycpaw2mwdtsi99buns",
            "cell_type": "markdown",
            "source": [
                "✏️ **Task 1: Importing a library in Python**\n",
                "\n",
                "1.   Install the `pyjokes` library using the `pip` command.\n",
                "2.   Import the `pyjokes` library and alias it as `jk`.\n",
                "3.   Run `print(jk.get_joke())` to print the joke.\n",
                "\n",
                ""
            ],
            "metadata": {
                "id": "hs7tnw8Da2Ps",
                "vocVersion": "1.1",
                "cellIdentifier": "cisycpaw2mwdtsi99buns"
            },
            "execution_count": 0,
            "outputs": []
        },
        {
            "id": "ek1ql2y2yxbm3l1cmpu5s",
            "cell_type": "code",
            "source": [
                "# Step 1: Install pyjokes\n",
                "### BEGIN SOLUTION\n",
                "import sys\n",
                "!{sys.executable} -m pip install pyjokes\n",
                "### END SOLUTION\n",
                "\n",
                "# Step 2: Import and use pyjokes\n",
                "### BEGIN SOLUTION\n",
                "import pyjokes\n",
                "### END SOLUTION\n",
                "\n",
                "# Print a random programming joke\n",
                "### BEGIN SOLUTION\n",
                "print(pyjokes.get_joke())\n",
                "### END SOLUTION\n",
                ""
            ],
            "metadata": {
                "id": "gZ7kvAG3c1Ho",
                "colab": {
                    "base_uri": "https://localhost:8080/"
                },
                "executionInfo": {
                    "status": "ok",
                    "timestamp": 1741642064312,
                    "user_tz": -120,
                    "elapsed": 3015,
                    "user": {
                        "displayName": "Islam Zidan",
                        "userId": "17227307713370715205"
                    }
                },
                "outputId": "928b8eb2-35e5-4b07-aebe-f228eadc422f",
                "vocVersion": "1.1",
                "cellIdentifier": "ek1ql2y2yxbm3l1cmpu5s",
                "nbgrader": {
                    "grade": false,
                    "locked": false,
                    "solution": true
                }
            },
            "execution_count": 14,
            "outputs": [
                {
                    "output_type": "stream",
                    "name": "stdout",
                    "text": [
                        "Collecting pyjokes\n  Downloading pyjokes-0.8.3-py3-none-any.whl.metadata (3.4 kB)\nDownloading pyjokes-0.8.3-py3-none-any.whl (47 kB)\n\u001b[?25l   \u001b[90m━━━━━━━━━━━━━━━━━━━━━━━━━━━━━━━━━━━━━━━━\u001b[0m \u001b[32m0.0/47.6 kB\u001b[0m \u001b[31m?\u001b[0m eta \u001b[36m-:--:--\u001b[0m\r\u001b[2K   \u001b[90m━━━━━━━━━━━━━━━━━━━━━━━━━━━━━━━━━━━━━━━━\u001b[0m \u001b[32m47.6/47.6 kB\u001b[0m \u001b[31m2.3 MB/s\u001b[0m eta \u001b[36m0:00:00\u001b[0m\n\u001b[?25h",
                        "Installing collected packages: pyjokes\nSuccessfully installed pyjokes-0.8.3\n",
                        "Why do you always use i and j variales in loops? It's the law......\n"
                    ]
                }
            ]
        },
        {
            "id": "ifftv3e5s9raxjr4k3xpck",
            "cell_type": "code",
            "source": [
                "import re\n",
                "\n",
                "# Step 1: Retrieve the code of the previously executed cell\n",
                "def get_previous_cell_code():\n",
                "    history = _ih  # _ih stores execution history\n",
                "    if len(history) >= 2:\n",
                "        return history[-2]  # Get the second-last cell (previous execution)\n",
                "    return None\n",
                "\n",
                "# Step 2: Extract the previous cell’s code\n",
                "previous_code = get_previous_cell_code()\n",
                "assert previous_code, \"❌ No previous code detected. Ensure you installed, imported, and used `pyjokes`.\"\n",
                "\n",
                "# Step 3: Ensure `!pip install pyjokes` was executed\n",
                "assert \"get_ipython().system('pip install pyjokes')\" in previous_code, \"❌ `pyjokes` was not installed. Ensure you ran `!pip install pyjokes` in a previous cell.\"\n",
                "\n",
                "# Step 4: Ensure `import pyjokes` OR `from pyjokes import get_joke` was used\n",
                "import_pattern = re.compile(r'(import\\s+pyjokes|from\\s+pyjokes\\s+import\\s+get_joke)')\n",
                "assert import_pattern.search(previous_code), \"❌ `pyjokes` was not imported correctly. Ensure you used `import pyjokes` or `from pyjokes import get_joke`.\"\n",
                "\n",
                "# Step 5: Ensure `pyjokes.get_joke()` was used somewhere in the code\n",
                "assert \"pyjokes.get_joke()\" in previous_code, \"❌ `pyjokes.get_joke()` was not used. Ensure you called `pyjokes.get_joke()` somewhere in your code.\"\n",
                "\n",
                "print(\"✅ `pyjokes` was installed, imported, used in code, and executed successfully.\")"
            ],
            "metadata": {
                "id": "Ny_oDHkW5UxG",
                "executionInfo": {
                    "status": "ok",
                    "timestamp": 1741642068286,
                    "user_tz": -120,
                    "elapsed": 30,
                    "user": {
                        "displayName": "Islam Zidan",
                        "userId": "17227307713370715205"
                    }
                },
                "colab": {
                    "base_uri": "https://localhost:8080/"
                },
                "outputId": "89e338e6-01f5-4bb5-c29c-9b5bfe09cc16",
                "vocVersion": "1.1",
                "cellIdentifier": "ifftv3e5s9raxjr4k3xpck",
                "nbgrader": {
                    "grade": true,
                    "locked": true,
                    "solution": false,
                    "grade_id": "Task 1",
                    "points": "5"
                }
            },
            "execution_count": 15,
            "outputs": [
                {
                    "traceback": [
                        "\u001b[0;31m---------------------------------------------------------------------------\u001b[0m",
                        "\u001b[0;31mAssertionError\u001b[0m                            Traceback (most recent call last)",
                        "\u001b[0;32m<ipython-input-15-6d935fb989b1>\u001b[0m in \u001b[0;36m<cell line: 15>\u001b[0;34m()\u001b[0m\n\u001b[1;32m     13\u001b[0m \u001b[0;34m\u001b[0m\u001b[0m\n\u001b[1;32m     14\u001b[0m \u001b[0;31m# Step 3: Ensure `!pip install pyjokes` was executed\u001b[0m\u001b[0;34m\u001b[0m\u001b[0;34m\u001b[0m\u001b[0m\n\u001b[0;32m---> 15\u001b[0;31m \u001b[0;32massert\u001b[0m \u001b[0;34m\"get_ipython().system('pip install pyjokes')\"\u001b[0m \u001b[0;32min\u001b[0m \u001b[0mprevious_code\u001b[0m\u001b[0;34m,\u001b[0m \u001b[0;34m\"❌ `pyjokes` was not installed. Ensure you ran `!pip install pyjokes` in a previous cell.\"\u001b[0m\u001b[0;34m\u001b[0m\u001b[0;34m\u001b[0m\u001b[0m\n\u001b[0m\u001b[1;32m     16\u001b[0m \u001b[0;34m\u001b[0m\u001b[0m\n\u001b[1;32m     17\u001b[0m \u001b[0;31m# Step 4: Ensure `import pyjokes` OR `from pyjokes import get_joke` was used\u001b[0m\u001b[0;34m\u001b[0m\u001b[0;34m\u001b[0m\u001b[0m\n",
                        "\u001b[0;31mAssertionError\u001b[0m: ❌ `pyjokes` was not installed. Ensure you ran `!pip install pyjokes` in a previous cell."
                    ],
                    "ename": "AssertionError",
                    "evalue": "❌ `pyjokes` was not installed. Ensure you ran `!pip install pyjokes` in a previous cell.",
                    "output_type": "error"
                }
            ]
        },
        {
            "id": "wfvw5vlycomx54ji7p6m",
            "cell_type": "markdown",
            "source": [
                "## Viewing Docstrings for Libraries in Colab\n",
                "\n",
                "Docstrings are special descriptions in Python that explain what a library, function, or method does. They act as a built-in guide to help you understand how to use a library or its features.\n",
                "\n",
                "In Google Colab, you can easily view the docstring of a library or function to see what it’s about.\n",
                "\n",
                "\n",
                "#### **Using the `help()` Function**\n",
                "The `help()` function allows you to view the documentation for a library or a specific function.\n",
                "\n",
                "Example:"
            ],
            "metadata": {
                "id": "GStayLlAdqLL",
                "vocVersion": "1.1",
                "cellIdentifier": "wfvw5vlycomx54ji7p6m"
            },
            "execution_count": 0,
            "outputs": []
        },
        {
            "id": "9f9lbk63fmmmuncbfzl8",
            "cell_type": "code",
            "source": [
                "# Import the math library\n",
                "import math\n",
                "\n",
                "# View the docstring for the entire math library\n",
                "help(math)"
            ],
            "metadata": {
                "id": "MgkvEwyKdedA",
                "collapsed": true,
                "vocVersion": "1.1",
                "cellIdentifier": "9f9lbk63fmmmuncbfzl8"
            },
            "execution_count": 0,
            "outputs": []
        },
        {
            "id": "iyq28hvyap2ms9zp9zgq6",
            "cell_type": "markdown",
            "source": [
                "This will display detailed information about the math library, including its purpose and the functions it provides."
            ],
            "metadata": {
                "id": "_UnCwq_3dlGj",
                "vocVersion": "1.1",
                "cellIdentifier": "iyq28hvyap2ms9zp9zgq6"
            },
            "execution_count": 0,
            "outputs": []
        },
        {
            "id": "wos7mv03licsu3pgurcg3p",
            "cell_type": "markdown",
            "source": [
                "**Viewing Docstrings for Specific Functions**\n",
                "\n",
                "You can also use `help()` to view the docstring for an individual function.\n",
                "\n",
                "Example:\n",
                ""
            ],
            "metadata": {
                "id": "rMi6J53TdvU2",
                "vocVersion": "1.1",
                "cellIdentifier": "wos7mv03licsu3pgurcg3p"
            },
            "execution_count": 0,
            "outputs": []
        },
        {
            "id": "jd2pvbm98liq14wfpwmvg",
            "cell_type": "code",
            "source": [
                "import math\n",
                "\n",
                "# View the docstring for the sqrt function\n",
                "help(math.sqrt)"
            ],
            "metadata": {
                "id": "VuQuYrHheFkK",
                "vocVersion": "1.1",
                "cellIdentifier": "jd2pvbm98liq14wfpwmvg"
            },
            "execution_count": 0,
            "outputs": []
        },
        {
            "id": "vytkr5f9gtg3393r1vqav",
            "cell_type": "markdown",
            "source": [
                "✏️ **Task 2: Viewing Docstrings for Libraries**\n",
                "\n",
                "1. Import the `string` library in Python.  \n",
                "2. Use the `help(string)` function to view the documentation for the entire library.  \n",
                "3. Use `help(string.whitespace)` to view the docstring for the `string.whitespace` function.  "
            ],
            "metadata": {
                "id": "NWSQZX-RdlIq",
                "vocVersion": "1.1",
                "cellIdentifier": "vytkr5f9gtg3393r1vqav"
            },
            "execution_count": 0,
            "outputs": []
        },
        {
            "id": "9t2d1vj01zin5wg93b4ou",
            "cell_type": "code",
            "source": [
                "### BEGIN SOLUTION\n",
                "import string\n",
                "help(string)\n",
                "help(string.whitespace)\n",
                "### END SOLUTION"
            ],
            "metadata": {
                "id": "yLJkxnmVecFv",
                "colab": {
                    "base_uri": "https://localhost:8080/"
                },
                "executionInfo": {
                    "status": "ok",
                    "timestamp": 1741642807869,
                    "user_tz": -120,
                    "elapsed": 97,
                    "user": {
                        "displayName": "Islam Zidan",
                        "userId": "17227307713370715205"
                    }
                },
                "outputId": "71051ee2-8cbb-46ca-929a-26f30eb3af29",
                "vocVersion": "1.1",
                "cellIdentifier": "9t2d1vj01zin5wg93b4ou",
                "nbgrader": {
                    "grade": false,
                    "locked": false,
                    "solution": true
                }
            },
            "execution_count": 0,
            "outputs": [
                {
                    "output_type": "stream",
                    "name": "stdout",
                    "text": [
                        "Help on module string:\n",
                        "\n",
                        "NAME\n",
                        "    string - A collection of string constants.\n",
                        "\n",
                        "MODULE REFERENCE\n",
                        "    https://docs.python.org/3.11/library/string.html\n",
                        "    \n",
                        "    The following documentation is automatically generated from the Python\n",
                        "    source files.  It may be incomplete, incorrect or include features that\n",
                        "    are considered implementation detail and may vary between Python\n",
                        "    implementations.  When in doubt, consult the module reference at the\n",
                        "    location listed above.\n",
                        "\n",
                        "DESCRIPTION\n",
                        "    Public module variables:\n",
                        "    \n",
                        "    whitespace -- a string containing all ASCII whitespace\n",
                        "    ascii_lowercase -- a string containing all ASCII lowercase letters\n",
                        "    ascii_uppercase -- a string containing all ASCII uppercase letters\n",
                        "    ascii_letters -- a string containing all ASCII letters\n",
                        "    digits -- a string containing all ASCII decimal digits\n",
                        "    hexdigits -- a string containing all ASCII hexadecimal digits\n",
                        "    octdigits -- a string containing all ASCII octal digits\n",
                        "    punctuation -- a string containing all ASCII punctuation characters\n",
                        "    printable -- a string containing all ASCII characters considered printable\n",
                        "\n",
                        "CLASSES\n",
                        "    builtins.object\n",
                        "        Formatter\n",
                        "        Template\n",
                        "    \n",
                        "    class Formatter(builtins.object)\n",
                        "     |  Methods defined here:\n",
                        "     |  \n",
                        "     |  check_unused_args(self, used_args, args, kwargs)\n",
                        "     |  \n",
                        "     |  convert_field(self, value, conversion)\n",
                        "     |  \n",
                        "     |  format(self, format_string, /, *args, **kwargs)\n",
                        "     |  \n",
                        "     |  format_field(self, value, format_spec)\n",
                        "     |  \n",
                        "     |  get_field(self, field_name, args, kwargs)\n",
                        "     |      # given a field_name, find the object it references.\n",
                        "     |      #  field_name:   the field being looked up, e.g. \"0.name\"\n",
                        "     |      #                 or \"lookup[3]\"\n",
                        "     |      #  used_args:    a set of which args have been used\n",
                        "     |      #  args, kwargs: as passed in to vformat\n",
                        "     |  \n",
                        "     |  get_value(self, key, args, kwargs)\n",
                        "     |  \n",
                        "     |  parse(self, format_string)\n",
                        "     |      # returns an iterable that contains tuples of the form:\n",
                        "     |      # (literal_text, field_name, format_spec, conversion)\n",
                        "     |      # literal_text can be zero length\n",
                        "     |      # field_name can be None, in which case there's no\n",
                        "     |      #  object to format and output\n",
                        "     |      # if field_name is not None, it is looked up, formatted\n",
                        "     |      #  with format_spec and conversion and then used\n",
                        "     |  \n",
                        "     |  vformat(self, format_string, args, kwargs)\n",
                        "     |  \n",
                        "     |  ----------------------------------------------------------------------\n",
                        "     |  Data descriptors defined here:\n",
                        "     |  \n",
                        "     |  __dict__\n",
                        "     |      dictionary for instance variables\n",
                        "     |  \n",
                        "     |  __weakref__\n",
                        "     |      list of weak references to the object\n",
                        "    \n",
                        "    class Template(builtins.object)\n",
                        "     |  Template(template)\n",
                        "     |  \n",
                        "     |  A string class for supporting $-substitutions.\n",
                        "     |  \n",
                        "     |  Methods defined here:\n",
                        "     |  \n",
                        "     |  __init__(self, template)\n",
                        "     |      Initialize self.  See help(type(self)) for accurate signature.\n",
                        "     |  \n",
                        "     |  get_identifiers(self)\n",
                        "     |  \n",
                        "     |  is_valid(self)\n",
                        "     |  \n",
                        "     |  safe_substitute(self, mapping={}, /, **kws)\n",
                        "     |  \n",
                        "     |  substitute(self, mapping={}, /, **kws)\n",
                        "     |  \n",
                        "     |  ----------------------------------------------------------------------\n",
                        "     |  Class methods defined here:\n",
                        "     |  \n",
                        "     |  __init_subclass__()\n",
                        "     |      This method is called when a class is subclassed.\n",
                        "     |      \n",
                        "     |      The default implementation does nothing. It may be\n",
                        "     |      overridden to extend subclasses.\n",
                        "     |  \n",
                        "     |  ----------------------------------------------------------------------\n",
                        "     |  Data descriptors defined here:\n",
                        "     |  \n",
                        "     |  __dict__\n",
                        "     |      dictionary for instance variables\n",
                        "     |  \n",
                        "     |  __weakref__\n",
                        "     |      list of weak references to the object\n",
                        "     |  \n",
                        "     |  ----------------------------------------------------------------------\n",
                        "     |  Data and other attributes defined here:\n",
                        "     |  \n",
                        "     |  braceidpattern = None\n",
                        "     |  \n",
                        "     |  delimiter = '$'\n",
                        "     |  \n",
                        "     |  flags = re.IGNORECASE\n",
                        "     |  \n",
                        "     |  idpattern = '(?a:[_a-z][_a-z0-9]*)'\n",
                        "     |  \n",
                        "     |  pattern = re.compile('\\n            \\\\$(?:\\n              ...identifie...\n",
                        "\n",
                        "FUNCTIONS\n",
                        "    capwords(s, sep=None)\n",
                        "        capwords(s [,sep]) -> string\n",
                        "        \n",
                        "        Split the argument into words using split, capitalize each\n",
                        "        word using capitalize, and join the capitalized words using\n",
                        "        join.  If the optional second argument sep is absent or None,\n",
                        "        runs of whitespace characters are replaced by a single space\n",
                        "        and leading and trailing whitespace are removed, otherwise\n",
                        "        sep is used to split and join the words.\n",
                        "\n",
                        "DATA\n",
                        "    __all__ = ['ascii_letters', 'ascii_lowercase', 'ascii_uppercase', 'cap...\n",
                        "    ascii_letters = 'abcdefghijklmnopqrstuvwxyzABCDEFGHIJKLMNOPQRSTUVWXYZ'\n",
                        "    ascii_lowercase = 'abcdefghijklmnopqrstuvwxyz'\n",
                        "    ascii_uppercase = 'ABCDEFGHIJKLMNOPQRSTUVWXYZ'\n",
                        "    digits = '0123456789'\n",
                        "    hexdigits = '0123456789abcdefABCDEF'\n",
                        "    octdigits = '01234567'\n",
                        "    printable = '0123456789abcdefghijklmnopqrstuvwxyzABCDEFGHIJKLMNOPQRSTU...\n",
                        "    punctuation = '!\"#$%&\\'()*+,-./:;<=>?@[\\\\]^_`{|}~'\n",
                        "    whitespace = ' \\t\\n\\r\\x0b\\x0c'\n",
                        "\n",
                        "FILE\n",
                        "    /usr/lib/python3.11/string.py\n",
                        "\n",
                        "\n",
                        "Help on class str in module builtins:\n",
                        "\n",
                        "class str(object)\n",
                        " |  str(object='') -> str\n",
                        " |  str(bytes_or_buffer[, encoding[, errors]]) -> str\n",
                        " |  \n",
                        " |  Create a new string object from the given object. If encoding or\n",
                        " |  errors is specified, then the object must expose a data buffer\n",
                        " |  that will be decoded using the given encoding and error handler.\n",
                        " |  Otherwise, returns the result of object.__str__() (if defined)\n",
                        " |  or repr(object).\n",
                        " |  encoding defaults to sys.getdefaultencoding().\n",
                        " |  errors defaults to 'strict'.\n",
                        " |  \n",
                        " |  Methods defined here:\n",
                        " |  \n",
                        " |  __add__(self, value, /)\n",
                        " |      Return self+value.\n",
                        " |  \n",
                        " |  __contains__(self, key, /)\n",
                        " |      Return key in self.\n",
                        " |  \n",
                        " |  __eq__(self, value, /)\n",
                        " |      Return self==value.\n",
                        " |  \n",
                        " |  __format__(self, format_spec, /)\n",
                        " |      Return a formatted version of the string as described by format_spec.\n",
                        " |  \n",
                        " |  __ge__(self, value, /)\n",
                        " |      Return self>=value.\n",
                        " |  \n",
                        " |  __getattribute__(self, name, /)\n",
                        " |      Return getattr(self, name).\n",
                        " |  \n",
                        " |  __getitem__(self, key, /)\n",
                        " |      Return self[key].\n",
                        " |  \n",
                        " |  __getnewargs__(...)\n",
                        " |  \n",
                        " |  __gt__(self, value, /)\n",
                        " |      Return self>value.\n",
                        " |  \n",
                        " |  __hash__(self, /)\n",
                        " |      Return hash(self).\n",
                        " |  \n",
                        " |  __iter__(self, /)\n",
                        " |      Implement iter(self).\n",
                        " |  \n",
                        " |  __le__(self, value, /)\n",
                        " |      Return self<=value.\n",
                        " |  \n",
                        " |  __len__(self, /)\n",
                        " |      Return len(self).\n",
                        " |  \n",
                        " |  __lt__(self, value, /)\n",
                        " |      Return self<value.\n",
                        " |  \n",
                        " |  __mod__(self, value, /)\n",
                        " |      Return self%value.\n",
                        " |  \n",
                        " |  __mul__(self, value, /)\n",
                        " |      Return self*value.\n",
                        " |  \n",
                        " |  __ne__(self, value, /)\n",
                        " |      Return self!=value.\n",
                        " |  \n",
                        " |  __repr__(self, /)\n",
                        " |      Return repr(self).\n",
                        " |  \n",
                        " |  __rmod__(self, value, /)\n",
                        " |      Return value%self.\n",
                        " |  \n",
                        " |  __rmul__(self, value, /)\n",
                        " |      Return value*self.\n",
                        " |  \n",
                        " |  __sizeof__(self, /)\n",
                        " |      Return the size of the string in memory, in bytes.\n",
                        " |  \n",
                        " |  __str__(self, /)\n",
                        " |      Return str(self).\n",
                        " |  \n",
                        " |  capitalize(self, /)\n",
                        " |      Return a capitalized version of the string.\n",
                        " |      \n",
                        " |      More specifically, make the first character have upper case and the rest lower\n",
                        " |      case.\n",
                        " |  \n",
                        " |  casefold(self, /)\n",
                        " |      Return a version of the string suitable for caseless comparisons.\n",
                        " |  \n",
                        " |  center(self, width, fillchar=' ', /)\n",
                        " |      Return a centered string of length width.\n",
                        " |      \n",
                        " |      Padding is done using the specified fill character (default is a space).\n",
                        " |  \n",
                        " |  count(...)\n",
                        " |      S.count(sub[, start[, end]]) -> int\n",
                        " |      \n",
                        " |      Return the number of non-overlapping occurrences of substring sub in\n",
                        " |      string S[start:end].  Optional arguments start and end are\n",
                        " |      interpreted as in slice notation.\n",
                        " |  \n",
                        " |  encode(self, /, encoding='utf-8', errors='strict')\n",
                        " |      Encode the string using the codec registered for encoding.\n",
                        " |      \n",
                        " |      encoding\n",
                        " |        The encoding in which to encode the string.\n",
                        " |      errors\n",
                        " |        The error handling scheme to use for encoding errors.\n",
                        " |        The default is 'strict' meaning that encoding errors raise a\n",
                        " |        UnicodeEncodeError.  Other possible values are 'ignore', 'replace' and\n",
                        " |        'xmlcharrefreplace' as well as any other name registered with\n",
                        " |        codecs.register_error that can handle UnicodeEncodeErrors.\n",
                        " |  \n",
                        " |  endswith(...)\n",
                        " |      S.endswith(suffix[, start[, end]]) -> bool\n",
                        " |      \n",
                        " |      Return True if S ends with the specified suffix, False otherwise.\n",
                        " |      With optional start, test S beginning at that position.\n",
                        " |      With optional end, stop comparing S at that position.\n",
                        " |      suffix can also be a tuple of strings to try.\n",
                        " |  \n",
                        " |  expandtabs(self, /, tabsize=8)\n",
                        " |      Return a copy where all tab characters are expanded using spaces.\n",
                        " |      \n",
                        " |      If tabsize is not given, a tab size of 8 characters is assumed.\n",
                        " |  \n",
                        " |  find(...)\n",
                        " |      S.find(sub[, start[, end]]) -> int\n",
                        " |      \n",
                        " |      Return the lowest index in S where substring sub is found,\n",
                        " |      such that sub is contained within S[start:end].  Optional\n",
                        " |      arguments start and end are interpreted as in slice notation.\n",
                        " |      \n",
                        " |      Return -1 on failure.\n",
                        " |  \n",
                        " |  format(...)\n",
                        " |      S.format(*args, **kwargs) -> str\n",
                        " |      \n",
                        " |      Return a formatted version of S, using substitutions from args and kwargs.\n",
                        " |      The substitutions are identified by braces ('{' and '}').\n",
                        " |  \n",
                        " |  format_map(...)\n",
                        " |      S.format_map(mapping) -> str\n",
                        " |      \n",
                        " |      Return a formatted version of S, using substitutions from mapping.\n",
                        " |      The substitutions are identified by braces ('{' and '}').\n",
                        " |  \n",
                        " |  index(...)\n",
                        " |      S.index(sub[, start[, end]]) -> int\n",
                        " |      \n",
                        " |      Return the lowest index in S where substring sub is found,\n",
                        " |      such that sub is contained within S[start:end].  Optional\n",
                        " |      arguments start and end are interpreted as in slice notation.\n",
                        " |      \n",
                        " |      Raises ValueError when the substring is not found.\n",
                        " |  \n",
                        " |  isalnum(self, /)\n",
                        " |      Return True if the string is an alpha-numeric string, False otherwise.\n",
                        " |      \n",
                        " |      A string is alpha-numeric if all characters in the string are alpha-numeric and\n",
                        " |      there is at least one character in the string.\n",
                        " |  \n",
                        " |  isalpha(self, /)\n",
                        " |      Return True if the string is an alphabetic string, False otherwise.\n",
                        " |      \n",
                        " |      A string is alphabetic if all characters in the string are alphabetic and there\n",
                        " |      is at least one character in the string.\n",
                        " |  \n",
                        " |  isascii(self, /)\n",
                        " |      Return True if all characters in the string are ASCII, False otherwise.\n",
                        " |      \n",
                        " |      ASCII characters have code points in the range U+0000-U+007F.\n",
                        " |      Empty string is ASCII too.\n",
                        " |  \n",
                        " |  isdecimal(self, /)\n",
                        " |      Return True if the string is a decimal string, False otherwise.\n",
                        " |      \n",
                        " |      A string is a decimal string if all characters in the string are decimal and\n",
                        " |      there is at least one character in the string.\n",
                        " |  \n",
                        " |  isdigit(self, /)\n",
                        " |      Return True if the string is a digit string, False otherwise.\n",
                        " |      \n",
                        " |      A string is a digit string if all characters in the string are digits and there\n",
                        " |      is at least one character in the string.\n",
                        " |  \n",
                        " |  isidentifier(self, /)\n",
                        " |      Return True if the string is a valid Python identifier, False otherwise.\n",
                        " |      \n",
                        " |      Call keyword.iskeyword(s) to test whether string s is a reserved identifier,\n",
                        " |      such as \"def\" or \"class\".\n",
                        " |  \n",
                        " |  islower(self, /)\n",
                        " |      Return True if the string is a lowercase string, False otherwise.\n",
                        " |      \n",
                        " |      A string is lowercase if all cased characters in the string are lowercase and\n",
                        " |      there is at least one cased character in the string.\n",
                        " |  \n",
                        " |  isnumeric(self, /)\n",
                        " |      Return True if the string is a numeric string, False otherwise.\n",
                        " |      \n",
                        " |      A string is numeric if all characters in the string are numeric and there is at\n",
                        " |      least one character in the string.\n",
                        " |  \n",
                        " |  isprintable(self, /)\n",
                        " |      Return True if the string is printable, False otherwise.\n",
                        " |      \n",
                        " |      A string is printable if all of its characters are considered printable in\n",
                        " |      repr() or if it is empty.\n",
                        " |  \n",
                        " |  isspace(self, /)\n",
                        " |      Return True if the string is a whitespace string, False otherwise.\n",
                        " |      \n",
                        " |      A string is whitespace if all characters in the string are whitespace and there\n",
                        " |      is at least one character in the string.\n",
                        " |  \n",
                        " |  istitle(self, /)\n",
                        " |      Return True if the string is a title-cased string, False otherwise.\n",
                        " |      \n",
                        " |      In a title-cased string, upper- and title-case characters may only\n",
                        " |      follow uncased characters and lowercase characters only cased ones.\n",
                        " |  \n",
                        " |  isupper(self, /)\n",
                        " |      Return True if the string is an uppercase string, False otherwise.\n",
                        " |      \n",
                        " |      A string is uppercase if all cased characters in the string are uppercase and\n",
                        " |      there is at least one cased character in the string.\n",
                        " |  \n",
                        " |  join(self, iterable, /)\n",
                        " |      Concatenate any number of strings.\n",
                        " |      \n",
                        " |      The string whose method is called is inserted in between each given string.\n",
                        " |      The result is returned as a new string.\n",
                        " |      \n",
                        " |      Example: '.'.join(['ab', 'pq', 'rs']) -> 'ab.pq.rs'\n",
                        " |  \n",
                        " |  ljust(self, width, fillchar=' ', /)\n",
                        " |      Return a left-justified string of length width.\n",
                        " |      \n",
                        " |      Padding is done using the specified fill character (default is a space).\n",
                        " |  \n",
                        " |  lower(self, /)\n",
                        " |      Return a copy of the string converted to lowercase.\n",
                        " |  \n",
                        " |  lstrip(self, chars=None, /)\n",
                        " |      Return a copy of the string with leading whitespace removed.\n",
                        " |      \n",
                        " |      If chars is given and not None, remove characters in chars instead.\n",
                        " |  \n",
                        " |  partition(self, sep, /)\n",
                        " |      Partition the string into three parts using the given separator.\n",
                        " |      \n",
                        " |      This will search for the separator in the string.  If the separator is found,\n",
                        " |      returns a 3-tuple containing the part before the separator, the separator\n",
                        " |      itself, and the part after it.\n",
                        " |      \n",
                        " |      If the separator is not found, returns a 3-tuple containing the original string\n",
                        " |      and two empty strings.\n",
                        " |  \n",
                        " |  removeprefix(self, prefix, /)\n",
                        " |      Return a str with the given prefix string removed if present.\n",
                        " |      \n",
                        " |      If the string starts with the prefix string, return string[len(prefix):].\n",
                        " |      Otherwise, return a copy of the original string.\n",
                        " |  \n",
                        " |  removesuffix(self, suffix, /)\n",
                        " |      Return a str with the given suffix string removed if present.\n",
                        " |      \n",
                        " |      If the string ends with the suffix string and that suffix is not empty,\n",
                        " |      return string[:-len(suffix)]. Otherwise, return a copy of the original\n",
                        " |      string.\n",
                        " |  \n",
                        " |  replace(self, old, new, count=-1, /)\n",
                        " |      Return a copy with all occurrences of substring old replaced by new.\n",
                        " |      \n",
                        " |        count\n",
                        " |          Maximum number of occurrences to replace.\n",
                        " |          -1 (the default value) means replace all occurrences.\n",
                        " |      \n",
                        " |      If the optional argument count is given, only the first count occurrences are\n",
                        " |      replaced.\n",
                        " |  \n",
                        " |  rfind(...)\n",
                        " |      S.rfind(sub[, start[, end]]) -> int\n",
                        " |      \n",
                        " |      Return the highest index in S where substring sub is found,\n",
                        " |      such that sub is contained within S[start:end].  Optional\n",
                        " |      arguments start and end are interpreted as in slice notation.\n",
                        " |      \n",
                        " |      Return -1 on failure.\n",
                        " |  \n",
                        " |  rindex(...)\n",
                        " |      S.rindex(sub[, start[, end]]) -> int\n",
                        " |      \n",
                        " |      Return the highest index in S where substring sub is found,\n",
                        " |      such that sub is contained within S[start:end].  Optional\n",
                        " |      arguments start and end are interpreted as in slice notation.\n",
                        " |      \n",
                        " |      Raises ValueError when the substring is not found.\n",
                        " |  \n",
                        " |  rjust(self, width, fillchar=' ', /)\n",
                        " |      Return a right-justified string of length width.\n",
                        " |      \n",
                        " |      Padding is done using the specified fill character (default is a space).\n",
                        " |  \n",
                        " |  rpartition(self, sep, /)\n",
                        " |      Partition the string into three parts using the given separator.\n",
                        " |      \n",
                        " |      This will search for the separator in the string, starting at the end. If\n",
                        " |      the separator is found, returns a 3-tuple containing the part before the\n",
                        " |      separator, the separator itself, and the part after it.\n",
                        " |      \n",
                        " |      If the separator is not found, returns a 3-tuple containing two empty strings\n",
                        " |      and the original string.\n",
                        " |  \n",
                        " |  rsplit(self, /, sep=None, maxsplit=-1)\n",
                        " |      Return a list of the substrings in the string, using sep as the separator string.\n",
                        " |      \n",
                        " |        sep\n",
                        " |          The separator used to split the string.\n",
                        " |      \n",
                        " |          When set to None (the default value), will split on any whitespace\n",
                        " |          character (including \\n \\r \\t \\f and spaces) and will discard\n",
                        " |          empty strings from the result.\n",
                        " |        maxsplit\n",
                        " |          Maximum number of splits.\n",
                        " |          -1 (the default value) means no limit.\n",
                        " |      \n",
                        " |      Splitting starts at the end of the string and works to the front.\n",
                        " |  \n",
                        " |  rstrip(self, chars=None, /)\n",
                        " |      Return a copy of the string with trailing whitespace removed.\n",
                        " |      \n",
                        " |      If chars is given and not None, remove characters in chars instead.\n",
                        " |  \n",
                        " |  split(self, /, sep=None, maxsplit=-1)\n",
                        " |      Return a list of the substrings in the string, using sep as the separator string.\n",
                        " |      \n",
                        " |        sep\n",
                        " |          The separator used to split the string.\n",
                        " |      \n",
                        " |          When set to None (the default value), will split on any whitespace\n",
                        " |          character (including \\n \\r \\t \\f and spaces) and will discard\n",
                        " |          empty strings from the result.\n",
                        " |        maxsplit\n",
                        " |          Maximum number of splits.\n",
                        " |          -1 (the default value) means no limit.\n",
                        " |      \n",
                        " |      Splitting starts at the front of the string and works to the end.\n",
                        " |      \n",
                        " |      Note, str.split() is mainly useful for data that has been intentionally\n",
                        " |      delimited.  With natural text that includes punctuation, consider using\n",
                        " |      the regular expression module.\n",
                        " |  \n",
                        " |  splitlines(self, /, keepends=False)\n",
                        " |      Return a list of the lines in the string, breaking at line boundaries.\n",
                        " |      \n",
                        " |      Line breaks are not included in the resulting list unless keepends is given and\n",
                        " |      true.\n",
                        " |  \n",
                        " |  startswith(...)\n",
                        " |      S.startswith(prefix[, start[, end]]) -> bool\n",
                        " |      \n",
                        " |      Return True if S starts with the specified prefix, False otherwise.\n",
                        " |      With optional start, test S beginning at that position.\n",
                        " |      With optional end, stop comparing S at that position.\n",
                        " |      prefix can also be a tuple of strings to try.\n",
                        " |  \n",
                        " |  strip(self, chars=None, /)\n",
                        " |      Return a copy of the string with leading and trailing whitespace removed.\n",
                        " |      \n",
                        " |      If chars is given and not None, remove characters in chars instead.\n",
                        " |  \n",
                        " |  swapcase(self, /)\n",
                        " |      Convert uppercase characters to lowercase and lowercase characters to uppercase.\n",
                        " |  \n",
                        " |  title(self, /)\n",
                        " |      Return a version of the string where each word is titlecased.\n",
                        " |      \n",
                        " |      More specifically, words start with uppercased characters and all remaining\n",
                        " |      cased characters have lower case.\n",
                        " |  \n",
                        " |  translate(self, table, /)\n",
                        " |      Replace each character in the string using the given translation table.\n",
                        " |      \n",
                        " |        table\n",
                        " |          Translation table, which must be a mapping of Unicode ordinals to\n",
                        " |          Unicode ordinals, strings, or None.\n",
                        " |      \n",
                        " |      The table must implement lookup/indexing via __getitem__, for instance a\n",
                        " |      dictionary or list.  If this operation raises LookupError, the character is\n",
                        " |      left untouched.  Characters mapped to None are deleted.\n",
                        " |  \n",
                        " |  upper(self, /)\n",
                        " |      Return a copy of the string converted to uppercase.\n",
                        " |  \n",
                        " |  zfill(self, width, /)\n",
                        " |      Pad a numeric string with zeros on the left, to fill a field of the given width.\n",
                        " |      \n",
                        " |      The string is never truncated.\n",
                        " |  \n",
                        " |  ----------------------------------------------------------------------\n",
                        " |  Static methods defined here:\n",
                        " |  \n",
                        " |  __new__(*args, **kwargs)\n",
                        " |      Create and return a new object.  See help(type) for accurate signature.\n",
                        " |  \n",
                        " |  maketrans(...)\n",
                        " |      Return a translation table usable for str.translate().\n",
                        " |      \n",
                        " |      If there is only one argument, it must be a dictionary mapping Unicode\n",
                        " |      ordinals (integers) or characters to Unicode ordinals, strings or None.\n",
                        " |      Character keys will be then converted to ordinals.\n",
                        " |      If there are two arguments, they must be strings of equal length, and\n",
                        " |      in the resulting dictionary, each character in x will be mapped to the\n",
                        " |      character at the same position in y. If there is a third argument, it\n",
                        " |      must be a string, whose characters will be mapped to None in the result.\n",
                        "\n"
                    ]
                }
            ]
        },
        {
            "id": "tl9g5xa4ddbgnmj39g4u2g",
            "cell_type": "code",
            "source": [
                "### BEGIN HIDDEN TESTS\n",
                "from IPython import get_ipython\n",
                "try:\n",
                "\n",
                "    # Fetch execution history\n",
                "    history = list(get_ipython().history_manager.get_range())  # Convert generator to a list\n",
                "\n",
                "    # Ensure we have at least two executed cells (current and previous)\n",
                "    assert len(history) > 1, \"❌ Not enough history to check the previous cell.\"\n",
                "\n",
                "    # Get the last executed cell BEFORE this one\n",
                "    previous_cell_code = history[-2][2].strip()  # Get the actual code of the previous cell\n",
                "    # Assertions to check if required statements are in the previous cell\n",
                "    assert \"help(string)\" in previous_cell_code, \"❌ 'help(string)' was not used in the previous cell.\"\n",
                "    assert \"help(string.whitespace)\" in previous_cell_code, \"❌ 'help(string.whitespace)' was not used in the previous cell.\"\n",
                "\n",
                "    print(\"✅ Both 'help(string)' and 'help(string.whitespace)' were used in the previous cell.\")\n",
                "\n",
                "except Exception as e:\n",
                "    assert False, f\"You did not install or import the library correctly\"\n",
                "### END HIDDEN TESTS"
            ],
            "metadata": {
                "colab": {
                    "base_uri": "https://localhost:8080/"
                },
                "id": "ZxyNlPXH9Vfa",
                "executionInfo": {
                    "status": "ok",
                    "timestamp": 1741642811105,
                    "user_tz": -120,
                    "elapsed": 534,
                    "user": {
                        "displayName": "Islam Zidan",
                        "userId": "17227307713370715205"
                    }
                },
                "outputId": "0516e8c4-1350-49bd-80f2-6c2155835cd2",
                "vocVersion": "1.1",
                "cellIdentifier": "tl9g5xa4ddbgnmj39g4u2g",
                "nbgrader": {
                    "grade": true,
                    "locked": true,
                    "solution": false,
                    "grade_id": "Task 2",
                    "points": "5"
                }
            },
            "execution_count": 0,
            "outputs": [
                {
                    "output_type": "stream",
                    "name": "stdout",
                    "text": [
                        "✅ Both 'help(string)' and 'help(string.whitespace)' were used in the previous cell.\n"
                    ]
                }
            ]
        },
        {
            "id": "19o9aq6ktfcvjtfzc6iqhc",
            "cell_type": "markdown",
            "source": [
                "## Tour of Some Useful Python Libraries\n",
                "\n",
                "Now that you've learned how to import libraries and view their documentation, let's take a tour of some of the most commonly used libraries in Python. These libraries are not only versatile but also beginner-friendly, making them perfect for learning and practicing your Python skills.\n",
                "\n",
                "In the following subsections, we'll explore:\n",
                "\n",
                "1. **Math Library**: Provides advanced mathematical functions and constants, allowing you to perform complex calculations with ease.\n",
                "\n",
                "2. **Random Library**: Enables you to generate random numbers and make random selections, which is particularly useful for creating games, simulations, and randomized algorithms.\n",
                "\n",
                "3. **Time Library**: Offers functions for working with time, such as pausing your program, measuring execution time, and displaying human-readable dates and times.\n",
                "\n",
                "4. **String Library**: Enhances your ability to work with text by providing a collection of string constants and additional string manipulation functions.\n",
                "\n",
                "5. **ColabTurtle Library**: A fun, interactive way to create art and drawings using Python code, perfect for learning basic programming concepts and experimenting with visual outputs.\n",
                "\n",
                "Let's dive in and see what each of these libraries has to offer!\n",
                ""
            ],
            "metadata": {
                "id": "eGE6cUpPPqlX",
                "vocVersion": "1.1",
                "cellIdentifier": "19o9aq6ktfcvjtfzc6iqhc"
            },
            "execution_count": 0,
            "outputs": []
        },
        {
            "id": "c5bksm2erzowi43925xn6t",
            "cell_type": "markdown",
            "source": [
                "## 🔢 The Math Library in Python\n",
                "\n",
                "Ever needed to calculate the square root of a number? Find the value of pi? Or maybe figure out some trigonometry? The `math` library in Python is packed with all sorts of mathematical tools that make complex calculations simple!"
            ],
            "metadata": {
                "id": "yN6U1WclgQ6d",
                "vocVersion": "1.1",
                "cellIdentifier": "c5bksm2erzowi43925xn6t"
            },
            "execution_count": 0,
            "outputs": []
        },
        {
            "id": "lo3cx28fbrjum6wmt76pbe",
            "cell_type": "code",
            "source": [
                "import math"
            ],
            "metadata": {
                "id": "KIqKsVAlhjaA",
                "vocVersion": "1.1",
                "cellIdentifier": "lo3cx28fbrjum6wmt76pbe"
            },
            "execution_count": 0,
            "outputs": []
        },
        {
            "id": "hadds72cf7phiykv8r572e",
            "cell_type": "markdown",
            "source": [
                "🧮 **Basic Mathematical Constants**\n",
                "\n",
                "The math library gives us super precise versions of important mathematical constants. These are numbers that mathematicians and scientists use all the time!"
            ],
            "metadata": {
                "id": "zDhbS29jmPsp",
                "vocVersion": "1.1",
                "cellIdentifier": "hadds72cf7phiykv8r572e"
            },
            "execution_count": 0,
            "outputs": []
        },
        {
            "id": "bvbb2xhwwuabkbyuzwjxgv",
            "cell_type": "code",
            "source": [
                "# Let's look at some important mathematical constants\n",
                "print(f\"π (pi) = {math.pi}\")  # The ratio of a circle's circumference to its diameter\n",
                "print(f\"e = {math.e}\")        # Euler's number, used in exponential growth/decay\n",
                "print(f\"τ (tau) = {math.tau}\")  # Tau is 2π, useful for working with circles and waves"
            ],
            "metadata": {
                "id": "t7hsL9aUmUTb",
                "vocVersion": "1.1",
                "cellIdentifier": "bvbb2xhwwuabkbyuzwjxgv"
            },
            "execution_count": 0,
            "outputs": []
        },
        {
            "id": "aen8aewtjngavs8ck2eord",
            "cell_type": "markdown",
            "source": [
                "**📐Basic Mathematical Functions**\n",
                "\n",
                "These are like your calculator's basic functions, but even better! Let's explore some of the most commonly used ones:"
            ],
            "metadata": {
                "id": "XTzdYxsBmXQn",
                "vocVersion": "1.1",
                "cellIdentifier": "aen8aewtjngavs8ck2eord"
            },
            "execution_count": 0,
            "outputs": []
        },
        {
            "id": "3iqgh4nlb46i9mfu0972u",
            "cell_type": "markdown",
            "source": [
                "**`math.sqrt(x)`**: Returns the square root of `x`.  "
            ],
            "metadata": {
                "id": "e9LKc_WygnSP",
                "vocVersion": "1.1",
                "cellIdentifier": "3iqgh4nlb46i9mfu0972u"
            },
            "execution_count": 0,
            "outputs": []
        },
        {
            "id": "4ld79jog96f15p1vp292so",
            "cell_type": "code",
            "source": [
                "print(math.sqrt(25))"
            ],
            "metadata": {
                "id": "fsdvb278hz0-",
                "vocVersion": "1.1",
                "cellIdentifier": "4ld79jog96f15p1vp292so"
            },
            "execution_count": 0,
            "outputs": []
        },
        {
            "id": "5z06hbn1p33ximeba2n91m",
            "cell_type": "markdown",
            "source": [
                "**`math.ceil(x)`**: Rounds `x` up to the nearest integer.  "
            ],
            "metadata": {
                "id": "ro1AYO8Oh8Kh",
                "vocVersion": "1.1",
                "cellIdentifier": "5z06hbn1p33ximeba2n91m"
            },
            "execution_count": 0,
            "outputs": []
        },
        {
            "id": "jg3zu01lrwg5lq3ipyra89",
            "cell_type": "code",
            "source": [
                "print(math.ceil(4.2))"
            ],
            "metadata": {
                "id": "u56BcmVDh_Xf",
                "vocVersion": "1.1",
                "cellIdentifier": "jg3zu01lrwg5lq3ipyra89"
            },
            "execution_count": 0,
            "outputs": []
        },
        {
            "id": "0kf46idcjy6jwqe2g1wn7to",
            "cell_type": "markdown",
            "source": [
                "**`math.floor(x)`**: Rounds `x` down to the nearest integer.  "
            ],
            "metadata": {
                "id": "iG-PCu-fh-x6",
                "vocVersion": "1.1",
                "cellIdentifier": "0kf46idcjy6jwqe2g1wn7to"
            },
            "execution_count": 0,
            "outputs": []
        },
        {
            "id": "er7edqcz8vuzw7vrtek1h",
            "cell_type": "code",
            "source": [
                "print(math.floor(3.8))"
            ],
            "metadata": {
                "id": "70z-epFHhz21",
                "vocVersion": "1.1",
                "cellIdentifier": "er7edqcz8vuzw7vrtek1h"
            },
            "execution_count": 0,
            "outputs": []
        },
        {
            "id": "c9r42npc8dwk517n0ovu",
            "cell_type": "markdown",
            "source": [
                "**`math.pow(x, y)`**: Raises `x` to the power of `y` (equivalent to `x**y`).  "
            ],
            "metadata": {
                "id": "TsnfrbqliRDH",
                "vocVersion": "1.1",
                "cellIdentifier": "c9r42npc8dwk517n0ovu"
            },
            "execution_count": 0,
            "outputs": []
        },
        {
            "id": "27sq6x4rnu6h091uwgi95s",
            "cell_type": "code",
            "source": [
                "print(math.pow(2, 3))"
            ],
            "metadata": {
                "id": "aNVpUhZFhz4s",
                "vocVersion": "1.1",
                "cellIdentifier": "27sq6x4rnu6h091uwgi95s"
            },
            "execution_count": 0,
            "outputs": []
        },
        {
            "id": "qekpn5ghbrb1e6qpve0kin",
            "cell_type": "markdown",
            "source": [
                "**`math.sin(x)`**: Returns the sine of `x` (where `x` is in radians).  "
            ],
            "metadata": {
                "id": "U1yI5XA3iZ9n",
                "vocVersion": "1.1",
                "cellIdentifier": "qekpn5ghbrb1e6qpve0kin"
            },
            "execution_count": 0,
            "outputs": []
        },
        {
            "id": "meq81x6nq4n0wrcecq8el5",
            "cell_type": "code",
            "source": [
                "print(math.sin(math.pi / 2))"
            ],
            "metadata": {
                "id": "QO8oIBKKhz6o",
                "vocVersion": "1.1",
                "cellIdentifier": "meq81x6nq4n0wrcecq8el5"
            },
            "execution_count": 0,
            "outputs": []
        },
        {
            "id": "6ql8558omkou9ewfcbtuf",
            "cell_type": "markdown",
            "source": [
                "📏 **Trigonometry Functions**\n",
                "\n",
                "Trigonometry might seem scary, but Python makes it super easy! Remember: Python works with radians by default, but we can convert between degrees and radians easily."
            ],
            "metadata": {
                "id": "0xQL10sNmtRC",
                "vocVersion": "1.1",
                "cellIdentifier": "6ql8558omkou9ewfcbtuf"
            },
            "execution_count": 0,
            "outputs": []
        },
        {
            "id": "ltwl231msmk2za9owcga9c",
            "cell_type": "code",
            "source": [
                "# Let's explore trigonometry!\n",
                "angle_degrees = 45\n",
                "angle_radians = math.radians(angle_degrees)  # Convert degrees to radians\n",
                "\n",
                "print(f\"For an angle of {angle_degrees} degrees:\")\n",
                "print(f\"Sine: {math.sin(angle_radians):.4f}\")\n",
                "print(f\"Cosine: {math.cos(angle_radians):.4f}\")\n",
                "print(f\"Tangent: {math.tan(angle_radians):.4f}\")\n",
                "\n",
                "# Going back to degrees\n",
                "angle_in_radians = math.pi / 4\n",
                "print(f\"\\n{angle_in_radians} radians is equal to {math.degrees(angle_in_radians)} degrees\")"
            ],
            "metadata": {
                "id": "MzRlJkZHmzHX",
                "vocVersion": "1.1",
                "cellIdentifier": "ltwl231msmk2za9owcga9c"
            },
            "execution_count": 0,
            "outputs": []
        },
        {
            "id": "8kfr6wlk921o28f5kzj1vj",
            "cell_type": "markdown",
            "source": [
                "🎯 **Real-World Example: Circle Calculator**\n",
                "\n",
                "Let's create a program that calculates different properties of a circle. This will show how we can use multiple math functions together!"
            ],
            "metadata": {
                "id": "6aJJVAXknCSD",
                "vocVersion": "1.1",
                "cellIdentifier": "8kfr6wlk921o28f5kzj1vj"
            },
            "execution_count": 0,
            "outputs": []
        },
        {
            "id": "ur5ncjbi38k0ilcjj77vih8",
            "cell_type": "code",
            "source": [
                "def circle_calculator(radius):\n",
                "    \"\"\"Calculate various properties of a circle given its radius\"\"\"\n",
                "    print(f\"🔵 Circle Calculator (radius = {radius} units)\")\n",
                "    print(\"-\" * 40)\n",
                "\n",
                "    # Area = πr²\n",
                "    area = math.pi * math.pow(radius, 2)\n",
                "    print(f\"Area: {area:.2f} square units\")\n",
                "\n",
                "    # Circumference = 2πr\n",
                "    circumference = 2 * math.pi * radius\n",
                "    print(f\"Circumference: {circumference:.2f} units\")\n",
                "\n",
                "    # Diameter = 2r\n",
                "    diameter = 2 * radius\n",
                "    print(f\"Diameter: {diameter} units\")\n",
                "\n",
                "# Let's try it with a circle of radius 5\n",
                "circle_calculator(5)"
            ],
            "metadata": {
                "id": "NCzH8cjQnH6z",
                "vocVersion": "1.1",
                "cellIdentifier": "ur5ncjbi38k0ilcjj77vih8"
            },
            "execution_count": 0,
            "outputs": []
        },
        {
            "id": "7qllmg51spjd61p7km5co",
            "cell_type": "markdown",
            "source": [
                "✏️ **Task 3: Working with the `math` Library**\n",
                "1. Import the `math` library in Python.  \n",
                "2. Use `math.sqrt()` to find the square root of 64.  \n",
                "3. Use `math.ceil()` to round 4.2 up to the nearest integer.  \n",
                "4. Use `math.pi` to print the value of Pi.  \n",
                "6. Append your results to the list `results`.\n",
                "5. Bonus: Use `math.pow()` to calculate \\(5^3\\) and append it to the list.  \n",
                ""
            ],
            "metadata": {
                "id": "hIA2CUSjirVJ",
                "vocVersion": "1.1",
                "cellIdentifier": "7qllmg51spjd61p7km5co"
            },
            "execution_count": 0,
            "outputs": []
        },
        {
            "id": "k1blaghq5xlginohua38xp",
            "cell_type": "code",
            "source": [
                "# Append the results to this list\n",
                "results = []\n",
                "### BEGIN SOLUTION\n",
                "import math\n",
                "\n",
                "# Find the square root of 64\n",
                "results.append(math.sqrt(64))\n",
                "\n",
                "# Round 4.2 up to the nearest integer\n",
                "results.append(math.ceil(4.2))\n",
                "\n",
                "# Print the value of Pi\n",
                "results.append(math.pi)\n",
                "\n",
                "# Calculate 5^3\n",
                "results.append(math.pow(5, 3))\n",
                "### END SOLUTION\n",
                "print(results)"
            ],
            "metadata": {
                "id": "5HasVFYlisrS",
                "colab": {
                    "base_uri": "https://localhost:8080/"
                },
                "executionInfo": {
                    "status": "ok",
                    "timestamp": 1741645013311,
                    "user_tz": -120,
                    "elapsed": 42,
                    "user": {
                        "displayName": "Islam Zidan",
                        "userId": "17227307713370715205"
                    }
                },
                "outputId": "c1757f4f-b71a-4d16-d7cf-7f22b73a1c1a",
                "vocVersion": "1.1",
                "cellIdentifier": "k1blaghq5xlginohua38xp",
                "nbgrader": {
                    "grade": false,
                    "locked": false,
                    "solution": true
                }
            },
            "execution_count": 0,
            "outputs": [
                {
                    "output_type": "stream",
                    "name": "stdout",
                    "text": [
                        "[8.0, 5, 3.141592653589793, 125.0]\n"
                    ]
                }
            ]
        },
        {
            "id": "bixvv516d7c2tt597quv23",
            "cell_type": "code",
            "source": [
                "### BEGIN HIDDEN TESTS\n",
                "# Ensure the results list is defined\n",
                "assert 'results' in globals(), \"❌ The 'results' list is not defined.\"\n",
                "\n",
                "# Ensure the student imported the math module\n",
                "assert 'math' in globals(), \"❌ The 'math' module was not imported.\"\n",
                "\n",
                "# Expected results (unordered)\n",
                "expected_results = {\n",
                "    math.sqrt(64),  # 8.0\n",
                "    math.ceil(4.2),  # 5\n",
                "    math.pi,  # 3.141592653589793\n",
                "    math.pow(5, 3)  # 125.0\n",
                "}\n",
                "\n",
                "# Convert the student's results to a set (order does not matter)\n",
                "student_results = set(results)\n",
                "\n",
                "# Assert that all required values are present in any order\n",
                "assert student_results == expected_results, f\"❌ Incorrect results. Expected {expected_results}, but got {student_results}.\"\n",
                "\n",
                "print(\"✅ The 'results' list is correct and contains all expected values!\")\n",
                "### END HIDDEN TESTS"
            ],
            "metadata": {
                "colab": {
                    "base_uri": "https://localhost:8080/"
                },
                "id": "z4gFJ11QBmHw",
                "executionInfo": {
                    "status": "ok",
                    "timestamp": 1741645014957,
                    "user_tz": -120,
                    "elapsed": 9,
                    "user": {
                        "displayName": "Islam Zidan",
                        "userId": "17227307713370715205"
                    }
                },
                "outputId": "6b2b5f02-6592-4aad-c939-8d52616fbd93",
                "vocVersion": "1.1",
                "cellIdentifier": "bixvv516d7c2tt597quv23",
                "nbgrader": {
                    "grade": true,
                    "locked": true,
                    "solution": false,
                    "grade_id": "Task 3",
                    "points": "5"
                }
            },
            "execution_count": 0,
            "outputs": [
                {
                    "output_type": "stream",
                    "name": "stdout",
                    "text": [
                        "✅ The 'results' list is correct and contains all expected values!\n"
                    ]
                }
            ]
        },
        {
            "id": "pa3iwp61nnc0pn87oqlgmy",
            "cell_type": "markdown",
            "source": [
                "You can find detailed information about the math library in the official Python documentation. Visit the [Python math library documentation](https://docs.python.org/3/library/math.html) to explore all available functions and constants with examples. This is a reliable and comprehensive resource for understanding the capabilities of the math module."
            ],
            "metadata": {
                "id": "dF5EXm3_gnow",
                "vocVersion": "1.1",
                "cellIdentifier": "pa3iwp61nnc0pn87oqlgmy"
            },
            "execution_count": 0,
            "outputs": []
        },
        {
            "id": "p04qyc9vspqzk6mc5j07pe",
            "cell_type": "markdown",
            "source": [
                "## 🎲 The Random Library in Python\n",
                "\n",
                "Just like how we used the math library to do mathematical operations, Python has many other libraries that help us do different things. In this section, we'll look at the `random` library—a tool that helps us create random numbers and make random choices in our programs!\n",
                "\n",
                "📚 **What is a Random Library?**\n",
                "\n",
                "Think of the random library like a special set of dice and cards that Python can use. Just like how you roll a dice to get a random number, or shuffle cards to get a random card, the random library helps Python do similar things!\n",
                "\n",
                "🤔 **Why Do We Need the Random Library?**\n",
                "\n",
                "Imagine you're:\n",
                "- Making a game where you need to roll dice.\n",
                "- Creating a program that picks random students for class activities.\n",
                "- Building a simple game that generates random numbers.\n",
                "- Making a computer pick random colors or choices.\n",
                "\n",
                "The random library helps us do all these things!\n",
                "\n",
                "Let's begin by importing the random library:"
            ],
            "metadata": {
                "id": "x4tANOsit6zD",
                "vocVersion": "1.1",
                "cellIdentifier": "p04qyc9vspqzk6mc5j07pe"
            },
            "execution_count": 0,
            "outputs": []
        },
        {
            "id": "wf8sq81z9r8c4299j9okt",
            "cell_type": "code",
            "source": [
                "import random"
            ],
            "metadata": {
                "id": "-Bsg39p5uE28",
                "vocVersion": "1.1",
                "cellIdentifier": "wf8sq81z9r8c4299j9okt"
            },
            "execution_count": 0,
            "outputs": []
        },
        {
            "id": "yiipa3opnwghio41jie8e4",
            "cell_type": "markdown",
            "source": [
                "🎯 **Understanding Random Functions**\n",
                "\n",
                "The random library gives us several useful functions. Let's look at the most important ones:\n",
                "\n",
                "1. **random.randint()**: Gets a random whole number between two numbers.\n",
                "   - Example: random.randint(1, 6) gives you a number between 1 and 6, just like a real dice!\n",
                "\n",
                "2. **random.choice()**: Picks a random item from a list.\n",
                "   - Like putting your hand in a bag of candies and pulling one out without looking.\n",
                "   - Works with any list—names, numbers, words, anything!\n",
                "\n",
                "Let's look at these one by one with simple examples:"
            ],
            "metadata": {
                "id": "Z9PvSYVxuJ5b",
                "vocVersion": "1.1",
                "cellIdentifier": "yiipa3opnwghio41jie8e4"
            },
            "execution_count": 0,
            "outputs": []
        },
        {
            "id": "0noqj8szp8rfsnd2igqhfz",
            "cell_type": "code",
            "source": [
                "# Let's use randint() first\n",
                "random_number = random.randint(1, 6)\n",
                "print(f\"If this was a die, you rolled: {random_number}\")\n",
                "\n",
                "# Let's roll it a few times to see how it changes:\n",
                "print(\"\\nRolling the die 3 times:\")\n",
                "print(\"Roll 1:\", random.randint(1, 6))\n",
                "print(\"Roll 2:\", random.randint(1, 6))\n",
                "print(\"Roll 3:\", random.randint(1, 6))"
            ],
            "metadata": {
                "id": "JhDJx-g-u-Xv",
                "vocVersion": "1.1",
                "cellIdentifier": "0noqj8szp8rfsnd2igqhfz"
            },
            "execution_count": 0,
            "outputs": []
        },
        {
            "id": "v36f5cxghkl5hkifk35gs9",
            "cell_type": "markdown",
            "source": [
                "Did you notice how each time we got a different number? That's because randint() gives us a random number each time we use it!  Also, if you run this cell again, you'll likely see the output change.\n",
                "\n",
                "Now let's look at random.choice():"
            ],
            "metadata": {
                "id": "2UHyy9ayt68e",
                "vocVersion": "1.1",
                "cellIdentifier": "v36f5cxghkl5hkifk35gs9"
            },
            "execution_count": 0,
            "outputs": []
        },
        {
            "id": "3mb89b0wtsx9ajtx474rd",
            "cell_type": "code",
            "source": [
                "# First, let's make a list of fruits\n",
                "fruits = [\"apple\", \"banana\", \"orange\", \"grape\", \"watermelon\"]\n",
                "\n",
                "# Now let's have Python randomly pick one\n",
                "chosen_fruit = random.choice(fruits)\n",
                "print(f\"Python picked: {chosen_fruit}\")\n",
                "\n",
                "# Let's try picking 3 times to see how it changes\n",
                "print(\"\\nPicking fruits 3 times:\")\n",
                "print(\"Pick 1:\", random.choice(fruits))\n",
                "print(\"Pick 2:\", random.choice(fruits))\n",
                "print(\"Pick 3:\", random.choice(fruits))"
            ],
            "metadata": {
                "id": "yxfJVN0pvEc_",
                "vocVersion": "1.1",
                "cellIdentifier": "3mb89b0wtsx9ajtx474rd"
            },
            "execution_count": 0,
            "outputs": []
        },
        {
            "id": "q2rp7b9658ocwt4y7ybfww",
            "cell_type": "markdown",
            "source": [
                "🔍 **Let's Break Down What's Happening**\n",
                "\n",
                "When we use `random.randint(1, 6)`:\n",
                "1. We're telling Python: \"Give me a random number\".\n",
                "2. The first number (1) is the smallest possible number we want.\n",
                "3. The second number (6) is the biggest possible number we want.\n",
                "4. Python picks one number between these two (including both 1 and 6).\n",
                "\n",
                "When we use `random.choice(fruits)`:\n",
                "1. We're telling Python: \"Look at this list of fruits\".\n",
                "2. Python randomly picks one item from the list.\n",
                "3. It can be any item in the list—they all have an equal chance of being picked.\n",
                "\n",
                "📝 **Simple Practice Exercise**\n",
                "\n",
                "Let's create a very simple program that helps us make decisions. Like when you can't decide what to have for lunch!"
            ],
            "metadata": {
                "id": "TdTCURFbt6-n",
                "vocVersion": "1.1",
                "cellIdentifier": "q2rp7b9658ocwt4y7ybfww"
            },
            "execution_count": 0,
            "outputs": []
        },
        {
            "id": "58axlrsgvf8b6itf0zv6pm",
            "cell_type": "code",
            "source": [
                "# List of lunch options\n",
                "lunch_options = [\"sandwich\", \"pasta\", \"salad\", \"pizza\", \"soup\"]\n",
                "\n",
                "# Let's ask Python to help us decide!\n",
                "print(\"Wondering what to have for lunch?\")\n",
                "print(\"Let me help you decide...\")\n",
                "todays_lunch = random.choice(lunch_options)\n",
                "print(f\"How about having {todays_lunch} today? 😋\")"
            ],
            "metadata": {
                "id": "otMw-65VvL0Z",
                "vocVersion": "1.1",
                "cellIdentifier": "58axlrsgvf8b6itf0zv6pm"
            },
            "execution_count": 0,
            "outputs": []
        },
        {
            "id": "ls7up9du66a3rmaef4inm",
            "cell_type": "markdown",
            "source": [
                "🎯 **Try It Yourself!**\n",
                "\n",
                "Here's a simple exercise to try. Just change the numbers or words in the code below:\n",
                "\n",
                "1. Try changing the numbers in randint() to get different ranges.\n",
                "2. Try making your own list and using choice() with it."
            ],
            "metadata": {
                "id": "4Kxp4_2Nt7Ag",
                "vocVersion": "1.1",
                "cellIdentifier": "ls7up9du66a3rmaef4inm"
            },
            "execution_count": 0,
            "outputs": []
        },
        {
            "id": "zq5eatd3nfss2cvlrgwlf",
            "cell_type": "code",
            "source": [
                "# Example 1: Change these numbers to any numbers you want!\n",
                "my_random_number = random.randint(1, 10)\n",
                "print(f\"Your random number is: {my_random_number}\")\n",
                "\n",
                "# Example 2: Change these names to any names you want!\n",
                "names = [\"Alice\", \"Bob\", \"Charlie\", \"David\"]\n",
                "picked_name = random.choice(names)\n",
                "print(f\"Randomly picked name: {picked_name}\")"
            ],
            "metadata": {
                "id": "9SXAium0vWnz",
                "vocVersion": "1.1",
                "cellIdentifier": "zq5eatd3nfss2cvlrgwlf"
            },
            "execution_count": 0,
            "outputs": []
        },
        {
            "id": "ziry6njp20gcgydxk6ukzk",
            "cell_type": "markdown",
            "source": [
                "## 🕒 The Time Library in Python\n",
                "\n",
                "Have you ever wanted your program to wait for a few seconds? Or measure how long something takes? Or even create a cool countdown timer? The `time` library in Python lets you do all of this and more! Think of it as giving your program a wristwatch and calendar."
            ],
            "metadata": {
                "id": "HtDGBuHHkQTI",
                "vocVersion": "1.1",
                "cellIdentifier": "ziry6njp20gcgydxk6ukzk"
            },
            "execution_count": 0,
            "outputs": []
        },
        {
            "id": "6offr0l4ga7uu11p1tn1oi",
            "cell_type": "code",
            "source": [
                "## 📚 First Step: Importing the Library\n",
                "\n",
                "import time"
            ],
            "metadata": {
                "id": "FFCXtPnIkTlI",
                "vocVersion": "1.1",
                "cellIdentifier": "6offr0l4ga7uu11p1tn1oi"
            },
            "execution_count": 0,
            "outputs": []
        },
        {
            "id": "xhj6dqsqytj7d5jbpbpb",
            "cell_type": "markdown",
            "source": [
                "**⏰ Making Your Program Take a Break: time.sleep()**\n",
                "\n",
                "One of the most useful functions is `time.sleep()`. It makes your program pause for any number of seconds you want.\n",
                "- Need a dramatic pause in your game? Use `time.sleep()`!\n",
                "- Want to create suspense? Use `time.sleep()`!\n",
                "- Need to slow down your program to see what's happening? You got it—`time.sleep()`!\n",
                "\n",
                "Let's try a dramatic countdown:"
            ],
            "metadata": {
                "id": "3J3U518Bkelo",
                "vocVersion": "1.1",
                "cellIdentifier": "xhj6dqsqytj7d5jbpbpb"
            },
            "execution_count": 0,
            "outputs": []
        },
        {
            "id": "wxhzl6klbt8aq3cssykw95",
            "cell_type": "code",
            "source": [
                "print(\"Get ready for the most dramatic countdown ever!\")\n",
                "print(\"3...\")\n",
                "time.sleep(1)  # Waits for 1 second\n",
                "print(\"2...\")\n",
                "time.sleep(1)  # Waits another second\n",
                "print(\"1...\")\n",
                "time.sleep(1)  # One more second of suspense\n",
                "print(\"🚀 BLAST OFF! 🚀\")"
            ],
            "metadata": {
                "id": "c-iOQvF6khSY",
                "vocVersion": "1.1",
                "cellIdentifier": "wxhzl6klbt8aq3cssykw95"
            },
            "execution_count": 0,
            "outputs": []
        },
        {
            "id": "ezsssu391j3cbgwtby9o9",
            "cell_type": "markdown",
            "source": [
                "⏱️ **Measuring Time: time.time()**\n",
                "\n",
                "`time.time()` tells you the current time in \"computer time\" (seconds since January 1st, 1970).\n",
                "By itself, this big number isn't very useful. But if you take two time measurements and subtract them,\n",
                "you can find out how long something took!\n",
                "\n",
                "Think of it like a stopwatch—you need a start time and an end time to measure duration.\n",
                "Let's measure how long it takes to count to a million:"
            ],
            "metadata": {
                "id": "ikqbvqDjkqEN",
                "vocVersion": "1.1",
                "cellIdentifier": "ezsssu391j3cbgwtby9o9"
            },
            "execution_count": 0,
            "outputs": []
        },
        {
            "id": "x71qckrz11p3747ussu9uv",
            "cell_type": "code",
            "source": [
                "# Start the stopwatch\n",
                "start_time = time.time()\n",
                "\n",
                "# Count to a million (this might take a bit!)\n",
                "for i in range(1000000):\n",
                "    pass  # This is Python's way of saying \"do nothing\"\n",
                "\n",
                "# Stop the stopwatch\n",
                "end_time = time.time()\n",
                "\n",
                "# Calculate how long it took\n",
                "duration = end_time - start_time\n",
                "print(f\"Wow! Counting to a million took {duration:.2f} seconds!\")"
            ],
            "metadata": {
                "id": "m-ZgXnhwks84",
                "vocVersion": "1.1",
                "cellIdentifier": "x71qckrz11p3747ussu9uv"
            },
            "execution_count": 0,
            "outputs": []
        },
        {
            "id": "lc4h2o8ph5lg05p6awg6tr",
            "cell_type": "markdown",
            "source": [
                "📅 **Getting the Current Time in Human-Readable Format: time.ctime()**\n",
                "\n",
                "While computers love counting seconds since 1970, humans prefer regular dates and times.\n",
                "That's where `time.ctime()` comes in—it converts computer time into something we can read!"
            ],
            "metadata": {
                "id": "2qNmH3Qnk4ew",
                "vocVersion": "1.1",
                "cellIdentifier": "lc4h2o8ph5lg05p6awg6tr"
            },
            "execution_count": 0,
            "outputs": []
        },
        {
            "id": "0mixpbppwsnwpkuf8u0zn",
            "cell_type": "code",
            "source": [
                "current_time = time.ctime()\n",
                "print(f\"🕐 According to my watch, it is: {current_time}\")"
            ],
            "metadata": {
                "id": "GJaEtTdRk1Gp",
                "vocVersion": "1.1",
                "cellIdentifier": "0mixpbppwsnwpkuf8u0zn"
            },
            "execution_count": 0,
            "outputs": []
        },
        {
            "id": "jewda4azt4szaf6j3kt11",
            "cell_type": "markdown",
            "source": [
                "🎮 **Let's Build Something Fun: A Reaction Time Game!**\n",
                "\n",
                "Now let's combine what we've learned to create a game that:\n",
                "1. Tells the player to get ready.\n",
                "2. Waits a random amount of time.\n",
                "3. Shows a signal.\n",
                "4. Measures how quickly the player responds.\n",
                "\n",
                "We'll need the `random` library too for this one:"
            ],
            "metadata": {
                "id": "isS2EiazlFmH",
                "vocVersion": "1.1",
                "cellIdentifier": "jewda4azt4szaf6j3kt11"
            },
            "execution_count": 0,
            "outputs": []
        },
        {
            "id": "7hj8n2a92vf6xxvqthk5nv",
            "cell_type": "code",
            "source": [
                "import time\n",
                "import random\n",
                "\n",
                "def reaction_game():\n",
                "    print(\"👾 Welcome to the Reaction Time Game! 👾\")\n",
                "    print(\"\\nWhen you see 'GO!', press Enter as fast as you can!\")\n",
                "    print(\"\\nGet ready...\")\n",
                "\n",
                "    # Wait between 2 and 5 seconds randomly\n",
                "    time.sleep(random.randint(2, 5))\n",
                "\n",
                "    print(\"GO! 🏃\")\n",
                "    start_time = time.time()\n",
                "\n",
                "    # Wait for player to press Enter\n",
                "    input()\n",
                "\n",
                "    end_time = time.time()\n",
                "    reaction_time = end_time - start_time\n",
                "\n",
                "    print(f\"\\n⚡ Your reaction time was: {reaction_time:.3f} seconds!\")\n",
                "\n",
                "    # Give them a rating based on their speed\n",
                "    if reaction_time < 0.2:\n",
                "        print(\"Are you even human? That's impossibly fast! 🤖\")\n",
                "    elif reaction_time < 0.3:\n",
                "        print(\"WOW! Lightning fast reflexes! ⚡\")\n",
                "    elif reaction_time < 0.5:\n",
                "        print(\"Great job! Very quick! 🌟\")\n",
                "    elif reaction_time < 1:\n",
                "        print(\"Not bad at all! 👍\")\n",
                "    else:\n",
                "        print(\"Keep practicing! You'll get faster! 💪\")\n",
                "\n",
                "# Let's play!\n",
                "reaction_game()"
            ],
            "metadata": {
                "id": "kDKllaDmk_FA",
                "colab": {
                    "base_uri": "https://localhost:8080/"
                },
                "executionInfo": {
                    "status": "ok",
                    "timestamp": 1741654176680,
                    "user_tz": -120,
                    "elapsed": 3752,
                    "user": {
                        "displayName": "Islam Zidan",
                        "userId": "17227307713370715205"
                    }
                },
                "outputId": "3a7eda77-034f-43f6-ea29-c16e2c0032af",
                "vocVersion": "1.1",
                "cellIdentifier": "7hj8n2a92vf6xxvqthk5nv"
            },
            "execution_count": 0,
            "outputs": [
                {
                    "output_type": "stream",
                    "name": "stdout",
                    "text": [
                        "👾 Welcome to the Reaction Time Game! 👾\n",
                        "\n",
                        "When you see 'GO!', press Enter as fast as you can!\n",
                        "\n",
                        "Get ready...\n",
                        "GO! 🏃\n",
                        "\n",
                        "\n",
                        "⚡ Your reaction time was: 0.743 seconds!\n",
                        "Not bad at all! 👍\n"
                    ]
                }
            ]
        },
        {
            "id": "httd97zvslb5fwvnjv5fv",
            "cell_type": "markdown",
            "source": [
                "✏️ **Task 4: Ultimate Countdown Timer**\n",
                "\n",
                "Create a countdown timer function and name it `countdown_timer` where the user provides a time in seconds and the function displays a countdown until 0."
            ],
            "metadata": {
                "id": "MXDJycQSlqhB",
                "vocVersion": "1.1",
                "cellIdentifier": "httd97zvslb5fwvnjv5fv"
            },
            "execution_count": 0,
            "outputs": []
        },
        {
            "id": "sjc7065ao4s4mwabftjg64",
            "cell_type": "code",
            "source": [
                "### BEGIN SOLUTION\n",
                "import time\n",
                "def countdown_timer(seconds):\n",
                "    while seconds > 0:\n",
                "        print(seconds)\n",
                "        time.sleep(1)\n",
                "        seconds -= 1\n",
                "    print(\"Time's up!\")\n",
                "### END SOLUTION"
            ],
            "metadata": {
                "id": "JB2KY7Q6lMzS",
                "vocVersion": "1.1",
                "cellIdentifier": "sjc7065ao4s4mwabftjg64",
                "nbgrader": {
                    "grade": false,
                    "locked": false,
                    "solution": true
                }
            },
            "execution_count": 0,
            "outputs": []
        },
        {
            "id": "huv0lsj5cn47lafk5gc188",
            "cell_type": "code",
            "source": [
                "### BEGIN HIDDEN TESTS\n",
                "import time\n",
                "from io import StringIO\n",
                "import sys\n",
                "from unittest.mock import patch\n",
                "\n",
                "# Save original Colab output stream before redirection\n",
                "original_stdout = sys.stdout\n",
                "\n",
                "# Ensure function is defined\n",
                "assert 'countdown_timer' in globals(), \"❌ The function 'countdown_timer' is not defined.\"\n",
                "\n",
                "# Capture output\n",
                "captured_output = StringIO()\n",
                "sys.stdout = captured_output\n",
                "\n",
                "try:\n",
                "    # Mock time.sleep to avoid real-time delays\n",
                "    with patch(\"time.sleep\", return_value=None):\n",
                "        countdown_timer(3)  # Re-run function\n",
                "\n",
                "finally:\n",
                "    # Properly restore stdout back to Colab's output stream\n",
                "    sys.stdout = original_stdout\n",
                "\n",
                "# Get captured output\n",
                "output_lines = captured_output.getvalue().strip().split(\"\\n\")\n",
                "\n",
                "# Expected countdown output\n",
                "expected_output = [\"3\", \"2\", \"1\", \"Time's up!\"]\n",
                "\n",
                "# Assertion to check correct countdown sequence\n",
                "assert output_lines == expected_output, f\"❌ Expected {expected_output}, but got {output_lines}\"\n",
                "\n",
                "print(\"✅ 'countdown_timer' executed correctly and printed the expected countdown.\")\n",
                "\n",
                "### END HIDDEN TESTS"
            ],
            "metadata": {
                "colab": {
                    "base_uri": "https://localhost:8080/"
                },
                "id": "O_X4kGHdc18k",
                "executionInfo": {
                    "status": "ok",
                    "timestamp": 1741651098915,
                    "user_tz": -120,
                    "elapsed": 38,
                    "user": {
                        "displayName": "Islam Zidan",
                        "userId": "17227307713370715205"
                    }
                },
                "outputId": "e684b599-e745-46db-97ed-e1e4fcbfc815",
                "vocVersion": "1.1",
                "cellIdentifier": "huv0lsj5cn47lafk5gc188",
                "nbgrader": {
                    "grade": true,
                    "locked": true,
                    "solution": false,
                    "grade_id": "Task 4",
                    "points": "5"
                }
            },
            "execution_count": 0,
            "outputs": [
                {
                    "output_type": "stream",
                    "name": "stdout",
                    "text": [
                        "✅ 'countdown_timer' executed correctly and printed the expected countdown.\n"
                    ]
                }
            ]
        },
        {
            "id": "lknt15t1s3v2t7hi0tvni",
            "cell_type": "markdown",
            "source": [
                "## 📝 The String Library in Python\n",
                "\n",
                "Ever needed to check if something is a number? Convert text to uppercase? Or maybe find and replace words? The `string` library gives you amazing tools to work with text in Python! Think of it as your personal text editor with superpowers."
            ],
            "metadata": {
                "id": "fUaoyp2ZniWo",
                "vocVersion": "1.1",
                "cellIdentifier": "lknt15t1s3v2t7hi0tvni"
            },
            "execution_count": 0,
            "outputs": []
        },
        {
            "id": "qetqujjb3tshpr942890r",
            "cell_type": "markdown",
            "source": [
                "📚 **First Step: Importing the Library**\n",
                "\n",
                "Just like getting a new book from the library, we need to tell Python we want to use the string features:"
            ],
            "metadata": {
                "id": "e8nmFMRpnoac",
                "vocVersion": "1.1",
                "cellIdentifier": "qetqujjb3tshpr942890r"
            },
            "execution_count": 0,
            "outputs": []
        },
        {
            "id": "qa9tcp3m9qave95uf7dpd",
            "cell_type": "code",
            "source": [
                "import string"
            ],
            "metadata": {
                "id": "xp8mu_qFnkp4",
                "vocVersion": "1.1",
                "cellIdentifier": "qa9tcp3m9qave95uf7dpd"
            },
            "execution_count": 0,
            "outputs": []
        },
        {
            "id": "8pzl4g4dy9bjhati7wclkh",
            "cell_type": "markdown",
            "source": [
                "📖 **What's Inside the String Library?**\n",
                "\n",
                "The string library comes with some really useful collections of characters. Let's look at what we have:"
            ],
            "metadata": {
                "id": "3-SnH_2inyZt",
                "vocVersion": "1.1",
                "cellIdentifier": "8pzl4g4dy9bjhati7wclkh"
            },
            "execution_count": 0,
            "outputs": []
        },
        {
            "id": "eoudzyufcvuzt0dt063yf",
            "cell_type": "code",
            "source": [
                "# Let's explore what's in our string library!\n",
                "print(\"🔤 Letters (lowercase):\", string.ascii_lowercase)\n",
                "print(\"🔤 Letters (uppercase):\", string.ascii_uppercase)\n",
                "print(\"🔢 Digits:\", string.digits)\n",
                "print(\"✨ Punctuation:\", string.punctuation)\n",
                "\n",
                "# You can even combine them!\n",
                "print(\"\\n📚 All letters (lower and upper):\", string.ascii_letters)\n",
                "print(\"🎯 Letters and numbers:\", string.ascii_letters + string.digits)"
            ],
            "metadata": {
                "id": "FKcn2wuTnviZ",
                "vocVersion": "1.1",
                "cellIdentifier": "eoudzyufcvuzt0dt063yf"
            },
            "execution_count": 0,
            "outputs": []
        },
        {
            "id": "y36v3iy380rbtxe9cx2h0s",
            "cell_type": "markdown",
            "source": [
                "🎨 **Common String Operations**\n",
                "\n",
                "Let's look at some cool things we can do with strings. Even though these aren't directly from the string library, they're super useful for working with text!"
            ],
            "metadata": {
                "id": "vqM-pV8FoAdc",
                "vocVersion": "1.1",
                "cellIdentifier": "y36v3iy380rbtxe9cx2h0s"
            },
            "execution_count": 0,
            "outputs": []
        },
        {
            "id": "avgwyvflx7jmvmyhj3ugaq",
            "cell_type": "code",
            "source": [
                "# Let's play with some text!\n",
                "message = \"Hello, Python Learner!\"\n",
                "\n",
                "# Making text LOUD or quiet\n",
                "print(\"😮 Shouting:\", message.upper())\n",
                "print(\"🤫 Whispering:\", message.lower())"
            ],
            "metadata": {
                "id": "iQ8yX48Qn4Mh",
                "vocVersion": "1.1",
                "cellIdentifier": "avgwyvflx7jmvmyhj3ugaq"
            },
            "execution_count": 0,
            "outputs": []
        },
        {
            "id": "spwrq2bwl33y35zenbg2g",
            "cell_type": "code",
            "source": [
                "# Finding text\n",
                "print(\"📍 Where is 'Python'?\", message.find('Python'))  # Shows the position where 'Python' starts"
            ],
            "metadata": {
                "id": "FgbTUCYRoEsZ",
                "vocVersion": "1.1",
                "cellIdentifier": "spwrq2bwl33y35zenbg2g"
            },
            "execution_count": 0,
            "outputs": []
        },
        {
            "id": "gex93jns8zp8k31bi4njl",
            "cell_type": "code",
            "source": [
                "# Replacing words\n",
                "print(\"🔄 Replacing words:\", message.replace('Python', 'Amazing'))"
            ],
            "metadata": {
                "id": "Sy5yM4XGoLHg",
                "vocVersion": "1.1",
                "cellIdentifier": "gex93jns8zp8k31bi4njl"
            },
            "execution_count": 0,
            "outputs": []
        },
        {
            "id": "zimo97nsqkek42jj37rv",
            "cell_type": "code",
            "source": [
                "# Checking what's in our text\n",
                "print(\"\\n🔍 Let's check what's in our message:\")\n",
                "print(\"Does it start with 'Hello'?\", message.startswith('Hello'))\n",
                "print(\"Does it end with '!'?\", message.endswith('!'))\n",
                "print(\"Is it all letters?\", message.isalpha())  # False because of spaces and punctuation"
            ],
            "metadata": {
                "id": "ujEJhAWLoMPg",
                "vocVersion": "1.1",
                "cellIdentifier": "zimo97nsqkek42jj37rv"
            },
            "execution_count": 0,
            "outputs": []
        },
        {
            "id": "knqhjpjtllrxt41hoy7w5j",
            "cell_type": "markdown",
            "source": [
                "🎮 **Let's Build Something Fun: Password Checker!**\n",
                "\n",
                "Let's create a program that checks if a password is strong enough. We'll use the string library to help us check what kinds of characters are in the password."
            ],
            "metadata": {
                "id": "dGXnR5_uoh6u",
                "vocVersion": "1.1",
                "cellIdentifier": "knqhjpjtllrxt41hoy7w5j"
            },
            "execution_count": 0,
            "outputs": []
        },
        {
            "id": "xqnxmc8xb6tckv6ztm4l",
            "cell_type": "code",
            "source": [
                "# Function to check password\n",
                "def check_password(password):\n",
                "    # Check for minimum length\n",
                "    if len(password) < 8:\n",
                "        return \"Password must be at least 8 characters long.\"\n",
                "\n",
                "    # Check if password contains at least one number\n",
                "    has_number = False\n",
                "    for char in password:\n",
                "        if char.isdigit():\n",
                "            has_number = True\n",
                "    if not has_number:\n",
                "        return \"Password must contain at least one number.\"\n",
                "\n",
                "    # Check if password contains at least one uppercase letter\n",
                "    has_upper = False\n",
                "    for char in password:\n",
                "        if char.isupper():\n",
                "            has_upper = True\n",
                "    if not has_upper:\n",
                "        return \"Password must contain at least one uppercase letter.\"\n",
                "\n",
                "    # Check if password contains at least one lowercase letter\n",
                "    has_lower = False\n",
                "    for char in password:\n",
                "        if char.islower():\n",
                "            has_lower = True\n",
                "    if not has_lower:\n",
                "        return \"Password must contain at least one lowercase letter.\"\n",
                "\n",
                "    # Check if password contains at least one special character\n",
                "    special_characters = \"!@#$%^&*()-_=+[]{};:'\\\",.<>?/|\\\\\"\n",
                "    has_special = False\n",
                "    for char in password:\n",
                "        if char in special_characters:\n",
                "            has_special = True\n",
                "    if not has_special:\n",
                "        return \"Password must contain at least one special character.\"\n",
                "\n",
                "    # If all checks pass\n",
                "    return \"Password is strong!\"\n",
                ""
            ],
            "metadata": {
                "id": "u8F6DZGEokJI",
                "vocVersion": "1.1",
                "cellIdentifier": "xqnxmc8xb6tckv6ztm4l"
            },
            "execution_count": 0,
            "outputs": []
        },
        {
            "id": "qxaqr1i6ceectqve0hnvvu",
            "cell_type": "code",
            "source": [
                "# Let's test some passwords\n",
                "test_passwords = [\"password123\", \"Password123\", \"hi\", \"SuperSecure2024!\"]\n",
                "for pwd in test_passwords:\n",
                "    print(f\"Testing password: {pwd}\")\n",
                "    result = check_password(pwd)  # Capture the returned result\n",
                "    print(result)  # Print the result\n",
                "    print(\"\\n\" + \"=\" * 40 + \"\\n\")\n",
                ""
            ],
            "metadata": {
                "id": "LqPa_vHzoptM",
                "vocVersion": "1.1",
                "cellIdentifier": "qxaqr1i6ceectqve0hnvvu"
            },
            "execution_count": 0,
            "outputs": []
        },
        {
            "id": "ukkwzxsaraonaq0uprf1",
            "cell_type": "markdown",
            "source": [
                "✏️ **Task 5: Working with the `string` Library**\n",
                "\n",
                "1. Import the `string` library in Python.  \n",
                "2. Use `string.ascii_lowercase` to print all the lowercase letters of the English alphabet.  \n",
                "3. Use `string.ascii_uppercase` to print all the uppercase letters.  \n",
                "4. Use `string.digits` to print all the digits from 0 to 9.  \n",
                "5. Combine `string.punctuation` with a custom string to create a password-like random string.\n",
                ""
            ],
            "metadata": {
                "id": "CwXRSKPwANXe",
                "vocVersion": "1.1",
                "cellIdentifier": "ukkwzxsaraonaq0uprf1"
            },
            "execution_count": 0,
            "outputs": []
        },
        {
            "id": "8vxgb1jqh3mh7ez00z07wu",
            "cell_type": "code",
            "source": [
                "# Do not change these three lines\n",
                "import random\n",
                "password = \"\"\n",
                "random.seed(10)\n",
                "\n",
                "### BEGIN SOLUTION\n",
                "import string\n",
                "# Print all lowercase letters\n",
                "print(string.ascii_lowercase)\n",
                "\n",
                "# Print all uppercase letters\n",
                "print(string.ascii_uppercase)\n",
                "\n",
                "# Print all digits from 0 to 9\n",
                "print(string.digits)\n",
                "\n",
                "# Create a password-like random string\n",
                "password = ''.join(random.choices(string.ascii_letters + string.digits + string.punctuation, k=10))\n",
                "print(password)\n",
                "### END SOLUTION"
            ],
            "metadata": {
                "id": "IrGLjEVRAW_s",
                "colab": {
                    "base_uri": "https://localhost:8080/"
                },
                "executionInfo": {
                    "status": "ok",
                    "timestamp": 1741753419133,
                    "user_tz": -120,
                    "elapsed": 3,
                    "user": {
                        "displayName": "Islam Zidan",
                        "userId": "17227307713370715205"
                    }
                },
                "outputId": "5ad2f3f3-8259-4c61-9778-35e40b6109f1",
                "vocVersion": "1.1",
                "cellIdentifier": "8vxgb1jqh3mh7ez00z07wu",
                "nbgrader": {
                    "grade": false,
                    "locked": false,
                    "solution": true
                }
            },
            "execution_count": 3,
            "outputs": [
                {
                    "output_type": "stream",
                    "name": "stdout",
                    "text": [
                        "abcdefghijklmnopqrstuvwxyz\n",
                        "ABCDEFGHIJKLMNOPQRSTUVWXYZ\n",
                        "0123456789\n",
                        "1O2t/:9pWE\n"
                    ]
                }
            ]
        },
        {
            "id": "jkxgryrtezspwzcox9s2",
            "cell_type": "code",
            "source": [
                "### BEGIN HIDDEN TESTS\n",
                "import random\n",
                "import string\n",
                "\n",
                "# Ensure the 'password' variable is defined\n",
                "assert 'password' in globals(), \"❌ The 'password' variable is not defined.\"\n",
                "\n",
                "# Ensure 'password' is a string and has 10 characters\n",
                "assert isinstance(password, str), \"❌ 'password' must be a string.\"\n",
                "assert len(password) == 10, f\"❌ 'password' must have exactly 10 characters, but got {len(password)}.\"\n",
                "\n",
                "# Compute the expected password using the same seed logic\n",
                "random.seed(10)\n",
                "expected_password = ''.join(random.choices(string.ascii_letters + string.digits + string.punctuation, k=10))\n",
                "\n",
                "# Check if the student's generated password matches the expected one\n",
                "assert password == expected_password, f\"❌ Expected password '{expected_password}', but got '{password}'.\"\n",
                "\n",
                "print(\"✅ The password is correct and matches the expected output.\")\n",
                "\n",
                "\n",
                "### END HIDDEN TESTS"
            ],
            "metadata": {
                "colab": {
                    "base_uri": "https://localhost:8080/"
                },
                "id": "gTnEW1QDWSaQ",
                "executionInfo": {
                    "status": "ok",
                    "timestamp": 1741654425572,
                    "user_tz": -120,
                    "elapsed": 93,
                    "user": {
                        "displayName": "Islam Zidan",
                        "userId": "17227307713370715205"
                    }
                },
                "outputId": "0a0276fc-4b38-4899-cc76-7d03f39ccf7d",
                "vocVersion": "1.1",
                "cellIdentifier": "jkxgryrtezspwzcox9s2",
                "nbgrader": {
                    "grade": true,
                    "locked": true,
                    "solution": false,
                    "grade_id": "Task 5",
                    "points": "5"
                }
            },
            "execution_count": 0,
            "outputs": [
                {
                    "output_type": "stream",
                    "name": "stdout",
                    "text": [
                        "✅ The password is correct and matches the expected output.\n"
                    ]
                }
            ]
        },
        {
            "id": "dmadp6lw0hz5qx8wr5oa",
            "cell_type": "markdown",
            "source": [
                "## 🐢 The ColabTurtle Library: Draw with Python!\n",
                "\n",
                "Ever wanted to create art using code? ColabTurtle lets you control a virtual turtle that draws whatever you tell it! Think of it like controlling a robot with a pen attached to it."
            ],
            "metadata": {
                "id": "CddZcLcF-mXj",
                "vocVersion": "1.1",
                "cellIdentifier": "dmadp6lw0hz5qx8wr5oa"
            },
            "execution_count": 0,
            "outputs": []
        },
        {
            "id": "5tqeihqmwk5xarzaq4138",
            "cell_type": "markdown",
            "source": [
                "**📚 First Steps: Setting Up ColabTurtle**\n",
                "\n",
                "Before we start creating games, we need to install and import ColabTurtle."
            ],
            "metadata": {
                "id": "XkG5OJE--rQa",
                "vocVersion": "1.1",
                "cellIdentifier": "5tqeihqmwk5xarzaq4138"
            },
            "execution_count": 0,
            "outputs": []
        },
        {
            "id": "qejwe6tvpoqp1508y7cln",
            "cell_type": "code",
            "source": [
                "!pip install ColabTurtle"
            ],
            "metadata": {
                "id": "BOD37xacoqPR",
                "colab": {
                    "base_uri": "https://localhost:8080/"
                },
                "executionInfo": {
                    "status": "ok",
                    "timestamp": 1733834887793,
                    "user_tz": 300,
                    "elapsed": 7498,
                    "user": {
                        "displayName": "Nathan Mishra Linger",
                        "userId": "03312878671848467890"
                    }
                },
                "outputId": "beece0e4-5d54-44c7-87e5-01e8818efc7b",
                "vocVersion": "1.1",
                "cellIdentifier": "qejwe6tvpoqp1508y7cln"
            },
            "execution_count": 0,
            "outputs": [
                {
                    "output_type": "stream",
                    "name": "stdout",
                    "text": [
                        "Collecting ColabTurtle\n",
                        "  Downloading ColabTurtle-2.1.0.tar.gz (6.8 kB)\n",
                        "  Preparing metadata (setup.py) ... \u001b[?25l\u001b[?25hdone\n",
                        "Building wheels for collected packages: ColabTurtle\n",
                        "  Building wheel for ColabTurtle (setup.py) ... \u001b[?25l\u001b[?25hdone\n",
                        "  Created wheel for ColabTurtle: filename=ColabTurtle-2.1.0-py3-none-any.whl size=7642 sha256=e7ae20b721d160be9a0fc66b3421d8e499a04ad798c83bbd99aa4e37610d2080\n",
                        "  Stored in directory: /root/.cache/pip/wheels/5b/86/e8/54f5c8c853606e3a3060bb2e60363cbed632374a12e0f33ffc\n",
                        "Successfully built ColabTurtle\n",
                        "Installing collected packages: ColabTurtle\n",
                        "Successfully installed ColabTurtle-2.1.0\n"
                    ]
                }
            ]
        },
        {
            "id": "t1jo9dued3so6ei90utt",
            "cell_type": "code",
            "source": [
                "import ColabTurtle.Turtle as turtle\n",
                "\n",
                "# This makes our turtle appear\n",
                "turtle.initializeTurtle()"
            ],
            "metadata": {
                "id": "N5O2hZXD-zvl",
                "colab": {
                    "base_uri": "https://localhost:8080/",
                    "height": 521
                },
                "executionInfo": {
                    "status": "ok",
                    "timestamp": 1733834888654,
                    "user_tz": 300,
                    "elapsed": 29,
                    "user": {
                        "displayName": "Nathan Mishra Linger",
                        "userId": "03312878671848467890"
                    }
                },
                "outputId": "b5d3f8b0-76e2-4595-f4e3-52e9821458a2",
                "vocVersion": "1.1",
                "cellIdentifier": "t1jo9dued3so6ei90utt"
            },
            "execution_count": 0,
            "outputs": [
                {
                    "output_type": "display_data",
                    "data": {
                        "text/plain": [
                            "<IPython.core.display.HTML object>"
                        ],
                        "text/html": [
                            "\n",
                            "      <svg width=\"800\" height=\"500\">\n",
                            "        <rect width=\"100%\" height=\"100%\" fill=\"black\"/>\n",
                            "        \n",
                            "        <g visibility=visible transform=\"rotate(360,400,250) translate(382, 232)\">\n",
                            "<path style=\" stroke:none;fill-rule:evenodd;fill:white;fill-opacity:1;\" d=\"M 18.214844 0.632812 C 16.109375 1.800781 15.011719 4.074219 15.074219 7.132812 L 15.085938 7.652344 L 14.785156 7.496094 C 13.476562 6.824219 11.957031 6.671875 10.40625 7.066406 C 8.46875 7.550781 6.515625 9.15625 4.394531 11.992188 C 3.0625 13.777344 2.679688 14.636719 3.042969 15.027344 L 3.15625 15.152344 L 3.519531 15.152344 C 4.238281 15.152344 4.828125 14.886719 8.1875 13.039062 C 9.386719 12.378906 10.371094 11.839844 10.378906 11.839844 C 10.386719 11.839844 10.355469 11.929688 10.304688 12.035156 C 9.832031 13.09375 9.257812 14.820312 8.96875 16.078125 C 7.914062 20.652344 8.617188 24.53125 11.070312 27.660156 C 11.351562 28.015625 11.363281 27.914062 10.972656 28.382812 C 8.925781 30.84375 7.945312 33.28125 8.238281 35.1875 C 8.289062 35.527344 8.28125 35.523438 8.917969 35.523438 C 10.941406 35.523438 13.074219 34.207031 15.136719 31.6875 C 15.359375 31.417969 15.328125 31.425781 15.5625 31.574219 C 16.292969 32.042969 18.023438 32.964844 18.175781 32.964844 C 18.335938 32.964844 19.941406 32.210938 20.828125 31.71875 C 20.996094 31.625 21.136719 31.554688 21.136719 31.558594 C 21.203125 31.664062 21.898438 32.414062 22.222656 32.730469 C 23.835938 34.300781 25.5625 35.132812 27.582031 35.300781 C 27.90625 35.328125 27.9375 35.308594 28.007812 34.984375 C 28.382812 33.242188 27.625 30.925781 25.863281 28.425781 L 25.542969 27.96875 L 25.699219 27.785156 C 28.945312 23.960938 29.132812 18.699219 26.257812 11.96875 L 26.207031 11.84375 L 27.945312 12.703125 C 31.53125 14.476562 32.316406 14.800781 33.03125 14.800781 C 33.976562 14.800781 33.78125 13.9375 32.472656 12.292969 C 28.519531 7.355469 25.394531 5.925781 21.921875 7.472656 L 21.558594 7.636719 L 21.578125 7.542969 C 21.699219 6.992188 21.761719 5.742188 21.699219 5.164062 C 21.496094 3.296875 20.664062 1.964844 19.003906 0.855469 C 18.480469 0.503906 18.457031 0.5 18.214844 0.632812\"/>\n",
                            "</g>\n",
                            "      </svg>\n",
                            "    "
                        ]
                    },
                    "metadata": {}
                }
            ]
        },
        {
            "id": "ec3svqofkg11u0u2m0rhyr",
            "cell_type": "markdown",
            "source": [
                "**🚶‍♂️ Basic Turtle Commands**\n",
                "\n",
                "Here are the main things our turtle can do:"
            ],
            "metadata": {
                "id": "Gn2F66vW_VMm",
                "vocVersion": "1.1",
                "cellIdentifier": "ec3svqofkg11u0u2m0rhyr"
            },
            "execution_count": 0,
            "outputs": []
        },
        {
            "id": "ntt28nulctbtxxlvra6mv",
            "cell_type": "code",
            "source": [
                "# Move forward 100 steps\n",
                "turtle.forward(100)\n",
                "\n",
                "# Turn right 90 degrees\n",
                "turtle.right(90)\n",
                "\n",
                "# Move forward again\n",
                "turtle.forward(100)"
            ],
            "metadata": {
                "id": "d-TX5H7J_Tgl",
                "vocVersion": "1.1",
                "cellIdentifier": "ntt28nulctbtxxlvra6mv"
            },
            "execution_count": 0,
            "outputs": []
        },
        {
            "id": "lh29ordpj5sxjwqv1nonls",
            "cell_type": "markdown",
            "source": [
                "**🎯 Let's Draw Our First Shape: A Square!**"
            ],
            "metadata": {
                "id": "0FgHgatvAl2Y",
                "vocVersion": "1.1",
                "cellIdentifier": "lh29ordpj5sxjwqv1nonls"
            },
            "execution_count": 0,
            "outputs": []
        },
        {
            "id": "89p6m69xbkl1lf7b5t47cp",
            "cell_type": "code",
            "source": [
                "# Clear any previous drawings\n",
                "turtle.initializeTurtle()\n",
                "\n",
                "# Draw a square\n",
                "for i in range(4):\n",
                "    turtle.forward(100)  # Move forward\n",
                "    turtle.right(90)     # Turn right 90 degrees"
            ],
            "metadata": {
                "id": "gAcjQ42j_bPt",
                "vocVersion": "1.1",
                "cellIdentifier": "89p6m69xbkl1lf7b5t47cp"
            },
            "execution_count": 0,
            "outputs": []
        },
        {
            "id": "cgj74650hpen84cdgymrg",
            "cell_type": "markdown",
            "source": [
                "🌈 **Adding Some Color!**\n",
                "\n",
                "Let's make our drawings more colorful:"
            ],
            "metadata": {
                "id": "5s7GlP4NAvvf",
                "vocVersion": "1.1",
                "cellIdentifier": "cgj74650hpen84cdgymrg"
            },
            "execution_count": 0,
            "outputs": []
        },
        {
            "id": "6ca791of7z3uy4lf1f5q4f",
            "cell_type": "code",
            "source": [
                "# Clear any previous drawings\n",
                "turtle.initializeTurtle()\n",
                "\n",
                "# Available colors: red, green, blue, yellow, orange, purple, pink, brown\n",
                "turtle.color(\"red\")\n",
                "\n",
                "# Draw a colorful triangle\n",
                "for i in range(3):\n",
                "    turtle.forward(100)\n",
                "    turtle.right(120)"
            ],
            "metadata": {
                "id": "SflSqQdVApl-",
                "vocVersion": "1.1",
                "cellIdentifier": "6ca791of7z3uy4lf1f5q4f"
            },
            "execution_count": 0,
            "outputs": []
        },
        {
            "id": "dwjj67yd049wprz22qjkz",
            "cell_type": "markdown",
            "source": [
                "**🎮 Fun Practice: Draw Your Initial!**\n",
                "\n",
                "Let's try drawing the first letter of your name. Here's how to draw a 'T':"
            ],
            "metadata": {
                "id": "NcaK5fOEA-PR",
                "vocVersion": "1.1",
                "cellIdentifier": "dwjj67yd049wprz22qjkz"
            },
            "execution_count": 0,
            "outputs": []
        },
        {
            "id": "9qbt8vh2mroayan4mhlbcc",
            "cell_type": "code",
            "source": [
                "turtle.initializeTurtle()\n",
                "turtle.color(\"blue\")\n",
                "\n",
                "# Start by orienting the turtle left for the horizontal part of the T\n",
                "turtle.left(90)  # Turn the turtle to face left\n",
                "\n",
                "# Draw the horizontal line of the T\n",
                "turtle.forward(100)  # Move forward to draw the horizontal line\n",
                "turtle.backward(50)  # Move back to the middle of the horizontal line\n",
                "\n",
                "# Prepare to draw the vertical line of the T\n",
                "turtle.right(90)  # Turn the turtle to move downwards for the vertical line\n",
                "turtle.backward(100)  # Draw the downwards side of the vertical line"
            ],
            "metadata": {
                "id": "43bHXqP_AzwY",
                "colab": {
                    "base_uri": "https://localhost:8080/",
                    "height": 521
                },
                "executionInfo": {
                    "status": "ok",
                    "timestamp": 1733834906683,
                    "user_tz": 300,
                    "elapsed": 3379,
                    "user": {
                        "displayName": "Nathan Mishra Linger",
                        "userId": "03312878671848467890"
                    }
                },
                "outputId": "e0895ba2-342b-4669-b6c2-10cb65d409a2",
                "vocVersion": "1.1",
                "cellIdentifier": "9qbt8vh2mroayan4mhlbcc"
            },
            "execution_count": 0,
            "outputs": [
                {
                    "output_type": "display_data",
                    "data": {
                        "text/plain": [
                            "<IPython.core.display.HTML object>"
                        ],
                        "text/html": [
                            "\n",
                            "      <svg width=\"800\" height=\"500\">\n",
                            "        <rect width=\"100%\" height=\"100%\" fill=\"black\"/>\n",
                            "        <line x1=\"400\" y1=\"250\" x2=\"300.0\" y2=\"250.0\" stroke-linecap=\"round\" style=\"stroke:blue;stroke-width:4\"/><line x1=\"300.0\" y1=\"250.0\" x2=\"350.0\" y2=\"250.0\" stroke-linecap=\"round\" style=\"stroke:blue;stroke-width:4\"/><line x1=\"350.0\" y1=\"250.0\" x2=\"350.0\" y2=\"350.0\" stroke-linecap=\"round\" style=\"stroke:blue;stroke-width:4\"/>\n",
                            "        <g visibility=visible transform=\"rotate(360,350.0,350.0) translate(332.0, 332.0)\">\n",
                            "<path style=\" stroke:none;fill-rule:evenodd;fill:blue;fill-opacity:1;\" d=\"M 18.214844 0.632812 C 16.109375 1.800781 15.011719 4.074219 15.074219 7.132812 L 15.085938 7.652344 L 14.785156 7.496094 C 13.476562 6.824219 11.957031 6.671875 10.40625 7.066406 C 8.46875 7.550781 6.515625 9.15625 4.394531 11.992188 C 3.0625 13.777344 2.679688 14.636719 3.042969 15.027344 L 3.15625 15.152344 L 3.519531 15.152344 C 4.238281 15.152344 4.828125 14.886719 8.1875 13.039062 C 9.386719 12.378906 10.371094 11.839844 10.378906 11.839844 C 10.386719 11.839844 10.355469 11.929688 10.304688 12.035156 C 9.832031 13.09375 9.257812 14.820312 8.96875 16.078125 C 7.914062 20.652344 8.617188 24.53125 11.070312 27.660156 C 11.351562 28.015625 11.363281 27.914062 10.972656 28.382812 C 8.925781 30.84375 7.945312 33.28125 8.238281 35.1875 C 8.289062 35.527344 8.28125 35.523438 8.917969 35.523438 C 10.941406 35.523438 13.074219 34.207031 15.136719 31.6875 C 15.359375 31.417969 15.328125 31.425781 15.5625 31.574219 C 16.292969 32.042969 18.023438 32.964844 18.175781 32.964844 C 18.335938 32.964844 19.941406 32.210938 20.828125 31.71875 C 20.996094 31.625 21.136719 31.554688 21.136719 31.558594 C 21.203125 31.664062 21.898438 32.414062 22.222656 32.730469 C 23.835938 34.300781 25.5625 35.132812 27.582031 35.300781 C 27.90625 35.328125 27.9375 35.308594 28.007812 34.984375 C 28.382812 33.242188 27.625 30.925781 25.863281 28.425781 L 25.542969 27.96875 L 25.699219 27.785156 C 28.945312 23.960938 29.132812 18.699219 26.257812 11.96875 L 26.207031 11.84375 L 27.945312 12.703125 C 31.53125 14.476562 32.316406 14.800781 33.03125 14.800781 C 33.976562 14.800781 33.78125 13.9375 32.472656 12.292969 C 28.519531 7.355469 25.394531 5.925781 21.921875 7.472656 L 21.558594 7.636719 L 21.578125 7.542969 C 21.699219 6.992188 21.761719 5.742188 21.699219 5.164062 C 21.496094 3.296875 20.664062 1.964844 19.003906 0.855469 C 18.480469 0.503906 18.457031 0.5 18.214844 0.632812\"/>\n",
                            "</g>\n",
                            "      </svg>\n",
                            "    "
                        ]
                    },
                    "metadata": {}
                }
            ]
        },
        {
            "id": "0s9gitl4erofnq2mljg583s",
            "cell_type": "markdown",
            "source": [
                "✏️ **Task 6: Draw a House with the Turtle Library**\n",
                "\n",
                "**Step-by-Step Plan**:\n",
                "   - Start by drawing a square:\n",
                "     - Move the turtle forward for one side of the square.\n",
                "     - Turn 90 degrees and repeat until the square is complete.\n",
                "   - Move the turtle to the top of the square.\n",
                "   - Draw the roof (triangle) on top of the square:\n",
                "     - Use `forward` and `left` or `right` to draw the triangle.\n",
                "\n",
                "\n",
                "**Challenge Yourself!**  \n",
                "   - Add a **door** or **windows** to your house using smaller squares or rectangles.  \n",
                "   - Experiment with colors for each part of your house using `Turtle.color()`.  \n",
                "   - Use `Turtle.goto(x, y)` to position your turtle for additional details.\n",
                ""
            ],
            "metadata": {
                "id": "fr3z_gHcB-V6",
                "vocVersion": "1.1",
                "cellIdentifier": "0s9gitl4erofnq2mljg583s"
            },
            "execution_count": 0,
            "outputs": []
        },
        {
            "id": "ym7g34ury4g0w08gcnxp9g8",
            "cell_type": "code",
            "source": [
                "### BEGIN SOLUTION\n",
                "turtle.initializeTurtle()\n",
                "\n",
                "# Draw a square\n",
                "for i in range(4):\n",
                "    turtle.forward(100)  # Move forward\n",
                "    turtle.right(90)     # Turn right 90 degrees\n",
                "\n",
                "turtle.forward(100)\n",
                "\n",
                "turtle.right(30)\n",
                "turtle.forward(100)\n",
                "\n",
                "turtle.right(120)\n",
                "turtle.forward(100)\n",
                "### END SOLUTION"
            ],
            "metadata": {
                "id": "3NqKTdzsBCBg",
                "vocVersion": "1.1",
                "cellIdentifier": "ym7g34ury4g0w08gcnxp9g8",
                "nbgrader": {
                    "grade": true,
                    "locked": false,
                    "solution": true,
                    "grade_id": "Task 6",
                    "points": "5"
                }
            },
            "execution_count": 0,
            "outputs": []
        }
    ]
}