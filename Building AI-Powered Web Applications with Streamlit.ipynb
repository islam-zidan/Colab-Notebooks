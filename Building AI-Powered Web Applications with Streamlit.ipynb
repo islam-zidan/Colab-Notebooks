{
    "nbformat": 4,
    "nbformat_minor": 0,
    "metadata": {
        "colab": {
            "provenance": []
        },
        "kernelspec": {
            "name": "python3",
            "display_name": "Python 3"
        },
        "language_info": {
            "name": "python"
        },
        "kernel_id": "df9bb407-d1f9-4881-b85f-6937d3e56fe0"
    },
    "cells": [
        {
            "id": "kihbbh1tx1umhcdfiwn6",
            "cell_type": "markdown",
            "source": [
                "![image.png](data:image/png;base64,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)"
            ],
            "metadata": {
                "id": "TLe-5DTKrsZU",
                "vocVersion": "1.1",
                "cellIdentifier": "kihbbh1tx1umhcdfiwn6"
            },
            "execution_count": 0,
            "outputs": []
        },
        {
            "id": "o63tt2vrq4bxxum6gyhvhq",
            "cell_type": "markdown",
            "source": [
                "# Building AI-Powered Web Applications with Streamlit\n",
                "\n",
                "## Introduction\n",
                "Imagine you're a product manager at a tech startup, and your team has just discovered an amazing collection of AI models that could revolutionize how users interact with your products. The challenge? These powerful AI capabilities are trapped in complex code that regular users can't access. Your mission is to build user-friendly web applications that make these AI capabilities accessible to everyone.\n",
                "\n",
                "In our previous lesson, we explored the vast possibilities of Hugging Face's transformers library, discovering how AI models can:\n",
                "- Analyze sentiment in text.\n",
                "- Answer questions about complex topics.\n",
                "- Generate creative writing.\n",
                "- Translate between languages.\n",
                "- Summarize long documents.\n",
                "- Complete unfinished text.\n",
                "\n",
                "Today, we'll learn how to transform these AI capabilities into interactive web applications that anyone can use, regardless of their technical expertise.\n",
                "\n",
                "## Learning Objectives\n",
                "By the end of this lesson, you will be able to:\n",
                "1. Set up a secure development environment using ngrok and Streamlit.\n",
                "2. Create interactive web interfaces for AI models.\n",
                "3. Design user-friendly input mechanisms for AI applications.\n",
                "4. Display AI results in an engaging and intuitive way.\n",
                "5. Deploy a fully functional AI-powered web application."
            ],
            "metadata": {
                "id": "BEPt9N64hdrz",
                "vocVersion": "1.1",
                "cellIdentifier": "o63tt2vrq4bxxum6gyhvhq"
            },
            "execution_count": 0,
            "outputs": []
        },
        {
            "id": "piqgt8vd04hgakzhb5nzl5",
            "cell_type": "markdown",
            "source": [
                "### 📦 Let's Get Our Tools Ready!\n",
                ""
            ],
            "metadata": {
                "id": "naFimnmBC77P",
                "vocVersion": "1.1",
                "cellIdentifier": "piqgt8vd04hgakzhb5nzl5"
            },
            "execution_count": 0,
            "outputs": []
        },
        {
            "id": "92unfcl31ebhp3xzzpib",
            "cell_type": "code",
            "source": [
                "import sys\n",
                "\n",
                "!{sys.executable} -m pip install streamlit pyngrok --quiet"
            ],
            "metadata": {
                "id": "p_YU80pDxUlY",
                "executionInfo": {
                    "status": "ok",
                    "timestamp": 1742101421360,
                    "user_tz": -120,
                    "elapsed": 18345,
                    "user": {
                        "displayName": "Islam Zidan",
                        "userId": "17227307713370715205"
                    }
                },
                "colab": {
                    "base_uri": "https://localhost:8080/"
                },
                "outputId": "26e206b0-7c81-4933-e397-323db6f5b1f6",
                "vocVersion": "1.1",
                "cellIdentifier": "92unfcl31ebhp3xzzpib"
            },
            "execution_count": 1,
            "outputs": [
                {
                    "output_type": "stream",
                    "name": "stdout",
                    "text": [
                        "\u001b[2K     \u001b[90m━━━━━━━━━━━━━━━━━━━━━━━━━━━━━━━━━━━━━━━━\u001b[0m \u001b[32m44.3/44.3 kB\u001b[0m \u001b[31m1.3 MB/s\u001b[0m eta \u001b[36m0:00:00\u001b[0m\n",
                        "\u001b[2K   \u001b[90m━━━━━━━━━━━━━━━━━━━━━━━━━━━━━━━━━━━━━━━━\u001b[0m \u001b[32m9.7/9.7 MB\u001b[0m \u001b[31m30.9 MB/s\u001b[0m eta \u001b[36m0:00:00\u001b[0m\n",
                        "\u001b[2K   \u001b[90m━━━━━━━━━━━━━━━━━━━━━━━━━━━━━━━━━━━━━━━━\u001b[0m \u001b[32m6.9/6.9 MB\u001b[0m \u001b[31m38.4 MB/s\u001b[0m eta \u001b[36m0:00:00\u001b[0m\n",
                        "\u001b[2K   \u001b[90m━━━━━━━━━━━━━━━━━━━━━━━━━━━━━━━━━━━━━━━━\u001b[0m \u001b[32m79.1/79.1 kB\u001b[0m \u001b[31m3.7 MB/s\u001b[0m eta \u001b[36m0:00:00\u001b[0m\n",
                        "\u001b[?25h"
                    ]
                }
            ]
        },
        {
            "id": "0dib5xjp2z5m6dny6tamgy2",
            "cell_type": "markdown",
            "source": [
                "Now let's tell Python about your ngrok key:"
            ],
            "metadata": {
                "id": "YNBpFOpnyS3g",
                "vocVersion": "1.1",
                "cellIdentifier": "0dib5xjp2z5m6dny6tamgy2"
            },
            "execution_count": 0,
            "outputs": []
        },
        {
            "id": "p2qmhhr8bidxz70t3iuml",
            "cell_type": "markdown",
            "source": [
                "**Save Your Key Using the Secrets Icon**  \n",
                "   - In the left-hand sidebar of your environment, look for the **secrets icon** (key icon).  \n",
                "   - Click on it and add a new secret with the key name `NGROK_AUTH_TOKEN`.  \n",
                "   - Paste your authtoken as the value and save it securely.\n",
                "\n",
                ""
            ],
            "metadata": {
                "id": "Bdh0cAvHiqAl",
                "vocVersion": "1.1",
                "cellIdentifier": "p2qmhhr8bidxz70t3iuml"
            },
            "execution_count": 0,
            "outputs": []
        },
        {
            "id": "t1rzxbp4nzb84rvz6s4ukr",
            "cell_type": "code",
            "source": [
                "from pyngrok import ngrok\n",
                "from google.colab import userdata\n",
                "import os\n",
                "\n",
                "# Update the Secrets section in the left sidebar with the token you copied\n",
                "ngrok.set_auth_token(userdata.get('NGROK_AUTH_TOKEN'))"
            ],
            "metadata": {
                "id": "9WbIls1byVGw",
                "executionInfo": {
                    "status": "ok",
                    "timestamp": 1742101565667,
                    "user_tz": -120,
                    "elapsed": 601,
                    "user": {
                        "displayName": "Islam Zidan",
                        "userId": "17227307713370715205"
                    }
                },
                "vocVersion": "1.1",
                "cellIdentifier": "t1rzxbp4nzb84rvz6s4ukr"
            },
            "execution_count": 7,
            "outputs": []
        },
        {
            "id": "0ekz0w8qemrntk9aybbelmd",
            "cell_type": "markdown",
            "source": [
                "Run the following code below to initialize the run_streamlit function:"
            ],
            "metadata": {
                "id": "kn1-yAUVcPSS",
                "vocVersion": "1.1",
                "cellIdentifier": "0ekz0w8qemrntk9aybbelmd"
            },
            "execution_count": 0,
            "outputs": []
        },
        {
            "id": "6xugjbcqvjsucq1g2aph6",
            "cell_type": "code",
            "source": [
                "def run_streamlit():\n",
                "    # Kill any running Streamlit instances\n",
                "    !killall ngrok\n",
                "    os.system(\"fuser -k 8501/tcp\")\n",
                "\n",
                "    # Run the Streamlit app\n",
                "    os.system(\"streamlit run app.py &>/dev/null&\")\n",
                "\n",
                "    # Create a new ngrok tunnel\n",
                "    public_url = ngrok.connect(8501)\n",
                "    print(f\"🌟 Your Streamlit app is running at: {public_url.public_url}\")\n",
                "    return public_url.public_url"
            ],
            "metadata": {
                "id": "b1OnkVlV88vP",
                "executionInfo": {
                    "status": "ok",
                    "timestamp": 1742101435428,
                    "user_tz": -120,
                    "elapsed": 14,
                    "user": {
                        "displayName": "Islam Zidan",
                        "userId": "17227307713370715205"
                    }
                },
                "vocVersion": "1.1",
                "cellIdentifier": "6xugjbcqvjsucq1g2aph6"
            },
            "execution_count": 3,
            "outputs": []
        },
        {
            "id": "zi7ftferxzij7am4qttl",
            "cell_type": "markdown",
            "source": [
                "# Building Your First AI Web App with Streamlit!\n",
                "\n",
                "Now that we know how to use AI models from Hugging Face, let's create a simple website where anyone can analyze the mood of their text!\n",
                "\n",
                "### 🤖 Setting Up Our AI Model\n",
                "\n",
                "First, let's create our app.py with the basic imports and AI setup:"
            ],
            "metadata": {
                "id": "KO2TKl53_q9f",
                "vocVersion": "1.1",
                "cellIdentifier": "zi7ftferxzij7am4qttl"
            },
            "execution_count": 0,
            "outputs": []
        },
        {
            "id": "d0mzpscfx389c54fu4unwn",
            "cell_type": "code",
            "source": [
                "%%writefile app.py\n",
                "import streamlit as st\n",
                "from transformers import pipeline\n",
                "\n",
                "# Create our AI mood detector\n",
                "mood_detector = pipeline(\"sentiment-analysis\")\n",
                "\n",
                "# Add a title to our app\n",
                "st.title(\"✨ AI Mood Detector ✨\")\n",
                "st.write(\"Write something, and I'll tell you if it's positive or negative!\")\n",
                "\n",
                "# Add a text input box\n",
                "user_text = st.text_input(\"Type your text here:\")"
            ],
            "metadata": {
                "id": "a5yfKa0u_O2_",
                "colab": {
                    "base_uri": "https://localhost:8080/"
                },
                "executionInfo": {
                    "status": "ok",
                    "timestamp": 1742101568916,
                    "user_tz": -120,
                    "elapsed": 7,
                    "user": {
                        "displayName": "Islam Zidan",
                        "userId": "17227307713370715205"
                    }
                },
                "outputId": "07209b04-396a-4fc0-f80b-5ff6c68062cb",
                "vocVersion": "1.1",
                "cellIdentifier": "d0mzpscfx389c54fu4unwn"
            },
            "execution_count": 8,
            "outputs": [
                {
                    "output_type": "stream",
                    "name": "stdout",
                    "text": [
                        "Overwriting app.py\n"
                    ]
                }
            ]
        },
        {
            "id": "xhxw7n7j6lugyyma6pwzf",
            "cell_type": "code",
            "source": [
                "#Un-comment this line and execute the cell to run the app\n",
                "#run_streamlit()"
            ],
            "metadata": {
                "id": "jRXfmF-9_u2q",
                "executionInfo": {
                    "status": "ok",
                    "timestamp": 1742101585630,
                    "user_tz": -120,
                    "elapsed": 16,
                    "user": {
                        "displayName": "Islam Zidan",
                        "userId": "17227307713370715205"
                    }
                },
                "vocVersion": "1.1",
                "cellIdentifier": "xhxw7n7j6lugyyma6pwzf"
            },
            "execution_count": 10,
            "outputs": []
        },
        {
            "id": "9q1eegtwh4olaq00y7zvw",
            "cell_type": "markdown",
            "source": [
                "### 🎯 Adding AI Analysis\n",
                "\n",
                "Time to make our app actually analyze the text!"
            ],
            "metadata": {
                "id": "gwPe0dM1AI3A",
                "vocVersion": "1.1",
                "cellIdentifier": "9q1eegtwh4olaq00y7zvw"
            },
            "execution_count": 0,
            "outputs": []
        },
        {
            "id": "bm49vk33jyfgvq8a66xgl8",
            "cell_type": "code",
            "source": [
                "%%writefile app.py\n",
                "import streamlit as st\n",
                "from transformers import pipeline\n",
                "\n",
                "# Create our AI mood detector\n",
                "mood_detector = pipeline(\"sentiment-analysis\")\n",
                "\n",
                "# Add a title to our app\n",
                "st.title(\"✨ AI Mood Detector ✨\")\n",
                "st.write(\"Write something, and I'll tell you if it's positive or negative!\")\n",
                "\n",
                "# Add a text input box\n",
                "user_text = st.text_input(\"Type your text here:\")\n",
                "\n",
                "# When the user writes something, analyze it\n",
                "if user_text:\n",
                "    # Get AI analysis\n",
                "    result = mood_detector(user_text)\n",
                "\n",
                "    # Get mood and confidence from result\n",
                "    mood = result[0]['label']\n",
                "    confidence = result[0]['score']\n",
                "\n",
                "    # Show the results\n",
                "    st.write(\"### Analysis Results\")\n",
                "    st.write(f\"Mood: {mood}\")\n",
                "    st.write(f\"Confidence: {confidence:.2%}\")"
            ],
            "metadata": {
                "id": "Zzh3Lc35_0aR",
                "colab": {
                    "base_uri": "https://localhost:8080/"
                },
                "executionInfo": {
                    "status": "ok",
                    "timestamp": 1742101589228,
                    "user_tz": -120,
                    "elapsed": 18,
                    "user": {
                        "displayName": "Islam Zidan",
                        "userId": "17227307713370715205"
                    }
                },
                "outputId": "036e6adf-4d0a-4d12-d3c5-5ff46b09ec5a",
                "vocVersion": "1.1",
                "cellIdentifier": "bm49vk33jyfgvq8a66xgl8"
            },
            "execution_count": 11,
            "outputs": [
                {
                    "output_type": "stream",
                    "name": "stdout",
                    "text": [
                        "Overwriting app.py\n"
                    ]
                }
            ]
        },
        {
            "id": "ypbvjwvk0lwt5bzycryp9",
            "cell_type": "code",
            "source": [
                "#Un-comment this line and execute the cell to run the app\n",
                "#run_streamlit()"
            ],
            "metadata": {
                "id": "AvXE1TwAANA5",
                "executionInfo": {
                    "status": "ok",
                    "timestamp": 1742101594685,
                    "user_tz": -120,
                    "elapsed": 3,
                    "user": {
                        "displayName": "Islam Zidan",
                        "userId": "17227307713370715205"
                    }
                },
                "vocVersion": "1.1",
                "cellIdentifier": "ypbvjwvk0lwt5bzycryp9"
            },
            "execution_count": 13,
            "outputs": []
        },
        {
            "id": "kumxxqgoxvp0v9ee3ens65",
            "cell_type": "markdown",
            "source": [
                "### 🎨 Making It Look Better\n",
                "\n",
                "Let's add some fun emojis and colors to make our app more engaging:"
            ],
            "metadata": {
                "id": "UNxf8sbXAVIB",
                "vocVersion": "1.1",
                "cellIdentifier": "kumxxqgoxvp0v9ee3ens65"
            },
            "execution_count": 0,
            "outputs": []
        },
        {
            "id": "qswgnqkr0n9uxy81k4bel",
            "cell_type": "code",
            "source": [
                "%%writefile app.py\n",
                "import streamlit as st\n",
                "from transformers import pipeline\n",
                "\n",
                "# Create our AI mood detector\n",
                "mood_detector = pipeline(\"sentiment-analysis\")\n",
                "\n",
                "# Add a title and a description\n",
                "st.title(\"✨ AI Mood Detector ✨\")\n",
                "st.write(\"Write something, and I'll tell you if it's positive or negative!\")\n",
                "\n",
                "# Add a text input box\n",
                "user_text = st.text_input(\"Type your text here:\")\n",
                "\n",
                "# When the user writes something, analyze it\n",
                "if user_text:\n",
                "    # Get AI analysis\n",
                "    result = mood_detector(user_text)\n",
                "\n",
                "    # Get mood and confidence\n",
                "    mood = result[0]['label']\n",
                "    confidence = result[0]['score']\n",
                "\n",
                "    # Create columns for a better layout\n",
                "    col1, col2 = st.columns(2)\n",
                "\n",
                "    # Show results with emojis\n",
                "    with col1:\n",
                "        st.write(\"### Mood:\")\n",
                "        if mood == \"POSITIVE\":\n",
                "            st.markdown(\"### 😊 POSITIVE\")\n",
                "        else:\n",
                "            st.markdown(\"### 😢 NEGATIVE\")\n",
                "\n",
                "    with col2:\n",
                "        st.write(\"### How sure is AI?\")\n",
                "        # Show confidence as a percentage bar\n",
                "        st.progress(confidence)\n",
                "        st.write(f\"{confidence:.2%} confident\")\n",
                "\n",
                "    # Add a fun message\n",
                "    if confidence > 0.9:\n",
                "        st.write(\"### The AI is VERY sure about this! 🎯\")\n",
                "    elif confidence > 0.6:\n",
                "        st.write(\"### The AI is pretty confident! 👍\")\n",
                "    else:\n",
                "        st.write(\"### This one was tricky for the AI! 🤔\")"
            ],
            "metadata": {
                "id": "IlNC_QqoARAv",
                "colab": {
                    "base_uri": "https://localhost:8080/"
                },
                "executionInfo": {
                    "status": "ok",
                    "timestamp": 1742101597230,
                    "user_tz": -120,
                    "elapsed": 11,
                    "user": {
                        "displayName": "Islam Zidan",
                        "userId": "17227307713370715205"
                    }
                },
                "outputId": "a271f237-2147-4f97-93f0-a1c07a0ce5cd",
                "vocVersion": "1.1",
                "cellIdentifier": "qswgnqkr0n9uxy81k4bel"
            },
            "execution_count": 14,
            "outputs": [
                {
                    "output_type": "stream",
                    "name": "stdout",
                    "text": [
                        "Overwriting app.py\n"
                    ]
                }
            ]
        },
        {
            "id": "185oghlu75brzqlgeq6ps",
            "cell_type": "code",
            "source": [
                "#Un-comment this line and execute the cell to run the app\n",
                "#run_streamlit()"
            ],
            "metadata": {
                "id": "44LfxElJAes3",
                "executionInfo": {
                    "status": "ok",
                    "timestamp": 1742101600950,
                    "user_tz": -120,
                    "elapsed": 8,
                    "user": {
                        "displayName": "Islam Zidan",
                        "userId": "17227307713370715205"
                    }
                },
                "vocVersion": "1.1",
                "cellIdentifier": "185oghlu75brzqlgeq6ps"
            },
            "execution_count": 15,
            "outputs": []
        },
        {
            "id": "rt7v48f15c2xaxjj5h5qg",
            "cell_type": "markdown",
            "source": [
                "# 🚀 Final Project: Build Your Own AI Website!\n",
                "\n",
                "## Your Mission\n",
                "Create your own AI-powered website using Streamlit! You can choose any AI tool we learned about (except sentiment analysis since we already did that). Your website should be creative, useful, and fun to use!\n",
                "\n",
                "## AI Tools You Can Choose From:\n",
                "1. 📚 **Story Generator**\n",
                "   - Make a website where users can input characters and places to create stories.\n",
                "   - Example: \"Adventure Story Creator\", where users input hero name and magical place.\n",
                "\n",
                "2. 🤔 **Question Answerer**\n",
                "   - Create a website where users can ask questions about specific topics.\n",
                "   - Example: \"Space Expert\", which answers questions about astronomy.\n",
                "\n",
                "3. 🌎 **Language Translator**\n",
                "   - Build a website that helps translate between languages.\n",
                "   - Example: \"Travel Translator\", which helps with common travel phrases.\n",
                "\n",
                "4. 📝 **Text Summarizer**\n",
                "   - Make a website that creates summaries of long texts.\n",
                "   - Example: \"Article Shortener\" for summarizing news articles.\n",
                "\n",
                "5. 🎯 **Word Predictor**\n",
                "   - Create a website that predicts missing words in sentences.\n",
                "   - Example: \"Word Game\", where users create fill-in-the-blank challenges.\n",
                "\n",
                "## 🤖 Need Help? Use AI!\n",
                "You can use ChatGPT or Claude to help you build your website! Here's how:\n",
                "\n",
                "1. Tell it what kind of website you want to build.\n",
                "2. Ask it to help you write the code step by step.\n",
                "3. Ask it to explain any parts you don't understand.\n",
                "4. Ask it to help fix any errors you get.\n",
                "\n",
                "Example prompt:\n",
                "```\n",
                "\"I want to create a Streamlit website that translates English to Spanish. Can you:\n",
                "1. Help me write the basic code.\n",
                "2. Show me how to add a nice title and description.\n",
                "3. Help me make it look good with columns and colors.\"\n",
                "```\n",
                "\n",
                "## 📋 Requirements\n",
                "Your website must have:\n",
                "1. A clear title and description.\n",
                "2. At least one user input (text box, button, etc.).\n",
                "3. An AI component (using one of the tools we learned).\n",
                "4. Nice formatting (columns, colors, emojis, etc.).\n",
                "5. Clear instructions for users."
            ],
            "metadata": {
                "id": "XGqih0AUA6F4",
                "vocVersion": "1.1",
                "cellIdentifier": "rt7v48f15c2xaxjj5h5qg"
            },
            "execution_count": 0,
            "outputs": []
        },
        {
            "id": "mupfv3qfdiqsp0cu65cg",
            "cell_type": "markdown",
            "source": [
                "## Example Project Structure:\n",
                "```python\n",
                "import streamlit as st\n",
                "from transformers import pipeline\n",
                "\n",
                "# Set up your AI tool\n",
                "ai_tool = pipeline(\"your-chosen-tool\")\n",
                "\n",
                "# Add a title and a description\n",
                "st.title(\"Your Creative Title\")\n",
                "st.write(\"Explain what your website does\")\n",
                "\n",
                "# Add user inputs\n",
                "user_input = st.text_input(\"Your prompt here\")\n",
                "\n",
                "# Add AI processing\n",
                "if user_input:\n",
                "    # Process with AI\n",
                "    result = ai_tool(user_input)\n",
                "    \n",
                "    # Show results nicely\n",
                "    st.write(\"Results:\")\n",
                "    # Display results in a creative way\n",
                "```\n",
                "\n",
                "\n",
                "## 📬 Submitting Your Project\n",
                "Be ready to share:\n",
                "1. Your code.\n",
                "2. A demonstration of your website working.\n",
                "3. An explanation of why you chose your AI tool.\n",
                "4. What challenges you faced and how you solved them.\n",
                ""
            ],
            "metadata": {
                "id": "qWU534ZuBNQP",
                "vocVersion": "1.1",
                "cellIdentifier": "mupfv3qfdiqsp0cu65cg"
            },
            "execution_count": 0,
            "outputs": []
        }
    ]
}