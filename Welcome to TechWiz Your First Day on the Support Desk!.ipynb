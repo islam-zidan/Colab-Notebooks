{
    "nbformat": 4,
    "nbformat_minor": 0,
    "metadata": {
        "colab": {
            "provenance": [
                {
                    "file_id": "1M1vX7Auu8TOzq8K3GI-ImiWr7VDEMetm",
                    "timestamp": 1732487297022
                }
            ]
        },
        "kernelspec": {
            "name": "python3",
            "display_name": "Python 3"
        },
        "language_info": {
            "name": "python"
        },
        "kernel_id": "061d52ad-f046-4ea6-8b01-a39a26ba14e2"
    },
    "cells": [
        {
            "id": "xsxi2giwgr1xrxw4bo41f",
            "cell_type": "markdown",
            "source": [
                "![image.png](data:image/png;base64,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)"
            ],
            "metadata": {
                "id": "S4tODaq6qIsR",
                "vocVersion": "1.1",
                "cellIdentifier": "xsxi2giwgr1xrxw4bo41f"
            },
            "execution_count": 0,
            "outputs": []
        },
        {
            "id": "ybyh0rl6l7ctm8t424qv79",
            "cell_type": "markdown",
            "source": [
                "# 🖥️ Welcome to TechWiz: Your First Day on the Support Desk!\n",
                "\n",
                "## 📋 The Scenario\n",
                "Welcome to your first day at TechWiz, a rapidly growing software company! You've been hired as a junior support specialist in their IT department. Today, you'll be handling real support tickets while building useful tools to help you work more efficiently.\n",
                "\n",
                "## 🏢 About TechWiz\n",
                "TechWiz provides software solutions to major companies worldwide. Their clients include:\n",
                "- SecureBank (Financial Services)\n",
                "- HealthFlow (Healthcare)\n",
                "- EduTech (Education)\n",
                "- RetailPro (Retail Management)\n",
                "\n",
                "## 👩‍💼 Your Manager\n",
                "Sarah Chen, the IT Support Manager, will guide you through your tasks today.\n",
                "\n",
                "## 💡 What You'll Learn\n",
                "- How to use Python libraries in real-world scenarios.\n",
                "- How to build tools that solve actual problems.\n",
                "- How to handle support tickets efficiently.\n",
                "- How to create a complete support system.\n",
                "\n",
                "Let's get started with your first task!"
            ],
            "metadata": {
                "id": "53sDr6Qny7w-",
                "vocVersion": "1.1",
                "cellIdentifier": "ybyh0rl6l7ctm8t424qv79"
            },
            "execution_count": 0,
            "outputs": []
        },
        {
            "id": "ozvysgm4zuprnmeu16z5d",
            "cell_type": "markdown",
            "source": [
                "# 🎫 Task 1: The Password Generator\n",
                "\n",
                "## 📧 Incoming Message\n",
                "```\n",
                "From: Sarah Chen\n",
                "Subject: Urgent - Password Generator Needed\n",
                "\n",
                "Hi! SecureBank needs a tool that generates secure passwords for new employees.\n",
                "Requirements:\n",
                "- 8 characters long\n",
                "- Mix of letters and numbers\n",
                "- Both uppercase and lowercase\n",
                "\n",
                "Can you help?\n",
                "```\n",
                "\n",
                "\n",
                "## 📝 Scenario\n",
                "SecureBank has reported that their IT team is spending too much time manually creating passwords for new employees. They need an automated solution that creates secure passwords quickly. This is a perfect opportunity to show how Python can automate repetitive tasks!\n",
                "\n",
                "## 🎯 Objective\n",
                "Create a function called `generate_password()` that:\n",
                "1. Creates an 8-character password.\n",
                "2. Uses a mix of uppercase letters, lowercase letters, and numbers.\n",
                "3. Returns the generated password as a string.\n",
                "\n",
                "## 💡 Hint\n",
                "- The `string` library has `ascii_letters` for all letters and `digits` for numbers.\n",
                "- The `random` library's `choice()` function picks a random item from a sequence.\n",
                "- Combine the characters into one string before making a random choice."
            ],
            "metadata": {
                "id": "38tzs6FAzPeq",
                "vocVersion": "1.1",
                "cellIdentifier": "ozvysgm4zuprnmeu16z5d"
            },
            "execution_count": 0,
            "outputs": []
        },
        {
            "id": "ikagzg4yoga4urqdumv5jr",
            "cell_type": "code",
            "source": [
                "# Import the libraries you need here\n",
                "import random\n",
                "import string\n",
                "\n",
                "# Complete this function\n",
                "def generate_password():\n",
                "    ### BEGIN SOLUTION\n",
                "    # Get all possible characters\n",
                "    letters = string.ascii_letters\n",
                "    numbers = string.digits\n",
                "    all_chars = letters + numbers\n",
                "\n",
                "    # Generate an 8-character password\n",
                "    password = ''\n",
                "    for _ in range(8):\n",
                "        password += random.choice(all_chars)\n",
                "\n",
                "    return password\n",
                "    ### END SOLUTION\n",
                ""
            ],
            "metadata": {
                "id": "Ad2c0zICqJMo",
                "vocVersion": "1.1",
                "cellIdentifier": "ikagzg4yoga4urqdumv5jr",
                "nbgrader": {
                    "grade": false,
                    "locked": false,
                    "solution": true
                }
            },
            "execution_count": 0,
            "outputs": []
        },
        {
            "id": "5ricw5e02w8w3995xe3wye",
            "cell_type": "code",
            "source": [
                "# Test your function\n",
                "print(\"🔐 Password Generator Test\")\n",
                "print(\"-\" * 30)\n",
                "print(f\"Generated Password: {generate_password()}\")"
            ],
            "metadata": {
                "id": "bSiIAA4n0KZo",
                "colab": {
                    "base_uri": "https://localhost:8080/"
                },
                "executionInfo": {
                    "status": "ok",
                    "timestamp": 1741653946482,
                    "user_tz": -120,
                    "elapsed": 20,
                    "user": {
                        "displayName": "Islam Zidan",
                        "userId": "17227307713370715205"
                    }
                },
                "outputId": "47ecab38-df42-4be3-f3c6-2990ebfd8b99",
                "vocVersion": "1.1",
                "cellIdentifier": "5ricw5e02w8w3995xe3wye",
                "nbgrader": {
                    "grade": false,
                    "locked": false,
                    "solution": false
                }
            },
            "execution_count": 0,
            "outputs": [
                {
                    "output_type": "stream",
                    "name": "stdout",
                    "text": [
                        "🔐 Password Generator Test\n",
                        "------------------------------\n",
                        "Generated Password: m86tIxX5\n"
                    ]
                }
            ]
        },
        {
            "id": "1sn2txmf7uadzv6yr22vlk",
            "cell_type": "code",
            "source": [
                "### BEGIN HIDDEN TESTS\n",
                "import random\n",
                "import string\n",
                "\n",
                "# Ensure function is defined\n",
                "assert 'generate_password' in globals(), \"❌ The function 'generate_password' is not defined.\"\n",
                "\n",
                "# Ensure it is callable\n",
                "assert callable(generate_password), \"❌ 'generate_password' must be a function.\"\n",
                "\n",
                "# Reset random state again before testing the student's function\n",
                "random.seed(10)\n",
                "student_password = generate_password()\n",
                "\n",
                "# Perform assertions\n",
                "assert isinstance(student_password, str), \"❌ 'generate_password' must return a string.\"\n",
                "assert len(student_password) == 8, f\"❌ 'generate_password' must return exactly 8 characters, but got {len(student_password)}.\"\n",
                "assert student_password == 'KcBEKanD', f\"❌ Expected password 'KcBEKanD', but got '{student_password}'.\"\n",
                "\n",
                "print(\"✅ 'generate_password' function passed all tests successfully.\")\n",
                "### END HIDDEN TESTS"
            ],
            "metadata": {
                "colab": {
                    "base_uri": "https://localhost:8080/"
                },
                "id": "FrkFY-40pPxd",
                "executionInfo": {
                    "status": "ok",
                    "timestamp": 1741653950473,
                    "user_tz": -120,
                    "elapsed": 15,
                    "user": {
                        "displayName": "Islam Zidan",
                        "userId": "17227307713370715205"
                    }
                },
                "outputId": "252d6302-cef3-493c-f894-954619b3aa71",
                "vocVersion": "1.1",
                "cellIdentifier": "1sn2txmf7uadzv6yr22vlk",
                "nbgrader": {
                    "grade": true,
                    "locked": true,
                    "solution": false,
                    "grade_id": "Task 1",
                    "points": "5"
                }
            },
            "execution_count": 0,
            "outputs": [
                {
                    "output_type": "stream",
                    "name": "stdout",
                    "text": [
                        "✅ 'generate_password' function passed all tests successfully.\n"
                    ]
                }
            ]
        },
        {
            "id": "tsd1miho87hxiubph6q0ah",
            "cell_type": "markdown",
            "source": [
                "# 🎫 Task 2: Customer Response Timer\n",
                "\n",
                "## 📧 Incoming Message\n",
                "```\n",
                "From: Sarah Chen\n",
                "Subject: Response Time Tracker\n",
                "\n",
                "Hi again! Now that we have our password generator, we need something simpler.\n",
                "Our support team needs to know how long they're taking to write responses to customers.\n",
                "Could you create a simple timer that:\n",
                "- Starts when they begin writing\n",
                "- Ends when they press Enter\n",
                "- Shows how many seconds they spent writing\n",
                "\n",
                "This will help us track our response times!\n",
                "-Sarah\n",
                "```\n",
                "\n",
                "## 📝 Scenario\n",
                "When support staff write responses to customers, they need to keep their responses quick but thorough. A simple timer can help them track how long they're spending on each response.\n",
                "\n",
                "## 🎯 Objective\n",
                "1. Create a function called `response_timer()` that:\n",
                "   - Prints \"Start typing your response...\".\n",
                "   - Records the start time.\n",
                "   - Waits for the user to type something and press Enter.\n",
                "   - Records the end time.\n",
                "   - Shows how many seconds they spent typing.\n",
                "\n",
                "## 💡 Hint\n",
                "- The `time` library has a `time()` function that gives the current time in seconds.\n",
                "- To get elapsed time, subtract start time from end time.\n",
                "- Use `input()` to get the user's response."
            ],
            "metadata": {
                "id": "6rdg9KeNzNOw",
                "vocVersion": "1.1",
                "cellIdentifier": "tsd1miho87hxiubph6q0ah"
            },
            "execution_count": 0,
            "outputs": []
        },
        {
            "id": "tkp8j079jslgqv0vld9ckp",
            "cell_type": "code",
            "source": [
                "# Starter Code\n",
                "import time\n",
                "\n",
                "def response_timer():\n",
                "    # 1. Print start message\n",
                "    # 2. Record the start time\n",
                "    # 3. Get the user's input\n",
                "    # 4. Record the end time\n",
                "    # 5. Calculate and print the elapsed time\n",
                "    ### BEGIN SOLUTION\n",
                "    # Print the instructions\n",
                "    print(\"Start typing your response...\")\n",
                "\n",
                "    # Record the start time\n",
                "    start_time = time.time()\n",
                "\n",
                "    # Get the user's response\n",
                "    response = input()\n",
                "\n",
                "    # Record the end time\n",
                "    end_time = time.time()\n",
                "\n",
                "    # Calculate and show the elapsed time\n",
                "    elapsed_time = end_time - start_time\n",
                "    print(f\"\\nTime spent typing: {elapsed_time:.2f} seconds\")\n",
                "\n",
                "    return elapsed_time\n",
                "    ### END SOLUTION\n",
                "\n",
                "# Test your function\n",
                "print(\"⏱️ Response Timer\")\n",
                "print(\"-\" * 30)\n",
                "response_timer()"
            ],
            "metadata": {
                "id": "D1vnzPtA1EPt",
                "colab": {
                    "base_uri": "https://localhost:8080/"
                },
                "executionInfo": {
                    "status": "ok",
                    "timestamp": 1741654929734,
                    "user_tz": -120,
                    "elapsed": 1593,
                    "user": {
                        "displayName": "Islam Zidan",
                        "userId": "17227307713370715205"
                    }
                },
                "outputId": "6d4f08db-fe8d-42ab-e049-0af8d514641c",
                "vocVersion": "1.1",
                "cellIdentifier": "tkp8j079jslgqv0vld9ckp",
                "nbgrader": {
                    "grade": false,
                    "locked": false,
                    "solution": true
                }
            },
            "execution_count": 0,
            "outputs": [
                {
                    "output_type": "stream",
                    "name": "stdout",
                    "text": [
                        "⏱️ Response Timer\n",
                        "------------------------------\n",
                        "Start typing your response...\n",
                        "1\n",
                        "\n",
                        "Time spent typing: 1.59 seconds\n"
                    ]
                },
                {
                    "output_type": "execute_result",
                    "data": {
                        "text/plain": [
                            "1.5884568691253662"
                        ]
                    },
                    "metadata": {},
                    "execution_count": 1
                }
            ]
        },
        {
            "id": "u73ay8xg54qs6neoagqu8a",
            "cell_type": "code",
            "source": [
                "# Test the function\n",
                "def test_response_timer():\n",
                "    print(\"Testing response timer...\")\n",
                "    print(\"Please type 'test' and press Enter when prompted.\")\n",
                "\n",
                "    # Run the timer\n",
                "    response_timer()\n",
                "\n",
                "    print(\"\\nIf you saw:\")\n",
                "    print(\"1. Start message\")\n",
                "    print(\"2. Your typing time in seconds\")\n",
                "    print(\"Then all tests passed!\")\n",
                "\n",
                "# Run the test\n",
                "test_response_timer()"
            ],
            "metadata": {
                "id": "6q_PerhW1Ky2",
                "colab": {
                    "base_uri": "https://localhost:8080/"
                },
                "executionInfo": {
                    "status": "ok",
                    "timestamp": 1741654933647,
                    "user_tz": -120,
                    "elapsed": 1271,
                    "user": {
                        "displayName": "Islam Zidan",
                        "userId": "17227307713370715205"
                    }
                },
                "outputId": "026d1f79-e9ef-4fcd-9b3d-704c7063da18",
                "vocVersion": "1.1",
                "cellIdentifier": "u73ay8xg54qs6neoagqu8a"
            },
            "execution_count": 0,
            "outputs": [
                {
                    "output_type": "stream",
                    "name": "stdout",
                    "text": [
                        "Testing response timer...\n",
                        "Please type 'test' and press Enter when prompted.\n",
                        "Start typing your response...\n",
                        "2\n",
                        "\n",
                        "Time spent typing: 1.28 seconds\n",
                        "\n",
                        "If you saw:\n",
                        "1. Start message\n",
                        "2. Your typing time in seconds\n",
                        "Then all tests passed!\n"
                    ]
                }
            ]
        },
        {
            "id": "9vvp97fr0x01oe2604h2m1",
            "cell_type": "code",
            "source": [
                "### BEGIN HIDDEN TESTS\n",
                "import time\n",
                "from io import StringIO\n",
                "import sys\n",
                "from unittest.mock import patch\n",
                "\n",
                "# Ensure function exists\n",
                "assert 'response_timer' in globals(), \"❌ The function 'response_timer' is not defined.\"\n",
                "\n",
                "# Save original stdout\n",
                "original_stdout = sys.stdout\n",
                "\n",
                "# Capture printed output\n",
                "captured_output = StringIO()\n",
                "sys.stdout = captured_output\n",
                "\n",
                "try:\n",
                "    # Mock `input()` to simulate user response and `time.time()` to simulate elapsed time\n",
                "    with patch(\"builtins.input\", return_value=\"test response\"), \\\n",
                "         patch(\"time.time\", side_effect=[100.0, 103.5]):  # Simulate a 3.5-second delay\n",
                "\n",
                "        elapsed_time = response_timer()  # Run function\n",
                "\n",
                "finally:\n",
                "    # Restore stdout properly\n",
                "    sys.stdout = original_stdout\n",
                "\n",
                "# Get captured output\n",
                "output_lines = captured_output.getvalue().strip().split(\"\\n\")\n",
                "\n",
                "# Expected start message\n",
                "expected_start_message = \"Start typing your response...\"\n",
                "\n",
                "# Ensure printed messages include the expected start message\n",
                "assert expected_start_message in output_lines, f\"❌ Expected start message '{expected_start_message}', but got: {output_lines}\"\n",
                "\n",
                "# Ensure elapsed time was correctly calculated\n",
                "assert isinstance(elapsed_time, float), \"❌ The function should return a float.\"\n",
                "assert 3.4 <= elapsed_time <= 3.6, f\"❌ Expected elapsed time around 3.5s, but got {elapsed_time:.2f}s.\"\n",
                "\n",
                "print(\"✅ 'response_timer' function executed correctly and passed all assertions.\")\n",
                "### END HIDDEN TESTS"
            ],
            "metadata": {
                "colab": {
                    "base_uri": "https://localhost:8080/"
                },
                "id": "jFtulpSItxZj",
                "executionInfo": {
                    "status": "ok",
                    "timestamp": 1741654936651,
                    "user_tz": -120,
                    "elapsed": 6,
                    "user": {
                        "displayName": "Islam Zidan",
                        "userId": "17227307713370715205"
                    }
                },
                "outputId": "0a800c4b-aec8-494a-8fe1-bae839f4efa3",
                "vocVersion": "1.1",
                "cellIdentifier": "9vvp97fr0x01oe2604h2m1",
                "nbgrader": {
                    "grade": true,
                    "locked": true,
                    "solution": false,
                    "grade_id": "Task 2",
                    "points": "5"
                }
            },
            "execution_count": 0,
            "outputs": [
                {
                    "output_type": "stream",
                    "name": "stdout",
                    "text": [
                        "✅ 'response_timer' function executed correctly and passed all assertions.\n"
                    ]
                }
            ]
        },
        {
            "id": "h24j637k06jrjkkv393cq",
            "cell_type": "markdown",
            "source": [
                "# 🎫 Task 3: Support Status Dashboard\n",
                "\n",
                "## 📧 Incoming Message\n",
                "```\n",
                "From: Sarah Chen\n",
                "Subject: Support Status Display Needed\n",
                "\n",
                "The team needs a simple dashboard that shows our current support status.\n",
                "We have different colored emojis for different statuses, but it's getting messy.\n",
                "Could you create a tool that:\n",
                "- Uses the emoji library for status icons\n",
                "- Shows status for different systems (website, database, api)\n",
                "- Formats it nicely\n",
                "\n",
                "This will help us quickly see what's working and what isn't!\n",
                "```\n",
                "\n",
                "## 📝 Scenario\n",
                "The support team needs to quickly check and display the status of different systems. They want to use green circles for \"operational\", yellow triangles for \"issues\", and red squares for \"down\", but typing the emojis manually is error-prone.\n",
                "\n",
                "## 🎯 Objective\n",
                "1. Create a function called `show_status()` that:\n",
                "   - Takes a dictionary of system statuses as input.\n",
                "   - Uses the emoji library to convert status codes to emojis.\n",
                "   - Prints a formatted status for each system.\n",
                "2. Status codes should be:\n",
                "   - \"up\" = green circle\n",
                "   - \"issues\" = yellow triangle\n",
                "   - \"down\" = red square\n",
                "\n",
                "## 💡 Hint\n",
                "- Import the emoji library to convert shortcodes to emojis.\n",
                "- Use a dictionary to store status codes and their emoji shortcodes.\n",
                "- Loop through the systems dictionary to display each status."
            ],
            "metadata": {
                "id": "xZa2GMt52P8O",
                "vocVersion": "1.1",
                "cellIdentifier": "h24j637k06jrjkkv393cq"
            },
            "execution_count": 0,
            "outputs": []
        },
        {
            "id": "1ks2p5btgbn8oo4u4yfus",
            "cell_type": "code",
            "source": [
                "# First install emoji library, we know this is different from what you've seen before but don't worry it works the same :)\n",
                "import sys\n",
                "!{sys.executable} -m pip install emoji\n",
                "\n",
                "# Then your code\n",
                "import emoji"
            ],
            "metadata": {
                "colab": {
                    "base_uri": "https://localhost:8080/"
                },
                "id": "QuCDowsO2c6d",
                "executionInfo": {
                    "status": "ok",
                    "timestamp": 1741655753910,
                    "user_tz": -120,
                    "elapsed": 2562,
                    "user": {
                        "displayName": "Islam Zidan",
                        "userId": "17227307713370715205"
                    }
                },
                "outputId": "0959b38c-cf30-47cb-8d56-ed6ae2dfd358",
                "vocVersion": "1.1",
                "cellIdentifier": "1ks2p5btgbn8oo4u4yfus"
            },
            "execution_count": 2,
            "outputs": [
                {
                    "output_type": "stream",
                    "name": "stdout",
                    "text": [
                        "Collecting emoji\n  Downloading emoji-2.14.1-py3-none-any.whl.metadata (5.7 kB)\nDownloading emoji-2.14.1-py3-none-any.whl (590 kB)\n\u001b[?25l   \u001b[90m━━━━━━━━━━━━━━━━━━━━━━━━━━━━━━━━━━━━━━━━\u001b[0m \u001b[32m0.0/590.6 kB\u001b[0m \u001b[31m?\u001b[0m eta \u001b[36m-:--:--\u001b[0m\r\u001b[2K   \u001b[91m━━━━━━━━━━━━━━━━━━━━━━━━━━━━━━━━━━━━━━\u001b[0m\u001b[90m╺\u001b[0m\u001b[90m━\u001b[0m \u001b[32m563.2/590.6 kB\u001b[0m \u001b[31m16.8 MB/s\u001b[0m eta \u001b[36m0:00:01\u001b[0m\r\u001b[2K   \u001b[90m━━━━━━━━━━━━━━━━━━━━━━━━━━━━━━━━━━━━━━━━\u001b[0m \u001b[32m590.6/590.6 kB\u001b[0m \u001b[31m13.3 MB/s\u001b[0m eta \u001b[36m0:00:00\u001b[0m\n\u001b[?25h",
                        "Installing collected packages: emoji\nSuccessfully installed emoji-2.14.1\n"
                    ]
                }
            ]
        },
        {
            "id": "51ta8zeev2q5bce0s34dm",
            "cell_type": "code",
            "source": [
                "# Starter code\n",
                "def show_status(systems):\n",
                "    # Dictionary for status emojis\n",
                "    status_icons = {\n",
                "        \"up\": \":green_circle:\",\n",
                "        \"issues\": \":warning:\",\n",
                "        \"down\": \":red_square:\"\n",
                "    }\n",
                "\n",
                "    # 1. Loop through the systems\n",
                "    # 2. Get correct emoji for each status\n",
                "    # 3. Print formatted status line\n",
                "    ### BEGIN SOLUTION\n",
                "    # Loop through each system and its status\n",
                "    for system in systems:\n",
                "        status = systems[system]\n",
                "\n",
                "        # Check if the status exists in the dictionary\n",
                "        if status in status_icons:\n",
                "            status_icon = status_icons[status]\n",
                "        else:\n",
                "            status_icon = \":question:\"\n",
                "\n",
                "        # Convert shortcode to emoji and print\n",
                "        status_line = emoji.emojize(status_icon) + \" \" + system + \": \" + status\n",
                "        print(status_line)\n",
                "    ### END SOLUTION"
            ],
            "metadata": {
                "id": "hUNGAiv02lbu",
                "vocVersion": "1.1",
                "cellIdentifier": "51ta8zeev2q5bce0s34dm",
                "nbgrader": {
                    "grade": false,
                    "locked": false,
                    "solution": true
                }
            },
            "execution_count": 4,
            "outputs": []
        },
        {
            "id": "3s36t2db37dyy71m123199",
            "cell_type": "code",
            "source": [
                "# Test with sample systems\n",
                "systems = {\n",
                "    \"Website\": \"up\",\n",
                "    \"Database\": \"issues\",\n",
                "    \"API\": \"down\"\n",
                "}\n",
                "\n",
                "print(\"📊 System Status Dashboard\")\n",
                "print(\"-\" * 30)\n",
                "show_status(systems)"
            ],
            "metadata": {
                "id": "6osWCuMn2urf",
                "colab": {
                    "base_uri": "https://localhost:8080/"
                },
                "executionInfo": {
                    "status": "ok",
                    "timestamp": 1741656182304,
                    "user_tz": -120,
                    "elapsed": 10,
                    "user": {
                        "displayName": "Islam Zidan",
                        "userId": "17227307713370715205"
                    }
                },
                "outputId": "ad96883e-5030-4441-d16c-63a59bbc5b0c",
                "vocVersion": "1.1",
                "cellIdentifier": "3s36t2db37dyy71m123199"
            },
            "execution_count": 5,
            "outputs": [
                {
                    "output_type": "stream",
                    "name": "stdout",
                    "text": [
                        "📊 System Status Dashboard\n------------------------------\n🟢 Website: up\n⚠️ Database: issues\n🟥 API: down\n"
                    ]
                }
            ]
        },
        {
            "id": "4l8a2nbv20u9wrxmsntweo",
            "cell_type": "code",
            "source": [
                "### BEGIN HIDDEN TESTS\n",
                "import sys\n",
                "from io import StringIO\n",
                "import emoji\n",
                "\n",
                "# Ensure the function is defined\n",
                "assert 'show_status' in globals(), \"❌ The function 'show_status' is not defined.\"\n",
                "\n",
                "# Define a test case\n",
                "test_systems = {\n",
                "    \"Database\": \"up\",\n",
                "    \"API\": \"issues\",\n",
                "    \"Frontend\": \"down\",\n",
                "    \"Auth\": \"unknown\"  # This should use the default \":question:\"\n",
                "}\n",
                "\n",
                "# Expected output (emoji.emojize converts the emoji codes to actual emojis)\n",
                "expected_output = [\n",
                "    emoji.emojize(\":green_circle:\") + \" Database: up\",\n",
                "    emoji.emojize(\":warning:\") + \" API: issues\",\n",
                "    emoji.emojize(\":red_square:\") + \" Frontend: down\",\n",
                "    emoji.emojize(\":question:\") + \" Auth: unknown\"\n",
                "]\n",
                "\n",
                "# Capture printed output\n",
                "original_stdout = sys.stdout\n",
                "captured_output = StringIO()\n",
                "sys.stdout = captured_output\n",
                "\n",
                "try:\n",
                "    # Run the function\n",
                "    show_status(test_systems)\n",
                "\n",
                "finally:\n",
                "    # Restore stdout\n",
                "    sys.stdout = original_stdout\n",
                "\n",
                "# Get captured output and clean up formatting\n",
                "output_lines = captured_output.getvalue().strip().split(\"\\n\")\n",
                "\n",
                "# Perform assertions\n",
                "assert output_lines == expected_output, f\"❌ Expected {expected_output}, but got {output_lines}\"\n",
                "\n",
                "print(\"✅ 'show_status' function executed correctly and passed all assertions.\")\n",
                "### END HIDDEN TESTS"
            ],
            "metadata": {
                "colab": {
                    "base_uri": "https://localhost:8080/"
                },
                "id": "W5tiuHy2zF-q",
                "executionInfo": {
                    "status": "ok",
                    "timestamp": 1741656317159,
                    "user_tz": -120,
                    "elapsed": 33,
                    "user": {
                        "displayName": "Islam Zidan",
                        "userId": "17227307713370715205"
                    }
                },
                "outputId": "8045cc10-a713-4e92-b8ca-6a43a1a224db",
                "vocVersion": "1.1",
                "cellIdentifier": "4l8a2nbv20u9wrxmsntweo",
                "nbgrader": {
                    "grade": true,
                    "locked": true,
                    "solution": false,
                    "grade_id": "Task 3",
                    "points": "5"
                }
            },
            "execution_count": 0,
            "outputs": [
                {
                    "output_type": "stream",
                    "name": "stdout",
                    "text": [
                        "✅ 'show_status' function executed correctly and passed all assertions.\n"
                    ]
                }
            ]
        },
        {
            "id": "v3pv9rl08vhyzafm8mao3r",
            "cell_type": "markdown",
            "source": [
                "# 🎫 Task 4: Support Ticket Counter\n",
                "\n",
                "## 📧 Incoming Message\n",
                "```\n",
                "From: Sarah Chen\n",
                "Subject: Ticket Statistics\n",
                "\n",
                "Our team needs to calculate some basic stats about support tickets.\n",
                "Could you create a simple tool that:\n",
                "- Takes daily ticket counts for a week\n",
                "- Finds the busiest and quietest days\n",
                "- Calculates the average tickets per day\n",
                "\n",
                "The math library would be perfect for this!\n",
                "```\n",
                "\n",
                "## 📝 Scenario\n",
                "The support team wants to understand their weekly workload better. A simple tool using the math library can help them analyze their ticket numbers and spot patterns.\n",
                "\n",
                "## 🎯 Objective\n",
                "1. Create a function called `analyze_tickets()` that:\n",
                "   - Takes a list of daily ticket counts.\n",
                "   - Uses math.ceil() for rounding up averages.\n",
                "   - Uses min() and max() for finding the busiest/quietest days.\n",
                "   - Prints a simple report.\n",
                "   - Returns the busiest days, quietest days and average day.\n",
                "2. Round all averages up to whole numbers (we want to overestimate rather than underestimate workload).\n",
                "\n",
                "## 💡 Hint\n",
                "- Import the math library.\n",
                "- Use math.ceil() to round up decimals to whole numbers.\n",
                "- Calculate the average by summing and dividing by the length of the list."
            ],
            "metadata": {
                "id": "bQCvCITgmX8K",
                "vocVersion": "1.1",
                "cellIdentifier": "v3pv9rl08vhyzafm8mao3r"
            },
            "execution_count": 0,
            "outputs": []
        },
        {
            "id": "zvmckiac0m2h331b03lb3",
            "cell_type": "code",
            "source": [
                "# Starter code\n",
                "import math\n",
                "\n",
                "def analyze_tickets(daily_tickets):\n",
                "    busiest=None\n",
                "    quietest=None\n",
                "    average=None\n",
                "    # Keep the code above this line unchanged\n",
                "    # Your code here to:\n",
                "    # 1. Find the highest and the lowest numbers\n",
                "    # 2. Calculate the average and round up\n",
                "    # 3. Print the results\n",
                "    ### BEGIN SOLUTION\n",
                "    # Find the busiest and the quietest days\n",
                "    busiest = max(daily_tickets)\n",
                "    quietest = min(daily_tickets)\n",
                "\n",
                "    # Calculate the average (rounded up)\n",
                "    total = sum(daily_tickets)\n",
                "    average = math.ceil(total / len(daily_tickets))\n",
                "\n",
                "    # Print the report\n",
                "    print(f\"Busiest day: {busiest} tickets\")\n",
                "    print(f\"Quietest day: {quietest} tickets\")\n",
                "    print(f\"Average per day: {average} tickets\")\n",
                "    ### END SOLUTION\n",
                "    # Keep this line unchanged\n",
                "    return busiest, quietest, average\n",
                "\n",
                "# Test with sample week\n",
                "tickets = [14, 21, 15, 25, 12, 18, 10]\n",
                "print(\"📊 Weekly Ticket Analysis\")\n",
                "print(\"-\" * 30)\n",
                "busiest,quietest,average = analyze_tickets(tickets)"
            ],
            "metadata": {
                "colab": {
                    "base_uri": "https://localhost:8080/"
                },
                "id": "XRlaoTs2mx5M",
                "executionInfo": {
                    "status": "ok",
                    "timestamp": 1741659336949,
                    "user_tz": -120,
                    "elapsed": 11,
                    "user": {
                        "displayName": "Islam Zidan",
                        "userId": "17227307713370715205"
                    }
                },
                "outputId": "5958c323-6de8-411f-9616-ab0528ca965d",
                "vocVersion": "1.1",
                "cellIdentifier": "zvmckiac0m2h331b03lb3",
                "nbgrader": {
                    "grade": false,
                    "locked": false,
                    "solution": true
                }
            },
            "execution_count": 0,
            "outputs": [
                {
                    "output_type": "stream",
                    "name": "stdout",
                    "text": [
                        "📊 Weekly Ticket Analysis\n",
                        "------------------------------\n",
                        "Busiest day: 25 tickets\n",
                        "Quietest day: 10 tickets\n",
                        "Average per day: 17 tickets\n"
                    ]
                }
            ]
        },
        {
            "id": "muw1wgmyopillnf2j3xcm",
            "cell_type": "code",
            "source": [
                "# Test Function\n",
                "def test_ticket_analyzer():\n",
                "    print(\"Testing ticket analyzer...\\n\")\n",
                "\n",
                "    # Test case\n",
                "    test_tickets = [14, 21, 15, 25, 12, 18, 10]\n",
                "\n",
                "    print(\"Testing with tickets:\", test_tickets)\n",
                "    analyze_tickets(test_tickets)\n",
                "\n",
                "    print(\"\\nIf you see:\")\n",
                "    print(\"1. Busiest day (25 tickets)\")\n",
                "    print(\"2. Quietest day (10 tickets)\")\n",
                "    print(\"3. Average rounded up\")\n",
                "    print(\"Then test passed!\")\n",
                "\n",
                "# Run the test\n",
                "test_ticket_analyzer()"
            ],
            "metadata": {
                "colab": {
                    "base_uri": "https://localhost:8080/"
                },
                "id": "CgTwy89Tm4U0",
                "executionInfo": {
                    "status": "ok",
                    "timestamp": 1741659339092,
                    "user_tz": -120,
                    "elapsed": 13,
                    "user": {
                        "displayName": "Islam Zidan",
                        "userId": "17227307713370715205"
                    }
                },
                "outputId": "eb5b1948-02ae-4aaa-c67c-8ffb5d4ce65b",
                "vocVersion": "1.1",
                "cellIdentifier": "muw1wgmyopillnf2j3xcm",
                "nbgrader": {
                    "grade": false,
                    "locked": false,
                    "solution": false
                }
            },
            "execution_count": 0,
            "outputs": [
                {
                    "output_type": "stream",
                    "name": "stdout",
                    "text": [
                        "Testing ticket analyzer...\n",
                        "\n",
                        "Testing with tickets: [14, 21, 15, 25, 12, 18, 10]\n",
                        "Busiest day: 25 tickets\n",
                        "Quietest day: 10 tickets\n",
                        "Average per day: 17 tickets\n",
                        "\n",
                        "If you see:\n",
                        "1. Busiest day (25 tickets)\n",
                        "2. Quietest day (10 tickets)\n",
                        "3. Average rounded up\n",
                        "Then test passed!\n"
                    ]
                }
            ]
        },
        {
            "id": "1lcdgfptmqxjdp5unrrebq",
            "cell_type": "code",
            "source": [
                "### BEGIN HIDDEN TESTS\n",
                "tickets = [14, 21, 15, 25, 12, 18, 10]\n",
                "analyze_tickets(tickets)\n",
                "# Ensure the variables exist\n",
                "assert 'busiest' in globals(), \"❌ The variable 'busiest' is not defined.\"\n",
                "assert 'quietest' in globals(), \"❌ The variable 'quietest' is not defined.\"\n",
                "assert 'average' in globals(), \"❌ The variable 'average' is not defined.\"\n",
                "\n",
                "# Expected values based on sample input\n",
                "expected_busiest = max(tickets)  # 25\n",
                "expected_quietest = min(tickets)  # 10\n",
                "expected_average = math.ceil(sum(tickets) / len(tickets))  # 16\n",
                "\n",
                "# Perform assertions\n",
                "assert busiest == expected_busiest, f\"❌ Expected 'busiest' to be {expected_busiest}, but got {busiest}.\"\n",
                "assert quietest == expected_quietest, f\"❌ Expected 'quietest' to be {expected_quietest}, but got {quietest}.\"\n",
                "assert average == expected_average, f\"❌ Expected 'average' to be {expected_average}, but got {average}.\"\n",
                "\n",
                "print(\"✅ All variables have correct values!\")\n",
                "### END HIDDEN TESTS"
            ],
            "metadata": {
                "colab": {
                    "base_uri": "https://localhost:8080/"
                },
                "id": "WY9qsEeN966O",
                "executionInfo": {
                    "status": "ok",
                    "timestamp": 1741659341181,
                    "user_tz": -120,
                    "elapsed": 13,
                    "user": {
                        "displayName": "Islam Zidan",
                        "userId": "17227307713370715205"
                    }
                },
                "outputId": "bc317e21-7078-4495-8d85-0124e2612465",
                "vocVersion": "1.1",
                "cellIdentifier": "1lcdgfptmqxjdp5unrrebq",
                "nbgrader": {
                    "grade": true,
                    "locked": true,
                    "solution": false,
                    "grade_id": "Task 4",
                    "points": "5"
                }
            },
            "execution_count": 0,
            "outputs": [
                {
                    "output_type": "stream",
                    "name": "stdout",
                    "text": [
                        "Busiest day: 25 tickets\n",
                        "Quietest day: 10 tickets\n",
                        "Average per day: 17 tickets\n",
                        "✅ All variables have correct values!\n"
                    ]
                }
            ]
        },
        {
            "id": "a1fyab12kul5cx3dl2bzwf",
            "cell_type": "markdown",
            "source": [
                "# 🎫 Task 5: Support URL Checker\n",
                "\n",
                "## 📧 Incoming Message\n",
                "```\n",
                "From: Sarah Chen\n",
                "Subject: Customer URL Handler\n",
                "\n",
                "The team often gets URLs from customers that are missing 'https://' or have extra spaces.\n",
                "We need a simple tool that:\n",
                "- Cleans up URLs customers send us\n",
                "- Adds 'https://' if it's missing\n",
                "- Removes any extra spaces\n",
                "- Shows the original and cleaned URL\n",
                "- Returns the cleaned URL\n",
                "\n",
                "The urllib library would be perfect for this!\n",
                "```\n",
                "\n",
                "## 📝 Scenario\n",
                "Support staff receive messy URLs from customers all day. Before checking these links, we need to make sure they're properly formatted. A URL cleaning tool will save time and prevent errors.\n",
                "\n",
                "## 🎯 Objective\n",
                "1. Create a function called `clean_url()` that:\n",
                "   - Takes a messy URL as input (like \"   www.EXAMPLE.com  \").\n",
                "   - Uses urllib.parse to properly handle URLs.\n",
                "   - Fixes missing \"https://\" and extra spaces.\n",
                "   - Shows both original and fixed versions.\n",
                "   - Return the cleaned URL.\n",
                "\n",
                "## 📚 Understanding urllib.parse\n",
                "The urllib.parse library helps us work with URLs. Here's what you need to know:\n",
                "\n",
                "1. A URL has different parts:\n",
                "   ```\n",
                "   https://   www.example.com   /page\n",
                "   ^scheme    ^domain/netloc    ^path\n",
                "   ```\n",
                "\n",
                "2. The `urlparse()` function splits a URL into these parts:\n",
                "   ```python\n",
                "   from urllib.parse import urlparse\n",
                "   \n",
                "   # Example:\n",
                "   result = urlparse(\"https://www.example.com/page\")\n",
                "   print(result.scheme)    # prints: \"https\"\n",
                "   print(result.netloc)    # prints: \"www.example.com\"\n",
                "   print(result.path)      # prints: \"/page\"\n",
                "   ```\n",
                "\n",
                "3. If scheme (http:// or https://) is missing:\n",
                "   ```python\n",
                "   result = urlparse(\"www.example.com\")\n",
                "   print(result.scheme)    # prints: \"\" (empty string)\n",
                "   ```\n",
                "\n",
                "## ✅ Step-by-Step Plan\n",
                "1. First strip spaces from URL.\n",
                "2. Use urlparse to check if 'https://' exists.\n",
                "3. Add 'https://' if it's missing.\n",
                "4. Show the before and after.\n",
                "5. Return the clean URL.\n",
                ""
            ],
            "metadata": {
                "id": "rDcL1BvMnx2o",
                "vocVersion": "1.1",
                "cellIdentifier": "a1fyab12kul5cx3dl2bzwf"
            },
            "execution_count": 0,
            "outputs": []
        },
        {
            "id": "2ufif1e44nq4dw68dukvvv",
            "cell_type": "code",
            "source": [
                "from urllib.parse import urlparse, urljoin\n",
                "\n",
                "def clean_url(messy_url):\n",
                "    # 1. Remove the extra spaces\n",
                "    # 2. Check for https://\n",
                "    # 3. Add it if missing\n",
                "    # 4. Show the before/after\n",
                "    # 5. Return the correct url\n",
                "    ### BEGIN SOLUTION\n",
                "    # Show original\n",
                "    print(\"Original:\", messy_url)\n",
                "\n",
                "    # Remove spaces\n",
                "    url = messy_url.strip()\n",
                "\n",
                "    # Parse the URL\n",
                "    parsed = urlparse(url)\n",
                "\n",
                "    # Add https:// if no scheme\n",
                "    if not parsed.scheme:\n",
                "        url = \"https://\" + url\n",
                "\n",
                "    # Show cleaned version\n",
                "    print(\"Cleaned:\", url)\n",
                "    print()\n",
                "    return url\n",
                "    ### END SOLUTION\n",
                "\n",
                "# Test URLs\n",
                "urls = [\n",
                "    \"www.example.com\",\n",
                "    \"   https://test.com   \",\n",
                "    \"WEBSITE.COM/page\"\n",
                "]\n",
                "\n",
                "print(\"🔗 URL Cleaner\")\n",
                "print(\"-\" * 30)\n",
                "cleaned_urls=[]\n",
                "for url in urls:\n",
                "    cleaned_urls.append(clean_url(url))"
            ],
            "metadata": {
                "colab": {
                    "base_uri": "https://localhost:8080/"
                },
                "id": "c_ydHsEQn4Fk",
                "executionInfo": {
                    "status": "ok",
                    "timestamp": 1741659988834,
                    "user_tz": -120,
                    "elapsed": 10,
                    "user": {
                        "displayName": "Islam Zidan",
                        "userId": "17227307713370715205"
                    }
                },
                "outputId": "ef02d08a-a9bc-49d0-e33b-d5a49e6bedd5",
                "vocVersion": "1.1",
                "cellIdentifier": "2ufif1e44nq4dw68dukvvv",
                "nbgrader": {
                    "grade": false,
                    "locked": false,
                    "solution": true
                }
            },
            "execution_count": 0,
            "outputs": [
                {
                    "output_type": "stream",
                    "name": "stdout",
                    "text": [
                        "🔗 URL Cleaner\n",
                        "------------------------------\n",
                        "Original: www.example.com\n",
                        "Cleaned: https://www.example.com\n",
                        "\n",
                        "Original:    https://test.com   \n",
                        "Cleaned: https://test.com\n",
                        "\n",
                        "Original: WEBSITE.COM/page\n",
                        "Cleaned: https://WEBSITE.COM/page\n",
                        "\n"
                    ]
                }
            ]
        },
        {
            "id": "d1fe1l1xthflte9el167le",
            "cell_type": "code",
            "source": [
                "# Test Function\n",
                "\n",
                "def test_url_cleaner():\n",
                "    print(\"Testing URL cleaner...\\n\")\n",
                "\n",
                "    test_urls = [\n",
                "        \"www.example.com\",\n",
                "        \"   website.com   \",\n",
                "        \"https://TEST.com\",\n",
                "        \"   http://spaces.com   \"\n",
                "    ]\n",
                "\n",
                "    for url in test_urls:\n",
                "        print(\"Original:\", url)\n",
                "        clean_url(url)\n",
                "        print(\"-\" * 30)\n",
                "\n",
                "    print(\"\\nIf all URLs are:\")\n",
                "    print(\"1. Starting with https://\")\n",
                "    print(\"2. Free of extra spaces\")\n",
                "    print(\"Then tests passed!\")\n",
                "\n",
                "# Run the tests\n",
                "test_url_cleaner()"
            ],
            "metadata": {
                "id": "Lo7J5MxyoC1m",
                "colab": {
                    "base_uri": "https://localhost:8080/"
                },
                "executionInfo": {
                    "status": "ok",
                    "timestamp": 1741660006407,
                    "user_tz": -120,
                    "elapsed": 37,
                    "user": {
                        "displayName": "Islam Zidan",
                        "userId": "17227307713370715205"
                    }
                },
                "outputId": "eb119fd7-4a9b-4c3b-fd1b-b4d731ee92d7",
                "vocVersion": "1.1",
                "cellIdentifier": "d1fe1l1xthflte9el167le"
            },
            "execution_count": 0,
            "outputs": [
                {
                    "output_type": "stream",
                    "name": "stdout",
                    "text": [
                        "Testing URL cleaner...\n",
                        "\n",
                        "Original: www.example.com\n",
                        "Original: www.example.com\n",
                        "Cleaned: https://www.example.com\n",
                        "\n",
                        "------------------------------\n",
                        "Original:    website.com   \n",
                        "Original:    website.com   \n",
                        "Cleaned: https://website.com\n",
                        "\n",
                        "------------------------------\n",
                        "Original: https://TEST.com\n",
                        "Original: https://TEST.com\n",
                        "Cleaned: https://TEST.com\n",
                        "\n",
                        "------------------------------\n",
                        "Original:    http://spaces.com   \n",
                        "Original:    http://spaces.com   \n",
                        "Cleaned: http://spaces.com\n",
                        "\n",
                        "------------------------------\n",
                        "\n",
                        "If all URLs are:\n",
                        "1. Starting with https://\n",
                        "2. Free of extra spaces\n",
                        "Then tests passed!\n"
                    ]
                }
            ]
        },
        {
            "id": "ufh6wyoguk1hjzc9finbk",
            "cell_type": "code",
            "source": [
                "### BEGIN HIDDEN TESTS\n",
                "from urllib.parse import urlparse\n",
                "\n",
                "# Ensure function exists\n",
                "assert 'clean_url' in globals(), \"❌ The function 'clean_url' is not defined.\"\n",
                "\n",
                "# Ensure function is callable\n",
                "assert callable(clean_url), \"❌ 'clean_url' must be a function.\"\n",
                "\n",
                "# Test URLs and expected outputs\n",
                "test_urls = [\n",
                "    \"www.example.com\",\n",
                "    \"   https://test.com   \",\n",
                "    \"WEBSITE.COM/page\"\n",
                "]\n",
                "\n",
                "expected_outputs = [\n",
                "    \"https://www.example.com\",\n",
                "    \"https://test.com\",\n",
                "    \"https://WEBSITE.COM/page\"\n",
                "]\n",
                "\n",
                "# Run assertions\n",
                "for messy_url, expected in zip(test_urls, expected_outputs):\n",
                "    result = clean_url(messy_url)\n",
                "    assert result == expected, f\"❌ Expected '{expected}', but got '{result}'.\"\n",
                "\n",
                "print(\"✅ 'clean_url' function executed correctly and returned expected results.\")\n",
                "### END HIDDEN TESTS"
            ],
            "metadata": {
                "colab": {
                    "base_uri": "https://localhost:8080/"
                },
                "id": "knW_f6l-Bt1y",
                "executionInfo": {
                    "status": "ok",
                    "timestamp": 1741660122665,
                    "user_tz": -120,
                    "elapsed": 41,
                    "user": {
                        "displayName": "Islam Zidan",
                        "userId": "17227307713370715205"
                    }
                },
                "outputId": "c48f7c38-5f5d-4ac9-a252-e7fd557bd52c",
                "vocVersion": "1.1",
                "cellIdentifier": "ufh6wyoguk1hjzc9finbk",
                "nbgrader": {
                    "grade": true,
                    "locked": true,
                    "solution": false,
                    "grade_id": "Task 5",
                    "points": "5"
                }
            },
            "execution_count": 0,
            "outputs": [
                {
                    "output_type": "stream",
                    "name": "stdout",
                    "text": [
                        "Original: www.example.com\n",
                        "Cleaned: https://www.example.com\n",
                        "\n",
                        "Original:    https://test.com   \n",
                        "Cleaned: https://test.com\n",
                        "\n",
                        "Original: WEBSITE.COM/page\n",
                        "Cleaned: https://WEBSITE.COM/page\n",
                        "\n",
                        "✅ 'clean_url' function executed correctly and returned expected results.\n"
                    ]
                }
            ]
        }
    ]
}